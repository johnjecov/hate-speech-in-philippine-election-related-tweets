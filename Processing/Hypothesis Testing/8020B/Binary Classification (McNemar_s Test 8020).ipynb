{
 "cells": [
  {
   "cell_type": "code",
   "execution_count": 1,
   "id": "9541e899",
   "metadata": {},
   "outputs": [],
   "source": [
    "import numpy as np\n",
    "import pandas as pd\n",
    "import seaborn as sns\n",
    "import matplotlib.pyplot as plt\n",
    "import os, re, csv, math, codecs, pickle\n",
    "from statsmodels.stats.contingency_tables import mcnemar"
   ]
  },
  {
   "cell_type": "code",
   "execution_count": 2,
   "id": "857892b7",
   "metadata": {},
   "outputs": [
    {
     "name": "stdout",
     "output_type": "stream",
     "text": [
      "[[1]\n",
      " [0]\n",
      " [0]\n",
      " ...\n",
      " [1]\n",
      " [1]\n",
      " [1]]\n"
     ]
    }
   ],
   "source": [
    "with open('fastTextCNN_predicted_labels.pkl', 'rb') as file:\n",
    "    CNN_predicted_labels = pickle.load(file)\n",
    "    print(CNN_predicted_labels)"
   ]
  },
  {
   "cell_type": "code",
   "execution_count": 3,
   "id": "04033f4b",
   "metadata": {},
   "outputs": [
    {
     "name": "stdout",
     "output_type": "stream",
     "text": [
      "[1, 0, 1, 0, 1, 1, 1, 1, 1, 1, 1, 1, 1, 0, 1, 0, 0, 1, 0, 1, 1, 0, 1, 1, 0, 0, 0, 1, 1, 1, 0, 1, 1, 0, 0, 0, 0, 0, 0, 0, 1, 1, 1, 1, 0, 0, 0, 1, 0, 0, 1, 0, 0, 1, 1, 1, 1, 0, 1, 1, 0, 0, 1, 1, 0, 1, 0, 1, 1, 1, 1, 0, 0, 0, 0, 1, 1, 1, 1, 0, 0, 1, 0, 1, 1, 1, 1, 1, 1, 0, 1, 0, 0, 0, 1, 0, 0, 0, 1, 0, 1, 0, 0, 0, 1, 0, 1, 1, 0, 1, 0, 1, 1, 0, 1, 0, 1, 0, 0, 0, 0, 1, 1, 1, 1, 1, 0, 1, 1, 1, 0, 0, 0, 1, 1, 1, 0, 0, 0, 0, 1, 0, 0, 1, 0, 1, 0, 0, 1, 1, 0, 0, 1, 1, 1, 1, 1, 0, 1, 0, 0, 1, 1, 1, 1, 0, 0, 1, 0, 1, 1, 0, 0, 1, 1, 0, 1, 1, 0, 1, 0, 1, 0, 0, 0, 0, 0, 1, 0, 1, 1, 1, 0, 1, 1, 0, 1, 0, 0, 1, 1, 1, 0, 0, 1, 1, 1, 0, 1, 0, 1, 0, 0, 1, 0, 0, 1, 0, 0, 1, 0, 1, 1, 1, 0, 0, 1, 1, 0, 0, 1, 1, 0, 1, 0, 0, 1, 1, 0, 1, 1, 1, 1, 1, 1, 0, 0, 0, 1, 1, 1, 0, 0, 0, 1, 0, 1, 0, 1, 1, 1, 1, 0, 1, 1, 1, 0, 1, 1, 0, 0, 0, 1, 1, 0, 0, 0, 0, 1, 0, 0, 1, 1, 1, 1, 0, 0, 1, 1, 1, 0, 0, 1, 0, 0, 1, 0, 0, 0, 1, 0, 0, 0, 0, 1, 0, 1, 1, 0, 0, 1, 1, 1, 0, 0, 0, 0, 1, 1, 0, 0, 1, 0, 1, 1, 1, 1, 1, 1, 1, 0, 1, 1, 0, 0, 0, 1, 1, 0, 1, 1, 0, 0, 0, 0, 1, 0, 0, 0, 1, 1, 0, 1, 0, 1, 0, 1, 1, 0, 0, 1, 1, 0, 0, 0, 1, 1, 0, 0, 0, 1, 0, 1, 1, 0, 1, 1, 0, 1, 0, 0, 0, 0, 0, 0, 0, 1, 1, 0, 1, 0, 1, 0, 0, 1, 0, 1, 1, 1, 0, 0, 0, 1, 1, 0, 1, 1, 0, 1, 0, 0, 1, 1, 1, 1, 0, 1, 1, 0, 1, 1, 1, 1, 1, 1, 1, 1, 0, 0, 1, 0, 0, 1, 1, 0, 0, 0, 1, 0, 0, 1, 1, 0, 0, 1, 1, 0, 0, 0, 1, 0, 0, 0, 1, 1, 1, 1, 1, 0, 0, 1, 0, 0, 1, 1, 1, 1, 1, 0, 1, 1, 1, 1, 0, 0, 0, 0, 1, 0, 1, 1, 1, 0, 0, 0, 0, 0, 1, 1, 1, 1, 0, 0, 0, 0, 0, 1, 1, 0, 1, 0, 1, 1, 1, 1, 1, 1, 1, 0, 1, 0, 1, 1, 1, 0, 0, 1, 1, 1, 1, 0, 1, 1, 0, 0, 0, 1, 0, 0, 0, 1, 1, 0, 0, 1, 1, 0, 1, 1, 1, 1, 0, 0, 0, 0, 0, 1, 1, 1, 0, 1, 0, 0, 1, 0, 1, 0, 1, 0, 1, 0, 1, 0, 1, 0, 0, 1, 1, 0, 1, 1, 0, 1, 1, 0, 1, 1, 1, 0, 1, 0, 0, 0, 0, 1, 1, 0, 0, 0, 0, 0, 0, 1, 1, 0, 0, 1, 0, 0, 1, 0, 1, 1, 0, 1, 1, 0, 0, 0, 0, 0, 1, 1, 0, 1, 0, 0, 0, 1, 1, 0, 0, 0, 0, 1, 0, 0, 0, 0, 0, 0, 1, 0, 0, 0, 1, 0, 1, 1, 1, 1, 0, 1, 1, 1, 0, 0, 0, 1, 0, 0, 1, 1, 0, 0, 0, 1, 1, 0, 0, 0, 0, 0, 1, 0, 1, 1, 0, 1, 0, 0, 0, 1, 0, 0, 1, 1, 0, 1, 0, 1, 0, 0, 0, 0, 1, 0, 0, 0, 1, 1, 1, 0, 0, 1, 1, 1, 0, 0, 1, 0, 1, 0, 0, 1, 1, 0, 1, 0, 0, 1, 1, 1, 1, 1, 1, 1, 1, 0, 0, 0, 0, 0, 0, 0, 0, 1, 0, 0, 1, 0, 0, 1, 0, 0, 1, 1, 0, 1, 1, 0, 0, 1, 1, 0, 1, 1, 1, 0, 1, 0, 1, 1, 1, 1, 1, 0, 1, 1, 1, 1, 0, 0, 0, 1, 0, 1, 0, 1, 1, 0, 1, 1, 1, 1, 1, 1, 1, 1, 0, 1, 0, 1, 0, 0, 1, 1, 1, 1, 1, 1, 1, 0, 0, 1, 0, 0, 0, 1, 1, 0, 0, 1, 0, 0, 1, 1, 0, 1, 1, 0, 1, 0, 0, 0, 0, 0, 1, 1, 0, 0, 0, 0, 1, 0, 0, 1, 0, 1, 0, 0, 0, 0, 0, 0, 1, 1, 0, 0, 0, 1, 1, 1, 1, 0, 0, 0, 1, 1, 1, 1, 1, 1, 1, 0, 1, 0, 0, 1, 0, 1, 1, 0, 1, 1, 0, 0, 1, 1, 0, 1, 0, 1, 0, 1, 0, 0, 1, 0, 1, 0, 0, 0, 0, 1, 1, 1, 0, 0, 0, 0, 0, 1, 1, 1, 0, 1, 1, 1, 0, 0, 1, 1, 1, 0, 1, 0, 1, 0, 1, 1, 1, 0, 1, 1, 0, 1, 0, 0, 0, 0, 1, 1, 1, 0, 0, 0, 1, 0, 0, 1, 0, 0, 1, 0, 1, 1, 1, 1, 1, 1, 1, 0, 1, 1, 0, 0, 1, 0, 1, 0, 0, 0, 1, 0, 0, 1, 0, 0, 0, 0, 1, 0, 0, 0, 1, 1, 1, 1, 1, 1, 1, 0, 0, 0, 0, 1, 0, 1, 1, 1, 0, 1, 1, 1, 1, 1, 0, 0, 0, 0, 1, 0, 1, 1, 0, 0, 0, 0, 0, 0, 1, 0, 0, 1, 1, 0, 1, 0, 1, 1, 0, 1, 0, 0, 0, 1, 1, 1, 0, 0, 1, 1, 1]\n"
     ]
    }
   ],
   "source": [
    "with open('TFIDFFFNN_predicted_labels.pkl', 'rb') as file:\n",
    "    FFNN_predicted_labels = pickle.load(file)\n",
    "    print(FFNN_predicted_labels)"
   ]
  },
  {
   "cell_type": "code",
   "execution_count": 4,
   "id": "e0468f1e",
   "metadata": {},
   "outputs": [
    {
     "name": "stdout",
     "output_type": "stream",
     "text": [
      "[1 0 1 ... 1 1 1]\n"
     ]
    }
   ],
   "source": [
    "with open('true_labels.pkl', 'rb') as file:\n",
    "    true_labels = pickle.load(file)\n",
    "    print(true_labels)"
   ]
  },
  {
   "cell_type": "code",
   "execution_count": 5,
   "id": "b0dffd28",
   "metadata": {},
   "outputs": [
    {
     "data": {
      "text/plain": [
       "array([1, 0, 0, ..., 1, 1, 1])"
      ]
     },
     "execution_count": 5,
     "metadata": {},
     "output_type": "execute_result"
    }
   ],
   "source": [
    "CNN_predicted_labels = CNN_predicted_labels.ravel()\n",
    "CNN_predicted_labels"
   ]
  },
  {
   "cell_type": "code",
   "execution_count": 6,
   "id": "66911f68",
   "metadata": {},
   "outputs": [
    {
     "data": {
      "text/html": [
       "<div>\n",
       "<style scoped>\n",
       "    .dataframe tbody tr th:only-of-type {\n",
       "        vertical-align: middle;\n",
       "    }\n",
       "\n",
       "    .dataframe tbody tr th {\n",
       "        vertical-align: top;\n",
       "    }\n",
       "\n",
       "    .dataframe thead th {\n",
       "        text-align: right;\n",
       "    }\n",
       "</style>\n",
       "<table border=\"1\" class=\"dataframe\">\n",
       "  <thead>\n",
       "    <tr style=\"text-align: right;\">\n",
       "      <th></th>\n",
       "      <th>True Label</th>\n",
       "      <th>0</th>\n",
       "      <th>1</th>\n",
       "      <th>All</th>\n",
       "    </tr>\n",
       "    <tr>\n",
       "      <th>CNN</th>\n",
       "      <th>FFNN</th>\n",
       "      <th></th>\n",
       "      <th></th>\n",
       "      <th></th>\n",
       "    </tr>\n",
       "  </thead>\n",
       "  <tbody>\n",
       "    <tr>\n",
       "      <th rowspan=\"2\" valign=\"top\">0</th>\n",
       "      <th>0</th>\n",
       "      <td>406</td>\n",
       "      <td>72</td>\n",
       "      <td>478</td>\n",
       "    </tr>\n",
       "    <tr>\n",
       "      <th>1</th>\n",
       "      <td>88</td>\n",
       "      <td>148</td>\n",
       "      <td>236</td>\n",
       "    </tr>\n",
       "    <tr>\n",
       "      <th rowspan=\"2\" valign=\"top\">1</th>\n",
       "      <th>0</th>\n",
       "      <td>6</td>\n",
       "      <td>19</td>\n",
       "      <td>25</td>\n",
       "    </tr>\n",
       "    <tr>\n",
       "      <th>1</th>\n",
       "      <td>22</td>\n",
       "      <td>263</td>\n",
       "      <td>285</td>\n",
       "    </tr>\n",
       "    <tr>\n",
       "      <th>All</th>\n",
       "      <th></th>\n",
       "      <td>522</td>\n",
       "      <td>502</td>\n",
       "      <td>1024</td>\n",
       "    </tr>\n",
       "  </tbody>\n",
       "</table>\n",
       "</div>"
      ],
      "text/plain": [
       "True Label    0    1   All\n",
       "CNN FFNN                  \n",
       "0   0       406   72   478\n",
       "    1        88  148   236\n",
       "1   0         6   19    25\n",
       "    1        22  263   285\n",
       "All         522  502  1024"
      ]
     },
     "execution_count": 6,
     "metadata": {},
     "output_type": "execute_result"
    }
   ],
   "source": [
    "df_models = pd.crosstab([CNN_predicted_labels,FFNN_predicted_labels], true_labels, rownames=['CNN', 'FFNN'], colnames=['True Label'], margins=True)\n",
    "df_models"
   ]
  },
  {
   "cell_type": "code",
   "execution_count": 7,
   "id": "2779bc27",
   "metadata": {},
   "outputs": [
    {
     "name": "stdout",
     "output_type": "stream",
     "text": [
      "Number of items classified correctly by both FFNN and CNN:  669\n",
      "Number of items misclassified by CNN but not by FFNN:  154\n",
      "Number of items misclassified by FFNN but not by CNN:  107\n",
      "Number of items misclassified by both FFNN and CNN:  94\n",
      "Total number of items:  1024\n"
     ]
    }
   ],
   "source": [
    "A = 0 #both correct\n",
    "B = 0 #cnn incorrect, ffnn correct\n",
    "C = 0 #ffnn incorrect, cnn correct\n",
    "D = 0 #both wrong\n",
    "\n",
    "for i in range(len(true_labels)):\n",
    "    # n11 : number of items classified correctly by both FFNN and CNN\n",
    "    if (FFNN_predicted_labels[i] == true_labels [i] and CNN_predicted_labels[i] == true_labels [i]):\n",
    "        A = A + 1\n",
    "        \n",
    "    # n00: number of items misclassified by both FFNN and CNN\n",
    "    elif (FFNN_predicted_labels[i] != true_labels [i] and CNN_predicted_labels[i] != true_labels [i]):\n",
    "        D = D + 1\n",
    "        \n",
    "    # n10: number of items misclassified by CNN but not by FFNN\n",
    "    elif (FFNN_predicted_labels[i] == true_labels [i] and CNN_predicted_labels[i] != true_labels [i]):\n",
    "        B = B + 1\n",
    "    \n",
    "    # n01: number of items misclassified by FFNN but not by CNN\n",
    "    elif (FFNN_predicted_labels[i] != true_labels [i] and CNN_predicted_labels[i] == true_labels [i]):\n",
    "        C = C + 1\n",
    "        \n",
    "print(\"Number of items classified correctly by both FFNN and CNN: \", A) \n",
    "print(\"Number of items misclassified by CNN but not by FFNN: \", B)\n",
    "print(\"Number of items misclassified by FFNN but not by CNN: \", C)\n",
    "print(\"Number of items misclassified by both FFNN and CNN: \", D)\n",
    "print(\"Total number of items: \", A+B+C+D)"
   ]
  },
  {
   "cell_type": "code",
   "execution_count": 8,
   "id": "38563bdc",
   "metadata": {},
   "outputs": [],
   "source": [
    "# define contingency table\n",
    "table = [[D, C],\n",
    "\t\t [B, A]]"
   ]
  },
  {
   "cell_type": "code",
   "execution_count": 9,
   "id": "2709281b",
   "metadata": {},
   "outputs": [
    {
     "name": "stdout",
     "output_type": "stream",
     "text": [
      "Reject Null hypotesis\n",
      "P-value:  0.004319137524752679\n"
     ]
    }
   ],
   "source": [
    "# Hypothesis Testing\n",
    "alpha = 0.05\n",
    "\n",
    "# McNemar's Test with the continuity correction\n",
    "test = mcnemar(table, exact=True, correction=True)\n",
    "\n",
    "if test.pvalue < alpha:\n",
    "  print(\"Reject Null hypotesis\")\n",
    "else:\n",
    "  print(\"Fail to reject Null hypotesis\")\n",
    "print(\"P-value: \", test.pvalue)"
   ]
  },
  {
   "cell_type": "code",
   "execution_count": 10,
   "id": "c422f15e",
   "metadata": {},
   "outputs": [
    {
     "name": "stdout",
     "output_type": "stream",
     "text": [
      "Reject Null hypotesis\n",
      "Holm-Bonferroni correction:  0.016666666666666666\n"
     ]
    }
   ],
   "source": [
    "# n = number of dependent tests\n",
    "n = 3\n",
    "# rank of the p-value from smallest to greatest of the tests\n",
    "rank = 1\n",
    "\n",
    "# Holm-Bonferroni Formula\n",
    "HB = alpha / (n - rank + 1)\n",
    "\n",
    "if test.pvalue < HB:\n",
    "  print(\"Reject Null hypotesis\")\n",
    "else:\n",
    "  print(\"Fail to reject Null hypotesis\")\n",
    "print(\"Holm-Bonferroni correction: \", HB)"
   ]
  },
  {
   "cell_type": "code",
   "execution_count": null,
   "id": "06529427",
   "metadata": {},
   "outputs": [],
   "source": []
  }
 ],
 "metadata": {
  "kernelspec": {
   "display_name": "Python 3 (ipykernel)",
   "language": "python",
   "name": "python3"
  },
  "language_info": {
   "codemirror_mode": {
    "name": "ipython",
    "version": 3
   },
   "file_extension": ".py",
   "mimetype": "text/x-python",
   "name": "python",
   "nbconvert_exporter": "python",
   "pygments_lexer": "ipython3",
   "version": "3.9.13"
  }
 },
 "nbformat": 4,
 "nbformat_minor": 5
}
