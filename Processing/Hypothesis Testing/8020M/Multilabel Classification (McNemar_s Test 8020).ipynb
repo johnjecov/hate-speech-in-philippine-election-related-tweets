{
 "cells": [
  {
   "cell_type": "code",
   "execution_count": 1,
   "id": "bac30e0e",
   "metadata": {},
   "outputs": [],
   "source": [
    "import numpy as np\n",
    "import pandas as pd\n",
    "import seaborn as sns\n",
    "import matplotlib.pyplot as plt\n",
    "import os, re, csv, math, codecs, pickle\n",
    "from statsmodels.stats.contingency_tables import mcnemar"
   ]
  },
  {
   "cell_type": "code",
   "execution_count": 2,
   "id": "561fd93d",
   "metadata": {},
   "outputs": [
    {
     "name": "stdout",
     "output_type": "stream",
     "text": [
      "[2, 0, 0, 0, 0, 0, 2, 2, 1, 0, 2, 1, 1, 0, 0, 1, 2, 2, 1, 1, 0, 0, 1, 2, 0, 1, 2, 0, 0, 1, 2, 0, 0, 2, 2, 1, 1, 2, 0, 0, 1, 2, 1, 1, 2, 1, 1, 2, 1, 2, 2, 2, 1, 2, 1, 0, 0, 1, 2, 2, 1, 2, 0, 0, 1, 2, 1, 2, 2, 2, 2, 1, 0, 0, 0, 0, 1, 0, 2, 2, 0, 2, 1, 0, 1, 2, 1, 1, 1, 2, 0, 1, 2, 0, 2, 1, 0, 1, 0, 2, 2, 1, 1, 2, 2, 1, 2, 1, 0, 2, 0, 2, 2, 0, 2, 0, 0, 1, 0, 1, 0, 2, 2, 1, 1, 0, 0, 0, 1, 0, 0, 1, 1, 2, 2, 2, 1, 2, 2, 1, 0, 1, 1, 0, 2, 0, 1, 1, 1, 0, 2, 0, 1, 1, 2, 2, 0, 0, 0, 2, 1, 2, 0, 0, 1, 1, 0, 2, 2, 0, 2, 2, 0, 1, 2, 0, 0, 0, 0, 0, 2, 0, 2, 2, 0, 1, 1, 2, 0, 2, 0, 2, 1, 0, 0, 1, 1, 2, 1, 0, 1, 1, 2, 2, 0, 1, 1, 0, 0, 1, 0, 1, 2, 2, 1, 2, 0, 1, 2, 0, 2, 0, 1, 2, 1, 2, 1, 0, 0, 2, 1, 2, 0, 0, 2, 2, 2, 2, 0, 2, 2, 0, 2, 1, 2, 1, 2, 2, 1, 0, 0, 2, 0, 1, 0, 0, 0, 2, 0, 0, 0, 2, 0, 2, 1, 1, 2, 1, 0, 2, 1, 0, 2, 2, 0, 2, 0, 2, 1, 0, 2, 0, 0, 0, 2, 0, 1, 1, 0, 1, 1, 2, 0, 2, 1, 2, 2, 2, 0, 2, 1, 0, 2, 1, 2, 1, 1, 2, 0, 2, 2, 0, 1, 2, 2, 0, 2, 1, 2, 2, 1, 1, 0, 2, 2, 0, 1, 1, 1, 2, 0, 1, 1, 1, 0, 1, 2, 2, 0, 2, 0, 2, 1, 2, 1, 2, 2, 0, 0, 2, 1, 2, 0, 0, 0, 1, 2, 1, 2, 1, 2, 1, 2, 2, 0, 1, 1, 0, 1, 0, 0, 1, 1, 0, 1, 2, 1, 1, 0, 2, 1, 0, 2, 2, 2, 0, 0, 2, 1, 0, 0, 0, 2, 0, 0, 2, 1, 0, 2, 2, 1, 2, 1, 1, 2, 0, 0, 1, 0, 2, 1, 0, 1, 1, 1, 0, 1, 2, 0, 1, 1, 0, 0, 1, 1, 2, 1, 1, 2, 0, 1, 1, 2, 2, 1, 1, 0, 1, 1, 2, 1, 1, 1, 1, 2, 0, 2, 0, 0, 2, 0, 2, 0, 2, 1, 1, 0, 2, 0, 1, 0, 0, 0, 2, 0, 0, 1, 2, 2, 0, 0, 0, 0, 2, 0, 0, 1, 2, 2, 1, 2, 2, 0, 2, 1, 1, 2, 2, 2, 2, 2, 2, 1, 2, 1, 2, 1, 2, 0, 2, 1, 1, 2, 2, 0, 0, 1, 0, 0, 1, 2, 2, 0, 0, 0, 0, 2, 0, 2, 1, 0, 2, 1, 0, 1, 2, 1, 0, 0, 2, 2, 2, 2, 2, 0, 0, 2, 2, 1, 0, 2, 0, 0, 0, 0, 2, 0, 0, 2, 2, 0, 0, 2, 2, 0, 0, 0, 0, 1, 0, 2, 0, 0, 0, 2, 0, 2, 2, 2, 0, 1, 2, 2, 0, 2, 2, 0, 2, 2, 0, 1, 2, 2, 2, 0, 2, 0, 0, 0, 1, 2, 2, 0, 1, 1, 1, 2, 1, 2, 2, 2, 1, 0, 0, 0, 1, 0, 2, 0, 0, 0, 2, 0, 2, 2, 0, 1, 0, 2, 0, 0, 1, 2, 1, 1, 0, 0, 0, 2, 1, 2, 2, 2, 1, 1, 2, 0, 0, 2, 1, 2, 2, 0, 0, 1, 1, 2, 1, 0, 2, 0, 1, 0, 1, 2, 2, 2, 0, 1, 2, 0, 1, 0, 1, 0, 2, 2, 0, 2, 2, 0, 0, 1, 2, 1, 1, 2, 2, 0, 1, 2, 2, 2, 2, 2, 0, 2, 2, 2, 2, 0, 0, 2, 2, 1, 1, 0, 0, 0, 2, 1, 0, 2, 0, 1, 1, 2, 0, 1, 2, 1, 2, 0, 2, 1, 2, 1, 0, 2, 0, 0, 1, 2, 1, 1, 0, 0, 2, 0, 0, 2, 1, 2, 1, 2, 2, 2, 0, 2, 2, 1, 0, 2, 2, 0, 1, 2, 0, 1, 2, 2, 0, 0, 1, 2, 1, 1, 0, 2, 1, 2, 2, 1, 2, 0, 1, 0, 0, 1, 0, 0, 0, 1, 2, 1, 0, 1, 1, 1, 0, 0, 2, 2, 0, 0, 2, 2, 0, 0, 0, 2, 0, 1, 2, 1, 2, 2, 2, 2, 2, 0, 0, 0, 2, 1, 0, 2, 1, 1, 1, 2, 1, 1, 0, 0, 2, 1, 2, 0, 0, 2, 2, 0, 2, 0, 1, 2, 2, 0, 1, 1, 0, 1, 1, 2, 1, 0, 1, 0, 2, 2, 0, 0, 0, 1, 2, 2, 1, 2, 0, 2, 0, 0, 1, 2, 1, 0, 1, 2, 0, 0, 0, 2, 2, 1, 1, 2, 0, 1, 1, 1, 2, 2, 1, 1, 2, 2, 0, 1, 0, 0, 0, 1, 0, 0, 2, 2, 0, 0, 2, 1, 0, 1, 0, 1, 0, 0, 0, 1, 0, 0, 0, 2, 1, 2, 0, 0, 2, 1, 0, 1, 0, 0, 2, 0, 1, 2, 1, 2, 0, 1, 0, 0, 0, 2, 1, 0, 0, 1, 1, 2, 2, 0, 0, 0, 0, 0, 1, 0, 2, 0, 0, 2, 1, 0, 0, 2, 2, 1, 1, 1, 1, 1, 2, 2, 1, 2, 0, 2, 0, 0, 2, 1, 2, 2, 1, 2, 1, 1, 2, 2, 1, 2, 0, 0, 1, 2, 1, 0, 1, 1, 0, 1, 2, 0, 1, 0, 0, 0, 2, 2, 0, 0, 2, 2, 2, 1, 0, 2, 2, 2, 1, 0, 0, 2, 0, 2, 0, 0, 2, 2, 0, 2, 2, 0, 2, 0, 0, 2, 0, 0, 2, 1, 1, 0, 0, 2, 1, 2, 1, 1, 0, 0, 2, 2, 1, 1, 1, 0, 2, 0, 0, 0, 0, 2, 2, 0, 2, 1, 0, 1, 0, 1, 2, 2, 1, 0, 2, 0, 0, 0, 0, 1, 2, 1, 0, 0, 1, 1, 2, 0, 1, 2, 0, 0, 0, 0, 1, 2, 2, 0, 2, 2, 2, 2, 0, 2, 2, 1, 0, 2, 1, 2, 1, 0, 2, 0, 1, 1, 2, 2, 2, 2, 0, 0, 0, 1, 0, 1, 1, 2, 0, 0, 2, 0, 1, 2, 1, 2, 1, 0, 1, 2, 2, 0, 1, 0, 0, 1, 1, 1, 2, 1, 2, 0, 0, 2, 0, 1, 0, 2, 0, 1, 1, 2, 1, 1, 2, 0, 2, 2, 0, 2, 0, 2, 2, 0, 1, 2, 1, 2, 2, 2, 0, 0, 2, 0, 2, 1, 1, 2, 2, 1, 1, 1, 2, 2, 0, 0, 1, 2, 0, 2, 0, 1, 1, 1, 1, 1, 0, 1, 2, 1, 1, 2, 0, 2, 1, 0, 2, 2, 0, 0, 2, 1, 1, 2, 1, 2, 1, 1, 0, 1, 1, 0, 2, 2, 2, 2, 0, 1, 1, 1, 2, 2, 2, 1, 2, 0, 1, 1, 0, 0, 1, 2, 2, 2, 1, 0, 2, 0, 2, 1, 1, 2, 0, 1, 0, 0, 1, 2, 2, 1, 1, 2, 2, 2, 2, 0, 0, 2, 2, 0, 0, 0, 1, 0, 1, 2, 2, 0, 1, 0, 0, 0, 1, 1, 1, 1, 1, 2, 2, 1, 0, 1, 0, 1, 2, 1, 0, 0, 2, 2, 0, 0, 1, 2, 1, 1, 2, 2, 0, 0, 2, 1, 2, 0, 0, 1, 1, 2, 1, 2, 0, 1, 0, 1, 1, 0, 0, 0, 1, 1, 0, 2, 0, 0, 1, 1, 1, 0, 2, 2, 1, 0, 1, 2, 0, 1, 2, 0, 0, 2, 1, 1, 2, 1, 1, 2, 0, 2, 2, 0, 0, 0, 2, 1, 2, 2, 1, 2, 1, 2, 2, 0, 2, 0, 0, 2, 0, 2, 1, 1, 1, 1, 1, 0, 1, 2, 1, 0, 0, 1, 1, 2, 2, 2, 1, 1, 1, 0, 0, 2, 2, 1, 2, 0, 1, 1, 0, 0, 1, 1, 2, 1, 2, 1, 1, 0, 0, 1, 2, 0, 0, 0, 0, 0, 1, 1, 2, 1, 1, 0, 2, 1, 0, 2, 2, 1, 1, 0, 2, 1, 1, 0, 2, 0, 0, 0, 0, 0, 1, 2, 0, 1, 2, 0, 0, 0, 0, 0, 1, 2, 2, 1, 0, 2, 2, 2, 1, 2, 0, 2, 1, 2, 2, 1, 2, 1, 1, 1, 1, 2, 2, 2, 2, 0, 1, 2, 2, 2, 1, 2, 2, 0, 1, 1, 2, 2, 0, 2, 1, 2, 2, 0, 2, 2, 0, 0, 0, 2, 2, 1, 1, 2, 2, 1, 1, 2, 2, 1, 0, 2, 1, 2, 1, 1, 0, 0, 1, 0, 0, 2, 0, 0, 1, 2, 1, 1, 2, 0, 2, 1, 0, 1, 2]\n"
     ]
    }
   ],
   "source": [
    "with open('fastTextCNN_predicted_labels.pkl', 'rb') as file:\n",
    "    CNN_predicted_labels = pickle.load(file)\n",
    "    print(CNN_predicted_labels)"
   ]
  },
  {
   "cell_type": "code",
   "execution_count": 3,
   "id": "e2436ba1",
   "metadata": {},
   "outputs": [
    {
     "name": "stdout",
     "output_type": "stream",
     "text": [
      "[2, 0, 2, 0, 0, 0, 0, 1, 1, 0, 2, 0, 1, 0, 2, 1, 0, 2, 1, 1, 0, 2, 2, 2, 0, 1, 2, 0, 0, 1, 2, 2, 2, 2, 0, 1, 1, 0, 0, 0, 1, 2, 2, 1, 2, 1, 1, 2, 0, 0, 1, 0, 1, 1, 1, 0, 1, 1, 0, 1, 1, 0, 0, 0, 1, 0, 1, 0, 2, 2, 0, 0, 2, 0, 0, 2, 1, 0, 2, 2, 2, 2, 2, 0, 1, 0, 1, 1, 1, 1, 2, 1, 2, 0, 1, 1, 2, 1, 1, 2, 1, 1, 0, 1, 2, 1, 2, 1, 2, 1, 0, 0, 1, 0, 2, 2, 2, 1, 2, 1, 0, 2, 2, 1, 1, 2, 0, 2, 1, 2, 0, 1, 1, 2, 1, 2, 1, 2, 2, 0, 0, 2, 1, 0, 0, 0, 2, 1, 1, 0, 2, 0, 1, 1, 0, 2, 0, 2, 2, 2, 1, 2, 2, 0, 1, 1, 1, 0, 2, 0, 0, 2, 0, 1, 2, 0, 0, 0, 0, 0, 0, 2, 2, 2, 1, 1, 1, 2, 0, 2, 2, 2, 1, 0, 0, 0, 2, 2, 1, 2, 2, 0, 2, 2, 0, 1, 1, 1, 0, 2, 0, 1, 2, 2, 1, 1, 2, 1, 0, 2, 0, 1, 1, 0, 0, 2, 1, 2, 2, 1, 1, 0, 0, 0, 1, 1, 2, 2, 0, 1, 1, 2, 2, 0, 0, 2, 0, 2, 1, 0, 0, 2, 0, 1, 2, 0, 0, 1, 0, 0, 0, 0, 0, 0, 1, 1, 2, 1, 0, 0, 1, 1, 0, 2, 0, 2, 0, 0, 1, 0, 2, 0, 0, 2, 1, 1, 2, 2, 0, 2, 1, 2, 0, 2, 1, 1, 2, 2, 0, 2, 1, 0, 2, 1, 2, 1, 1, 2, 2, 2, 2, 0, 1, 0, 0, 1, 0, 1, 0, 2, 1, 1, 0, 0, 0, 1, 1, 1, 1, 1, 2, 1, 2, 1, 0, 1, 2, 2, 2, 2, 0, 2, 0, 1, 1, 2, 2, 0, 0, 2, 1, 2, 0, 0, 0, 1, 1, 2, 1, 1, 2, 2, 0, 2, 0, 1, 1, 0, 0, 0, 0, 1, 1, 0, 1, 1, 1, 1, 1, 2, 1, 2, 2, 2, 1, 0, 0, 2, 0, 0, 0, 0, 0, 0, 2, 0, 1, 2, 2, 1, 1, 0, 1, 1, 2, 0, 2, 1, 2, 2, 1, 0, 1, 0, 1, 0, 1, 0, 0, 1, 2, 0, 0, 2, 1, 2, 1, 2, 0, 0, 1, 1, 2, 0, 1, 1, 0, 2, 1, 0, 1, 0, 1, 1, 2, 2, 2, 0, 2, 2, 0, 0, 0, 1, 1, 1, 0, 2, 1, 1, 2, 0, 0, 2, 2, 0, 1, 2, 2, 0, 2, 0, 0, 2, 0, 0, 1, 2, 0, 0, 2, 0, 0, 1, 2, 1, 0, 1, 2, 0, 0, 2, 1, 2, 1, 0, 1, 2, 1, 1, 1, 1, 0, 2, 0, 2, 0, 0, 0, 1, 2, 2, 0, 0, 1, 0, 1, 0, 2, 0, 2, 1, 2, 0, 1, 0, 1, 2, 2, 2, 2, 2, 2, 2, 0, 0, 1, 0, 1, 2, 2, 0, 2, 0, 0, 2, 0, 2, 2, 2, 2, 0, 0, 1, 0, 2, 0, 1, 0, 0, 0, 2, 0, 0, 2, 2, 0, 2, 1, 0, 1, 1, 2, 0, 1, 0, 0, 0, 2, 0, 1, 2, 2, 0, 0, 2, 2, 2, 0, 1, 1, 2, 0, 1, 1, 1, 0, 1, 1, 2, 0, 1, 1, 2, 0, 1, 0, 1, 0, 1, 0, 1, 0, 2, 2, 1, 2, 1, 2, 0, 0, 1, 2, 1, 1, 2, 0, 0, 0, 1, 1, 2, 2, 1, 1, 0, 0, 0, 1, 1, 2, 2, 2, 0, 1, 2, 2, 2, 0, 1, 0, 1, 0, 1, 2, 2, 2, 2, 1, 2, 0, 2, 0, 1, 0, 0, 2, 2, 2, 0, 0, 0, 1, 2, 1, 1, 2, 2, 0, 1, 1, 0, 2, 2, 2, 0, 2, 2, 2, 2, 2, 0, 2, 0, 1, 1, 2, 0, 0, 0, 2, 0, 2, 2, 1, 0, 2, 0, 1, 0, 2, 2, 0, 2, 1, 1, 1, 2, 2, 0, 2, 1, 2, 1, 1, 2, 0, 0, 0, 0, 2, 1, 2, 1, 0, 2, 2, 0, 0, 2, 1, 2, 2, 2, 0, 1, 0, 2, 2, 2, 0, 2, 0, 1, 0, 1, 1, 0, 2, 1, 2, 0, 2, 1, 0, 2, 0, 0, 1, 1, 2, 1, 1, 1, 2, 1, 1, 1, 1, 2, 0, 2, 1, 0, 0, 2, 2, 0, 0, 0, 2, 0, 1, 2, 1, 0, 0, 2, 0, 1, 0, 0, 0, 1, 0, 2, 2, 1, 1, 1, 2, 1, 1, 1, 0, 0, 1, 0, 0, 0, 2, 2, 0, 2, 0, 1, 0, 2, 0, 1, 2, 0, 1, 2, 2, 1, 0, 1, 2, 2, 2, 0, 2, 0, 1, 2, 0, 1, 2, 0, 2, 0, 0, 1, 2, 1, 1, 1, 2, 0, 2, 0, 2, 2, 1, 1, 1, 1, 1, 1, 1, 2, 2, 1, 1, 2, 2, 0, 1, 1, 2, 0, 1, 0, 0, 2, 2, 0, 2, 2, 1, 0, 1, 0, 1, 1, 0, 1, 1, 2, 0, 0, 2, 0, 2, 2, 0, 1, 1, 0, 1, 0, 2, 0, 0, 1, 0, 2, 2, 0, 1, 0, 2, 0, 0, 1, 2, 0, 1, 1, 0, 2, 2, 0, 2, 0, 0, 1, 1, 1, 1, 2, 2, 1, 0, 0, 2, 2, 1, 1, 1, 1, 2, 0, 0, 1, 2, 2, 0, 1, 2, 1, 1, 0, 2, 1, 0, 1, 1, 2, 2, 1, 2, 0, 0, 1, 1, 1, 0, 1, 1, 0, 1, 2, 0, 1, 0, 2, 1, 0, 1, 0, 1, 2, 2, 0, 1, 0, 0, 2, 0, 1, 2, 2, 2, 2, 2, 2, 0, 2, 1, 2, 2, 1, 2, 1, 0, 2, 2, 0, 1, 2, 1, 1, 0, 0, 0, 2, 1, 1, 1, 2, 0, 0, 2, 1, 2, 1, 0, 2, 0, 0, 0, 0, 1, 2, 0, 2, 2, 2, 0, 0, 2, 2, 2, 1, 0, 2, 0, 0, 0, 1, 1, 0, 1, 0, 2, 1, 1, 2, 0, 1, 0, 0, 0, 0, 2, 1, 1, 1, 0, 0, 2, 2, 2, 0, 2, 2, 1, 0, 1, 1, 2, 1, 0, 1, 0, 1, 0, 2, 2, 2, 2, 0, 2, 2, 1, 0, 1, 1, 2, 0, 0, 1, 0, 1, 0, 1, 1, 1, 2, 1, 2, 2, 0, 2, 2, 1, 1, 1, 1, 1, 2, 2, 2, 0, 2, 2, 1, 0, 1, 0, 1, 1, 2, 1, 1, 2, 2, 0, 2, 0, 2, 2, 2, 1, 0, 1, 0, 1, 0, 2, 1, 0, 2, 2, 2, 2, 1, 1, 2, 2, 0, 1, 1, 2, 2, 2, 0, 1, 2, 0, 2, 0, 1, 1, 1, 1, 0, 2, 2, 0, 1, 1, 1, 0, 1, 1, 0, 2, 2, 0, 0, 2, 1, 1, 2, 1, 2, 1, 1, 0, 1, 1, 0, 1, 2, 2, 1, 0, 1, 1, 1, 0, 2, 1, 1, 0, 0, 1, 0, 0, 0, 0, 2, 2, 2, 1, 0, 2, 0, 2, 1, 2, 0, 0, 1, 2, 2, 2, 1, 0, 2, 1, 2, 2, 0, 2, 0, 0, 1, 0, 0, 0, 0, 0, 0, 0, 0, 1, 0, 0, 2, 1, 0, 1, 2, 1, 2, 1, 2, 2, 1, 0, 1, 0, 1, 2, 1, 0, 2, 0, 2, 0, 2, 1, 0, 2, 1, 2, 1, 2, 2, 2, 2, 0, 1, 2, 2, 1, 2, 1, 2, 0, 1, 2, 0, 1, 0, 0, 0, 1, 1, 2, 0, 0, 2, 1, 1, 1, 2, 2, 2, 2, 0, 1, 1, 0, 1, 1, 2, 0, 1, 1, 1, 0, 1, 1, 2, 2, 2, 1, 0, 2, 0, 2, 1, 0, 2, 1, 2, 1, 2, 0, 1, 1, 0, 0, 2, 0, 1, 1, 1, 1, 2, 1, 0, 1, 0, 1, 0, 0, 1, 2, 1, 1, 2, 2, 1, 1, 1, 0, 0, 0, 1, 0, 0, 1, 1, 0, 2, 1, 1, 0, 1, 2, 1, 1, 0, 0, 0, 0, 0, 0, 0, 0, 2, 2, 1, 0, 2, 1, 0, 2, 0, 0, 2, 2, 1, 0, 0, 0, 1, 1, 0, 1, 0, 0, 0, 0, 0, 2, 2, 0, 1, 2, 0, 0, 1, 0, 1, 0, 2, 2, 1, 0, 0, 1, 1, 1, 2, 2, 0, 1, 1, 0, 2, 0, 1, 1, 1, 2, 2, 0, 1, 2, 1, 1, 2, 2, 1, 1, 2, 2, 2, 1, 1, 2, 1, 0, 2, 1, 2, 1, 0, 0, 1, 0, 0, 2, 2, 2, 1, 1, 0, 0, 1, 2, 1, 0, 2, 1, 2, 1, 2, 2, 1, 2, 1, 1, 0, 0, 1, 0, 0, 1, 0, 2, 1, 1, 0, 0, 1, 2, 2, 2]\n"
     ]
    }
   ],
   "source": [
    "with open('TFIDFFFNN_predicted_labels.pkl', 'rb') as file:\n",
    "    FFNN_predicted_labels = pickle.load(file)\n",
    "    print(FFNN_predicted_labels)"
   ]
  },
  {
   "cell_type": "code",
   "execution_count": 4,
   "id": "18ae3ea2",
   "metadata": {},
   "outputs": [
    {
     "name": "stdout",
     "output_type": "stream",
     "text": [
      "[0 0 2 ... 0 1 1]\n"
     ]
    }
   ],
   "source": [
    "with open('true_labels.pkl', 'rb') as file:\n",
    "    true_labels = pickle.load(file)\n",
    "    print(true_labels)"
   ]
  },
  {
   "cell_type": "code",
   "execution_count": 5,
   "id": "e9cedc2a",
   "metadata": {},
   "outputs": [
    {
     "data": {
      "text/html": [
       "<div>\n",
       "<style scoped>\n",
       "    .dataframe tbody tr th:only-of-type {\n",
       "        vertical-align: middle;\n",
       "    }\n",
       "\n",
       "    .dataframe tbody tr th {\n",
       "        vertical-align: top;\n",
       "    }\n",
       "\n",
       "    .dataframe thead th {\n",
       "        text-align: right;\n",
       "    }\n",
       "</style>\n",
       "<table border=\"1\" class=\"dataframe\">\n",
       "  <thead>\n",
       "    <tr style=\"text-align: right;\">\n",
       "      <th></th>\n",
       "      <th>True Label</th>\n",
       "      <th>0</th>\n",
       "      <th>1</th>\n",
       "      <th>2</th>\n",
       "      <th>All</th>\n",
       "    </tr>\n",
       "    <tr>\n",
       "      <th>CNN</th>\n",
       "      <th>FFNN</th>\n",
       "      <th></th>\n",
       "      <th></th>\n",
       "      <th></th>\n",
       "      <th></th>\n",
       "    </tr>\n",
       "  </thead>\n",
       "  <tbody>\n",
       "    <tr>\n",
       "      <th rowspan=\"3\" valign=\"top\">0</th>\n",
       "      <th>0</th>\n",
       "      <td>254</td>\n",
       "      <td>17</td>\n",
       "      <td>74</td>\n",
       "      <td>345</td>\n",
       "    </tr>\n",
       "    <tr>\n",
       "      <th>1</th>\n",
       "      <td>11</td>\n",
       "      <td>21</td>\n",
       "      <td>13</td>\n",
       "      <td>45</td>\n",
       "    </tr>\n",
       "    <tr>\n",
       "      <th>2</th>\n",
       "      <td>58</td>\n",
       "      <td>15</td>\n",
       "      <td>61</td>\n",
       "      <td>134</td>\n",
       "    </tr>\n",
       "    <tr>\n",
       "      <th rowspan=\"3\" valign=\"top\">1</th>\n",
       "      <th>0</th>\n",
       "      <td>7</td>\n",
       "      <td>18</td>\n",
       "      <td>10</td>\n",
       "      <td>35</td>\n",
       "    </tr>\n",
       "    <tr>\n",
       "      <th>1</th>\n",
       "      <td>23</td>\n",
       "      <td>304</td>\n",
       "      <td>39</td>\n",
       "      <td>366</td>\n",
       "    </tr>\n",
       "    <tr>\n",
       "      <th>2</th>\n",
       "      <td>11</td>\n",
       "      <td>31</td>\n",
       "      <td>22</td>\n",
       "      <td>64</td>\n",
       "    </tr>\n",
       "    <tr>\n",
       "      <th rowspan=\"3\" valign=\"top\">2</th>\n",
       "      <th>0</th>\n",
       "      <td>51</td>\n",
       "      <td>18</td>\n",
       "      <td>70</td>\n",
       "      <td>139</td>\n",
       "    </tr>\n",
       "    <tr>\n",
       "      <th>1</th>\n",
       "      <td>5</td>\n",
       "      <td>59</td>\n",
       "      <td>38</td>\n",
       "      <td>102</td>\n",
       "    </tr>\n",
       "    <tr>\n",
       "      <th>2</th>\n",
       "      <td>80</td>\n",
       "      <td>25</td>\n",
       "      <td>201</td>\n",
       "      <td>306</td>\n",
       "    </tr>\n",
       "    <tr>\n",
       "      <th>All</th>\n",
       "      <th></th>\n",
       "      <td>500</td>\n",
       "      <td>508</td>\n",
       "      <td>528</td>\n",
       "      <td>1536</td>\n",
       "    </tr>\n",
       "  </tbody>\n",
       "</table>\n",
       "</div>"
      ],
      "text/plain": [
       "True Label    0    1    2   All\n",
       "CNN FFNN                       \n",
       "0   0       254   17   74   345\n",
       "    1        11   21   13    45\n",
       "    2        58   15   61   134\n",
       "1   0         7   18   10    35\n",
       "    1        23  304   39   366\n",
       "    2        11   31   22    64\n",
       "2   0        51   18   70   139\n",
       "    1         5   59   38   102\n",
       "    2        80   25  201   306\n",
       "All         500  508  528  1536"
      ]
     },
     "execution_count": 5,
     "metadata": {},
     "output_type": "execute_result"
    }
   ],
   "source": [
    "df_models = pd.crosstab([CNN_predicted_labels,FFNN_predicted_labels], true_labels, rownames=['CNN', 'FFNN'], colnames=['True Label'], margins=True)\n",
    "df_models"
   ]
  },
  {
   "cell_type": "code",
   "execution_count": 6,
   "id": "00d16c5f",
   "metadata": {},
   "outputs": [
    {
     "name": "stdout",
     "output_type": "stream",
     "text": [
      "Number of items classified correctly by both FFNN and CNN:  759\n",
      "Number of items misclassified by CNN but not by FFNN:  221\n",
      "Number of items misclassified by FFNN but not by CNN:  226\n",
      "Number of items misclassified by both FFNN and CNN:  330\n",
      "Total number of items:  1536\n"
     ]
    }
   ],
   "source": [
    "A = 0 #both correct\n",
    "B = 0 #cnn incorrect, ffnn correct\n",
    "C = 0 #ffnn incorrect, cnn correct\n",
    "D = 0 #both wrong\n",
    "\n",
    "for i in range(len(true_labels)):\n",
    "    # n11 : number of items classified correctly by both FFNN and CNN\n",
    "    if (FFNN_predicted_labels[i] == true_labels [i] and CNN_predicted_labels[i] == true_labels [i]):\n",
    "        A = A + 1\n",
    "        \n",
    "    # n00: number of items misclassified by both FFNN and CNN\n",
    "    elif (FFNN_predicted_labels[i] != true_labels [i] and CNN_predicted_labels[i] != true_labels [i]):\n",
    "        D = D + 1\n",
    "        \n",
    "    # n10: number of items misclassified by CNN but not by FFNN\n",
    "    elif (FFNN_predicted_labels[i] == true_labels [i] and CNN_predicted_labels[i] != true_labels [i]):\n",
    "        B = B + 1\n",
    "    \n",
    "    # n01: number of items misclassified by FFNN but not by CNN\n",
    "    elif (FFNN_predicted_labels[i] != true_labels [i] and CNN_predicted_labels[i] == true_labels [i]):\n",
    "        C = C + 1\n",
    "        \n",
    "print(\"Number of items classified correctly by both FFNN and CNN: \", A) \n",
    "print(\"Number of items misclassified by CNN but not by FFNN: \", B)\n",
    "print(\"Number of items misclassified by FFNN but not by CNN: \", C)\n",
    "print(\"Number of items misclassified by both FFNN and CNN: \", D)\n",
    "print(\"Total number of items: \", A+B+C+D)"
   ]
  },
  {
   "cell_type": "code",
   "execution_count": 7,
   "id": "e529943b",
   "metadata": {},
   "outputs": [],
   "source": [
    "# define contingency table\n",
    "table = [[D, C],\n",
    "\t\t [B, A]]"
   ]
  },
  {
   "cell_type": "code",
   "execution_count": 8,
   "id": "9cfa3861",
   "metadata": {},
   "outputs": [
    {
     "name": "stdout",
     "output_type": "stream",
     "text": [
      "Fail to reject Null hypotesis\n",
      "P-value:  0.8499678978323351\n"
     ]
    }
   ],
   "source": [
    "# Hypothesis Testing\n",
    "alpha = 0.05\n",
    "\n",
    "# McNemar's Test with the continuity correction\n",
    "test = mcnemar(table, exact=True, correction=True)\n",
    "\n",
    "if test.pvalue < alpha:\n",
    "  print(\"Reject Null hypotesis\")\n",
    "else:\n",
    "  print(\"Fail to reject Null hypotesis\")\n",
    "print(\"P-value: \", test.pvalue)"
   ]
  },
  {
   "cell_type": "code",
   "execution_count": 9,
   "id": "ed189548",
   "metadata": {},
   "outputs": [
    {
     "name": "stdout",
     "output_type": "stream",
     "text": [
      "Fail to reject Null hypotesis\n",
      "Holm-Bonferroni correction:  0.025\n"
     ]
    }
   ],
   "source": [
    "# n = number of dependent tests\n",
    "n = 3\n",
    "# rank of the p-value from smallest to greatest of the tests\n",
    "rank = 2\n",
    "\n",
    "# Holm-Bonferroni Formula\n",
    "HB = alpha / (n - rank + 1)\n",
    "\n",
    "if test.pvalue < HB:\n",
    "  print(\"Reject Null hypotesis\")\n",
    "else:\n",
    "  print(\"Fail to reject Null hypotesis\")\n",
    "print(\"Holm-Bonferroni correction: \", HB)"
   ]
  },
  {
   "cell_type": "code",
   "execution_count": null,
   "id": "84d77ed4",
   "metadata": {},
   "outputs": [],
   "source": []
  }
 ],
 "metadata": {
  "kernelspec": {
   "display_name": "Python 3 (ipykernel)",
   "language": "python",
   "name": "python3"
  },
  "language_info": {
   "codemirror_mode": {
    "name": "ipython",
    "version": 3
   },
   "file_extension": ".py",
   "mimetype": "text/x-python",
   "name": "python",
   "nbconvert_exporter": "python",
   "pygments_lexer": "ipython3",
   "version": "3.9.13"
  }
 },
 "nbformat": 4,
 "nbformat_minor": 5
}
