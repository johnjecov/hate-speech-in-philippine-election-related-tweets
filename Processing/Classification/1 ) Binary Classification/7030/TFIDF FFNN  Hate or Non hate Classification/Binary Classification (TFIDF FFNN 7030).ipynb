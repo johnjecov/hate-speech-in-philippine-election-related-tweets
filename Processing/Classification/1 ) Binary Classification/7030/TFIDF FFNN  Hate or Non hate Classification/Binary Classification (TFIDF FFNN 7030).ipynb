{
 "cells": [
  {
   "cell_type": "code",
   "execution_count": 1,
   "id": "fd2c75b0",
   "metadata": {},
   "outputs": [],
   "source": [
    "import pandas as pd\n",
    "import csv\n",
    "import nltk\n",
    "import pickle\n",
    "import numpy as np\n",
    "from sklearn.feature_extraction.text import TfidfVectorizer\n",
    "from sklearn.feature_selection import SelectPercentile, f_classif\n",
    "import keras\n",
    "import tensorflow as tf\n",
    "from keras import Input\n",
    "from keras import optimizers\n",
    "from keras import backend as K\n",
    "import torch\n",
    "from keras import regularizers\n",
    "from keras.utils import np_utils\n",
    "from sklearn.preprocessing import LabelEncoder\n",
    "from sklearn.datasets import make_blobs\n",
    "from keras.models import Sequential\n",
    "from sklearn.metrics import accuracy_score, confusion_matrix, classification_report\n",
    "from keras.layers import Dense, Activation, Dropout, Flatten\n",
    "from keras.layers import Embedding, Conv1D, MaxPooling1D, GlobalMaxPooling1D \n",
    "from keras.utils import plot_model\n",
    "from keras.preprocessing import sequence\n",
    "from keras.preprocessing.text import Tokenizer\n",
    "from keras.callbacks import EarlyStopping\n",
    "from sklearn.preprocessing import MinMaxScaler\n",
    "import matplotlib.pyplot as plt\n",
    "from itertools import chain\n",
    "import seaborn as sns\n",
    "from matplotlib import rcParams\n",
    "from sklearn.model_selection import train_test_split"
   ]
  },
  {
   "cell_type": "code",
   "execution_count": 2,
   "id": "9008d8c2",
   "metadata": {},
   "outputs": [],
   "source": [
    "#OPEN DATA from pickle files\n",
    "#x_train, x_test, y_train, y_test\n",
    "\n",
    "with open('x_train.pkl', 'rb') as file:\n",
    "    x_train = pickle.load(file)\n",
    "    \n",
    "with open('x_test.pkl', 'rb') as file:\n",
    "    x_test = pickle.load(file)\n",
    "\n",
    "with open('y_train.pkl', 'rb') as file:\n",
    "    y_train = pickle.load(file)\n",
    "    \n",
    "with open('y_test.pkl', 'rb') as file:\n",
    "    y_test = pickle.load(file)\n",
    "    \n",
    "with open('tweet_collection.pkl', 'rb') as file:\n",
    "    tweet_collection = pickle.load(file)"
   ]
  },
  {
   "cell_type": "code",
   "execution_count": 3,
   "id": "2649495d",
   "metadata": {},
   "outputs": [
    {
     "name": "stdout",
     "output_type": "stream",
     "text": [
      "3584\n"
     ]
    }
   ],
   "source": [
    "print(len(x_train))"
   ]
  },
  {
   "cell_type": "code",
   "execution_count": 4,
   "id": "d8541478",
   "metadata": {},
   "outputs": [],
   "source": [
    "#Convert Labels from Strings to categorical Integers {Non-Hate = 1, Hate = 0}\n",
    "\n",
    "df_ytrain = pd.DataFrame(y_train, columns = ['Label'])\n",
    "df_ytest = pd.DataFrame(y_test, columns = ['Label'])\n",
    "\n",
    "#flatten training set for fitting on tfidf\n",
    "x_train_fit = list(chain.from_iterable(x_train))\n",
    "\n",
    "mapping = {'Non-hate': 0, 'Hate': 1}\n",
    "df_ytrain = df_ytrain.replace({'Label': mapping})\n",
    "df_ytest = df_ytest.replace({'Label': mapping})\n",
    "\n",
    "train_y = df_ytrain['Label'].tolist()\n",
    "test_y = df_ytest['Label'].tolist()\n",
    "\n",
    "np_train_y = np.asarray(train_y)\n",
    "np_test_y = np.asarray(test_y)"
   ]
  },
  {
   "cell_type": "code",
   "execution_count": 5,
   "id": "1c290756",
   "metadata": {},
   "outputs": [
    {
     "name": "stdout",
     "output_type": "stream",
     "text": [
      "(3584,)\n"
     ]
    }
   ],
   "source": [
    "print(np_train_y.shape)"
   ]
  },
  {
   "cell_type": "code",
   "execution_count": 6,
   "id": "bce23422",
   "metadata": {},
   "outputs": [
    {
     "name": "stdout",
     "output_type": "stream",
     "text": [
      "Sentence\n",
      ": future president iktr gaga stans spitting facts\n",
      "True Value: Non-hate\n",
      "Converted: 0\n",
      "~~~~~~~~~~~\n",
      "\n",
      "Sentence\n",
      ": tulungan nating manalo sara duterte darating eleksyon\n",
      "True Value: Non-hate\n",
      "Converted: 0\n",
      "~~~~~~~~~~~\n",
      "\n",
      "Sentence\n",
      ": ayan spoon feed sau ha\n",
      "True Value: Hate\n",
      "Converted: 1\n",
      "~~~~~~~~~~~\n",
      "\n",
      "Sentence\n",
      ": nagtataka okay lang suportahan communist group like npa tama gawain npa inyo parang tama tingin nyo yung pabahay kababayan natin sabagay wala pala kayo position kababayan natin okay lang syo ely\n",
      "True Value: Hate\n",
      "Converted: 1\n",
      "~~~~~~~~~~~\n",
      "\n",
      "Sentence\n",
      ": obviously attend smni debate owner network sumobra naman po pagkaignorante try know search owner network benefit\n",
      "True Value: Hate\n",
      "Converted: 1\n",
      "~~~~~~~~~~~\n",
      "\n",
      "Sentence\n",
      ": president satanas\n",
      "True Value: Hate\n",
      "Converted: 1\n",
      "~~~~~~~~~~~\n",
      "\n",
      "Sentence\n",
      ": divorce easy option married couples would allowed philippines presidential candidate ferdinand said\n",
      "True Value: Non-hate\n",
      "Converted: 0\n",
      "~~~~~~~~~~~\n",
      "\n",
      "Sentence\n",
      ": louder madam president\n",
      "True Value: Non-hate\n",
      "Converted: 0\n",
      "~~~~~~~~~~~\n",
      "\n",
      "Sentence\n",
      ": abuchikik\n",
      "True Value: Hate\n",
      "Converted: 1\n",
      "~~~~~~~~~~~\n",
      "\n",
      "Sentence\n",
      ": tumindig bayan ipanalo makamasang gobyerno pangulo kiko pangilinan bise presidente kabataan partylist\n",
      "True Value: Non-hate\n",
      "Converted: 0\n",
      "~~~~~~~~~~~\n",
      "\n"
     ]
    }
   ],
   "source": [
    "#Testing Encoding and Actual Values\n",
    "for i in range(10):\n",
    "    print(\"Sentence\\n: \",\" \".join(str(item) for item in x_test[i]),\"\\n\",\"True Value: \", y_test[i], \"\\nConverted: \",test_y[i],\"\\n~~~~~~~~~~~\\n\",sep=\"\")"
   ]
  },
  {
   "cell_type": "code",
   "execution_count": 7,
   "id": "b6927f82",
   "metadata": {},
   "outputs": [
    {
     "data": {
      "text/plain": [
       "SelectPercentile(percentile=40)"
      ]
     },
     "execution_count": 7,
     "metadata": {},
     "output_type": "execute_result"
    }
   ],
   "source": [
    "#TFIDF, classifer building using the training dataset of tweets using a maximum features of the top 40%\n",
    "\n",
    "def dummy_fun(doc):\n",
    "    return doc\n",
    "\n",
    "tfidf = TfidfVectorizer(\n",
    "    analyzer='word',\n",
    "    tokenizer=dummy_fun,\n",
    "    preprocessor=dummy_fun,\n",
    "    token_pattern=None)  \n",
    "\n",
    "#classifier building/ fitting of training dataset to tfidf\n",
    "fitted_training_x = tfidf.fit_transform(x_train)\n",
    "fitted_testing_x = tfidf.transform(x_test)\n",
    "\n",
    "#transform based on top 40 percent features\n",
    "selector = SelectPercentile(f_classif, percentile = 40)\n",
    "selector.fit(fitted_training_x, train_y)"
   ]
  },
  {
   "cell_type": "code",
   "execution_count": 8,
   "id": "0b7ef98f",
   "metadata": {},
   "outputs": [
    {
     "name": "stdout",
     "output_type": "stream",
     "text": [
      "4222\n"
     ]
    }
   ],
   "source": [
    "#Convert tweet tokens into vectors using the classifier built using tfidf\n",
    "\n",
    "x_train_vectorized = selector.transform(fitted_training_x).toarray()\n",
    "x_test_vectorized = selector.transform(fitted_testing_x).toarray()\n",
    "\n",
    "number_of_features = len(x_train_vectorized[0])\n",
    "print(number_of_features)"
   ]
  },
  {
   "cell_type": "code",
   "execution_count": 9,
   "id": "40cd2778",
   "metadata": {},
   "outputs": [
    {
     "name": "stdout",
     "output_type": "stream",
     "text": [
      "training CNN ...\n",
      "Model: \"sequential\"\n",
      "_________________________________________________________________\n",
      " Layer (type)                Output Shape              Param #   \n",
      "=================================================================\n",
      " dense (Dense)               (None, 1000)              4223000   \n",
      "                                                                 \n",
      " dropout (Dropout)           (None, 1000)              0         \n",
      "                                                                 \n",
      " dense_1 (Dense)             (None, 500)               500500    \n",
      "                                                                 \n",
      " dropout_1 (Dropout)         (None, 500)               0         \n",
      "                                                                 \n",
      " dense_2 (Dense)             (None, 50)                25050     \n",
      "                                                                 \n",
      " dropout_2 (Dropout)         (None, 50)                0         \n",
      "                                                                 \n",
      " dense_3 (Dense)             (None, 2)                 102       \n",
      "                                                                 \n",
      "=================================================================\n",
      "Total params: 4,748,652\n",
      "Trainable params: 4,748,652\n",
      "Non-trainable params: 0\n",
      "_________________________________________________________________\n"
     ]
    }
   ],
   "source": [
    "#FFNN MODEL\n",
    "print(\"training CNN ...\")\n",
    "\n",
    "#create model\n",
    "model = Sequential()\n",
    "model.add(Input(shape=(number_of_features,), name='Input-Layer'))\n",
    "model.add(Dense(1000, activation = 'relu'))\n",
    "model.add(Dropout(0.5))\n",
    "model.add(Dense(500, activation = 'relu'))\n",
    "model.add(Dropout(0.5))\n",
    "model.add(Dense(50, activation = 'relu'))\n",
    "model.add(Dropout(0.5))\n",
    "model.add(Dense(2, activation='softmax'))\n",
    "\n",
    "#optimizer using the default values\n",
    "adam = optimizers.Adam(learning_rate=0.001, beta_1=0.9, beta_2=0.999, epsilon=1e-08, decay=0.0)\n",
    "\n",
    "#compile model\n",
    "model.compile(loss='sparse_categorical_crossentropy', optimizer=adam, metrics=['accuracy'])\n",
    "model.summary()"
   ]
  },
  {
   "cell_type": "code",
   "execution_count": 10,
   "id": "d55a7888",
   "metadata": {},
   "outputs": [
    {
     "name": "stdout",
     "output_type": "stream",
     "text": [
      "Epoch 1/5\n",
      "101/101 [==============================] - 3s 21ms/step - loss: 0.5027 - accuracy: 0.7442 - val_loss: 0.3580 - val_accuracy: 0.8552\n",
      "Epoch 2/5\n",
      "101/101 [==============================] - 2s 18ms/step - loss: 0.2162 - accuracy: 0.9144 - val_loss: 0.3126 - val_accuracy: 0.8747\n",
      "Epoch 3/5\n",
      "101/101 [==============================] - 2s 18ms/step - loss: 0.1168 - accuracy: 0.9563 - val_loss: 0.3505 - val_accuracy: 0.8747\n",
      "Epoch 4/5\n",
      "101/101 [==============================] - 2s 18ms/step - loss: 0.0756 - accuracy: 0.9730 - val_loss: 0.3983 - val_accuracy: 0.8691\n",
      "Epoch 5/5\n",
      "101/101 [==============================] - 2s 20ms/step - loss: 0.0606 - accuracy: 0.9771 - val_loss: 0.4261 - val_accuracy: 0.8774\n"
     ]
    }
   ],
   "source": [
    "#fit dataset and model\n",
    "##### Step 5 - Fit keras model on the dataset\n",
    "model_history = model.fit(x_train_vectorized, # input data\n",
    "          np_train_y, # target data\n",
    "          epochs=5, # default=1, Number of epochs to train the model. An epoch is an iteration over the entire x and y data provided\n",
    "          verbose='auto',\n",
    "          validation_split = 0.1\n",
    "         )\n",
    "\n",
    "model.save('cabasag_model.h5')"
   ]
  },
  {
   "cell_type": "code",
   "execution_count": 11,
   "id": "5fbf25b8",
   "metadata": {},
   "outputs": [
    {
     "name": "stdout",
     "output_type": "stream",
     "text": [
      "112/112 [==============================] - 1s 5ms/step - loss: 0.0749 - accuracy: 0.9724\n",
      "[0.07491610199213028, 0.9723772406578064]\n"
     ]
    }
   ],
   "source": [
    "#test for accuracies\n",
    "\n",
    "results_training = model.evaluate(x_train_vectorized, np_train_y)\n",
    "print(results_training)"
   ]
  },
  {
   "cell_type": "code",
   "execution_count": 12,
   "id": "330ff069",
   "metadata": {},
   "outputs": [
    {
     "name": "stdout",
     "output_type": "stream",
     "text": [
      "48/48 [==============================] - 0s 5ms/step - loss: 0.8155 - accuracy: 0.8008\n",
      "[0.8155437111854553, 0.80078125]\n"
     ]
    }
   ],
   "source": [
    "#test for accuracies\n",
    "\n",
    "results_testing = model.evaluate(x_test_vectorized, np_test_y)\n",
    "print(results_testing)"
   ]
  },
  {
   "cell_type": "code",
   "execution_count": 13,
   "id": "b4b29dc1",
   "metadata": {},
   "outputs": [
    {
     "data": {
      "image/png": "[encoded data removed]",
      "text/plain": [
       "<Figure size 432x288 with 1 Axes>"
      ]
     },
     "metadata": {
      "needs_background": "light"
     },
     "output_type": "display_data"
    }
   ],
   "source": [
    "#plot configuration\n",
    "CB91_Blue = '#2CBDFE'\n",
    "CB91_Green = '#47DBCD'\n",
    "CB91_Pink = '#F3A0F2'\n",
    "CB91_Purple = '#9D2EC5'\n",
    "CB91_Violet = '#661D98'\n",
    "CB91_Amber = '#F5B14C'\n",
    "\n",
    "color_list = [CB91_Blue, CB91_Amber]\n",
    "\n",
    "csfont = {'fontname':'Helvetica'}\n",
    "hfont = {'fontname':'Helvetica'}\n",
    "\n",
    "plt.title('title',**csfont)\n",
    "plt.xlabel('xlabel', **hfont)\n",
    "plt.rcParams['axes.prop_cycle'] = plt.cycler(color=color_list)"
   ]
  },
  {
   "cell_type": "code",
   "execution_count": 14,
   "id": "8f4befa9",
   "metadata": {},
   "outputs": [
    {
     "data": {
      "image/png": "[encoded data removed]",
      "text/plain": [
       "<Figure size 432x288 with 1 Axes>"
      ]
     },
     "metadata": {
      "needs_background": "light"
     },
     "output_type": "display_data"
    }
   ],
   "source": [
    "# plot loss during training\n",
    "plt.subplot(212)\n",
    "plt.title('MODEL LOSS\\n(Binary TFIDF FFNN 7030)\\n', fontsize = 13)\n",
    "plt.plot(model_history.history['loss'], label='training', linewidth=2)\n",
    "plt.plot(model_history.history['val_loss'], label='validation', linewidth=2)\n",
    "plt.legend(frameon=False)\n",
    "plt.xlabel(\"Epoch\")\n",
    "plt.ylabel(\"Loss\")\n",
    "plt.show()"
   ]
  },
  {
   "cell_type": "code",
   "execution_count": 15,
   "id": "9347e02b",
   "metadata": {},
   "outputs": [
    {
     "data": {
      "image/png": "[encoded data removed]",
      "text/plain": [
       "<Figure size 432x288 with 1 Axes>"
      ]
     },
     "metadata": {
      "needs_background": "light"
     },
     "output_type": "display_data"
    }
   ],
   "source": [
    "# plot accuracy during training\n",
    "plt.subplot(212)\n",
    "plt.title('MODEL ACCURACY\\n(Binary TFIDF FFNN 7030)\\n', fontsize = 13)\n",
    "plt.plot(model_history.history['accuracy'], label='training', linewidth=2)\n",
    "plt.plot(model_history.history['val_accuracy'], label='validation', linewidth=2)\n",
    "plt.legend(frameon=False)\n",
    "plt.xlabel(\"Epoch\")\n",
    "plt.ylabel(\"Accuracy\")\n",
    "plt.show()"
   ]
  },
  {
   "cell_type": "code",
   "execution_count": 16,
   "id": "a8d6be82",
   "metadata": {},
   "outputs": [
    {
     "name": "stdout",
     "output_type": "stream",
     "text": [
      "112/112 [==============================] - 1s 5ms/step\n",
      "48/48 [==============================] - 0s 6ms/step\n",
      "\n",
      "-------------------- Model Summary --------------------\n",
      "\n",
      "Model: \"sequential\"\n",
      "_________________________________________________________________\n",
      " Layer (type)                Output Shape              Param #   \n",
      "=================================================================\n",
      " dense (Dense)               (None, 1000)              4223000   \n",
      "                                                                 \n",
      " dropout (Dropout)           (None, 1000)              0         \n",
      "                                                                 \n",
      " dense_1 (Dense)             (None, 500)               500500    \n",
      "                                                                 \n",
      " dropout_1 (Dropout)         (None, 500)               0         \n",
      "                                                                 \n",
      " dense_2 (Dense)             (None, 50)                25050     \n",
      "                                                                 \n",
      " dropout_2 (Dropout)         (None, 50)                0         \n",
      "                                                                 \n",
      " dense_3 (Dense)             (None, 2)                 102       \n",
      "                                                                 \n",
      "=================================================================\n",
      "Total params: 4,748,652\n",
      "Trainable params: 4,748,652\n",
      "Non-trainable params: 0\n",
      "_________________________________________________________________\n",
      "\n",
      "\n",
      "---------- Evaluation on Training Data ----------\n",
      "              precision    recall  f1-score   support\n",
      "\n",
      "           0     0.9817    0.9624    0.9719      1782\n",
      "           1     0.9635    0.9822    0.9728      1802\n",
      "\n",
      "    accuracy                         0.9724      3584\n",
      "   macro avg     0.9726    0.9723    0.9724      3584\n",
      "weighted avg     0.9726    0.9724    0.9724      3584\n",
      "\n",
      "\n",
      "\n",
      "---------- Evaluation on Test Data ----------\n",
      "              precision    recall  f1-score   support\n",
      "\n",
      "           0     0.8215    0.7751    0.7976       778\n",
      "           1     0.7818    0.8272    0.8038       758\n",
      "\n",
      "    accuracy                         0.8008      1536\n",
      "   macro avg     0.8017    0.8011    0.8007      1536\n",
      "weighted avg     0.8019    0.8008    0.8007      1536\n",
      "\n",
      "\n"
     ]
    }
   ],
   "source": [
    "#use predictions on test data\n",
    "##### Step 6 - Use model to make predictions\n",
    "# Predict class labels on training data\n",
    "#pred_labels_train = (model.predict(x_train_vectorized) > 0.5).astype(int)\n",
    "pred_labels_train = model.predict(x_train_vectorized)\n",
    "# Predict class labels on a test data\n",
    "#pred_labels_test = (model.predict(x_test_vectorized) > 0.5).astype(int)\n",
    "pred_labels_test = model.predict(x_test_vectorized)\n",
    "\n",
    "pred_labels_train_1 = []\n",
    "\n",
    "pred_labels_test_1 = []\n",
    "\n",
    "pred_labels_test_y = []\n",
    "\n",
    "for i in range(len(pred_labels_train)):\n",
    "    label = np.argmax(pred_labels_train[i])\n",
    "    pred_labels_train_1.append(label)\n",
    "    \n",
    "for i in range(len(pred_labels_test)):\n",
    "    label = np.argmax(pred_labels_test[i]) \n",
    "    pred_labels_test_1.append(label)\n",
    "    pred_labels_test_y.append(pred_labels_test[i][label])\n",
    "    \n",
    "##### Step 7 - Model Performance Summary\n",
    "print(\"\")\n",
    "print('-------------------- Model Summary --------------------\\n')\n",
    "model.summary() # print model summary\n",
    "print(\"\")\n",
    "print('\\n---------- Evaluation on Training Data ----------')\n",
    "print(classification_report(np_train_y, pred_labels_train_1, digits=4))\n",
    "print(\"\")\n",
    "\n",
    "print('\\n---------- Evaluation on Test Data ----------')\n",
    "print(classification_report(np_test_y, pred_labels_test_1, digits=4))\n",
    "print(\"\")"
   ]
  },
  {
   "cell_type": "code",
   "execution_count": 17,
   "id": "5fc870f1",
   "metadata": {},
   "outputs": [
    {
     "name": "stdout",
     "output_type": "stream",
     "text": [
      "[[603 175]\n",
      " [131 627]]\n"
     ]
    },
    {
     "data": {
      "image/png": "[encoded data removed]",
      "text/plain": [
       "<Figure size 576x432 with 2 Axes>"
      ]
     },
     "metadata": {},
     "output_type": "display_data"
    }
   ],
   "source": [
    "cf_matrix = confusion_matrix(np_test_y, pred_labels_test_1)\n",
    "print(cf_matrix)\n",
    "sns.set(rc={\"figure.figsize\":(8, 6)})\n",
    "ax = sns.heatmap(cf_matrix/np.sum(cf_matrix), annot=True, xticklabels = ['Non Hate', 'Hate'], yticklabels = ['Non Hate', 'Hate'],\n",
    "            fmt='.2%', cmap='Blues')\n",
    "\n",
    "plt.title('Confusion Matrix\\n(Binary TFIDF FFNN 7030)\\n', fontsize = 13) # title with fontsize 20\n",
    "plt.show()"
   ]
  },
  {
   "cell_type": "code",
   "execution_count": 18,
   "id": "09439e11",
   "metadata": {},
   "outputs": [
    {
     "data": {
      "text/html": [
       "<div>\n",
       "<style scoped>\n",
       "    .dataframe tbody tr th:only-of-type {\n",
       "        vertical-align: middle;\n",
       "    }\n",
       "\n",
       "    .dataframe tbody tr th {\n",
       "        vertical-align: top;\n",
       "    }\n",
       "\n",
       "    .dataframe thead th {\n",
       "        text-align: right;\n",
       "    }\n",
       "</style>\n",
       "<table border=\"1\" class=\"dataframe\">\n",
       "  <thead>\n",
       "    <tr style=\"text-align: right;\">\n",
       "      <th></th>\n",
       "      <th>Tweet</th>\n",
       "      <th>Prediction</th>\n",
       "      <th>Prediction Value</th>\n",
       "    </tr>\n",
       "  </thead>\n",
       "  <tbody>\n",
       "    <tr>\n",
       "      <th>0</th>\n",
       "      <td>[future, president, iktr, gaga, stans, spittin...</td>\n",
       "      <td>0</td>\n",
       "      <td>0.953089</td>\n",
       "    </tr>\n",
       "    <tr>\n",
       "      <th>1</th>\n",
       "      <td>[tulungan, nating, manalo, sara, duterte, dara...</td>\n",
       "      <td>0</td>\n",
       "      <td>0.999718</td>\n",
       "    </tr>\n",
       "    <tr>\n",
       "      <th>2</th>\n",
       "      <td>[ayan, spoon, feed, sau, ha]</td>\n",
       "      <td>1</td>\n",
       "      <td>0.997534</td>\n",
       "    </tr>\n",
       "    <tr>\n",
       "      <th>3</th>\n",
       "      <td>[nagtataka, okay, lang, suportahan, communist,...</td>\n",
       "      <td>1</td>\n",
       "      <td>0.999990</td>\n",
       "    </tr>\n",
       "    <tr>\n",
       "      <th>4</th>\n",
       "      <td>[obviously, attend, smni, debate, owner, netwo...</td>\n",
       "      <td>0</td>\n",
       "      <td>0.985766</td>\n",
       "    </tr>\n",
       "    <tr>\n",
       "      <th>...</th>\n",
       "      <td>...</td>\n",
       "      <td>...</td>\n",
       "      <td>...</td>\n",
       "    </tr>\n",
       "    <tr>\n",
       "      <th>1531</th>\n",
       "      <td>[makakalimutan, itong, h2h, grand, rally, napu...</td>\n",
       "      <td>0</td>\n",
       "      <td>0.999829</td>\n",
       "    </tr>\n",
       "    <tr>\n",
       "      <th>1532</th>\n",
       "      <td>[daughters, girls, anong, klaseng, katangahan,...</td>\n",
       "      <td>1</td>\n",
       "      <td>0.999839</td>\n",
       "    </tr>\n",
       "    <tr>\n",
       "      <th>1533</th>\n",
       "      <td>[even, signature, figure, liberal, party, proj...</td>\n",
       "      <td>1</td>\n",
       "      <td>0.933070</td>\n",
       "    </tr>\n",
       "    <tr>\n",
       "      <th>1534</th>\n",
       "      <td>[best, job, woman]</td>\n",
       "      <td>0</td>\n",
       "      <td>0.999997</td>\n",
       "    </tr>\n",
       "    <tr>\n",
       "      <th>1535</th>\n",
       "      <td>[apologist, hahahaa, yung, hubby, si, friend]</td>\n",
       "      <td>1</td>\n",
       "      <td>0.962922</td>\n",
       "    </tr>\n",
       "  </tbody>\n",
       "</table>\n",
       "<p>1536 rows × 3 columns</p>\n",
       "</div>"
      ],
      "text/plain": [
       "                                                  Tweet  Prediction  \\\n",
       "0     [future, president, iktr, gaga, stans, spittin...           0   \n",
       "1     [tulungan, nating, manalo, sara, duterte, dara...           0   \n",
       "2                          [ayan, spoon, feed, sau, ha]           1   \n",
       "3     [nagtataka, okay, lang, suportahan, communist,...           1   \n",
       "4     [obviously, attend, smni, debate, owner, netwo...           0   \n",
       "...                                                 ...         ...   \n",
       "1531  [makakalimutan, itong, h2h, grand, rally, napu...           0   \n",
       "1532  [daughters, girls, anong, klaseng, katangahan,...           1   \n",
       "1533  [even, signature, figure, liberal, party, proj...           1   \n",
       "1534                                 [best, job, woman]           0   \n",
       "1535      [apologist, hahahaa, yung, hubby, si, friend]           1   \n",
       "\n",
       "      Prediction Value  \n",
       "0             0.953089  \n",
       "1             0.999718  \n",
       "2             0.997534  \n",
       "3             0.999990  \n",
       "4             0.985766  \n",
       "...                ...  \n",
       "1531          0.999829  \n",
       "1532          0.999839  \n",
       "1533          0.933070  \n",
       "1534          0.999997  \n",
       "1535          0.962922  \n",
       "\n",
       "[1536 rows x 3 columns]"
      ]
     },
     "execution_count": 18,
     "metadata": {},
     "output_type": "execute_result"
    }
   ],
   "source": [
    "test_results = pd.DataFrame(list(zip(x_test,pred_labels_test_1, pred_labels_test_y)), columns = ['Tweet','Prediction', 'Prediction Value'])\n",
    "test_results "
   ]
  },
  {
   "cell_type": "code",
   "execution_count": 19,
   "id": "a4966bc4",
   "metadata": {},
   "outputs": [],
   "source": [
    "#Saving labels to be used on other files\n",
    "true_labels = open('true_labels.pkl', 'wb')\n",
    "pickle.dump(np_test_y,true_labels)\n",
    "true_labels.close()\n",
    "\n",
    "predicted_labels = open('TFIDFFFNN_predicted_labels.pkl', 'wb')\n",
    "pickle.dump(pred_labels_test_1,predicted_labels)\n",
    "predicted_labels.close()\n",
    "\n",
    "TFIDFFFNN_test_results = open('TFIDFFFNN_test_results.pkl', 'wb')\n",
    "pickle.dump(test_results,TFIDFFFNN_test_results)\n",
    "TFIDFFFNN_test_results.close()"
   ]
  },
  {
   "cell_type": "code",
   "execution_count": null,
   "id": "6ff68a47",
   "metadata": {},
   "outputs": [],
   "source": [
    "#test_predictions = (model.predict(x_test_vectorized) > 0.5).astype(int)\n",
    "\n",
    "#test_prediction_labels = []\n",
    "\n",
    "#for i in range(len(test_predictions)):\n",
    "    \n",
    "#    trueval = 'Non-hate'\n",
    "    \n",
    "#    if(test_y[i] == 1):\n",
    " #       trueval = 'Hate'\n",
    "        \n",
    "#    pred = 'Non-hate'\n",
    "    \n",
    " #   if(test_predictions[i][1] == 1):\n",
    " #       pred = 'Hate'\n",
    "    \n",
    "  #  test_prediction_labels.append(pred)\n",
    "  #  print(\"Sentence\\n: \",\" \".join(str(item) for item in x_test[i]),\"\\n\",\"True Value: \", trueval, \"\\nPred: \",pred, \"\\n~~~~~~~~~~~\\n\",sep=\"\")"
   ]
  },
  {
   "cell_type": "code",
   "execution_count": null,
   "id": "ed51cf6e",
   "metadata": {},
   "outputs": [],
   "source": [
    "#comparison_dataframe = pd.DataFrame(list(zip(x_test,y_test, test_prediction_labels)), columns = ['Tweet','True Label', 'Clasiification Label'])  \n",
    "\n",
    "#with pd.option_context('display.max_rows', None,\n",
    "#                       'display.max_columns', None,\n",
    " #                      'display.precision', 3,\n",
    "  #                     ):\n",
    " #   display(comparison_dataframe)"
   ]
  },
  {
   "cell_type": "code",
   "execution_count": null,
   "id": "fab0ac83",
   "metadata": {},
   "outputs": [],
   "source": []
  },
  {
   "cell_type": "code",
   "execution_count": null,
   "id": "58bcf6bc",
   "metadata": {},
   "outputs": [],
   "source": []
  }
 ],
 "metadata": {
  "kernelspec": {
   "display_name": "Python 3",
   "language": "python",
   "name": "python3"
  },
  "language_info": {
   "codemirror_mode": {
    "name": "ipython",
    "version": 3
   },
   "file_extension": ".py",
   "mimetype": "text/x-python",
   "name": "python",
   "nbconvert_exporter": "python",
   "pygments_lexer": "ipython3",
   "version": "3.8.8"
  }
 },
 "nbformat": 4,
 "nbformat_minor": 5
}
