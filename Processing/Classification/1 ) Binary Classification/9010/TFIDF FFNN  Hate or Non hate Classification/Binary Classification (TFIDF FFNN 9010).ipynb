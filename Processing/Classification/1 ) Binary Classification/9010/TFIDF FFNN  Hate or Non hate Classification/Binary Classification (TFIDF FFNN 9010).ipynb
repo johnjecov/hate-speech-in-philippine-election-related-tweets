{
 "cells": [
  {
   "cell_type": "code",
   "execution_count": 20,
   "id": "fd2c75b0",
   "metadata": {},
   "outputs": [],
   "source": [
    "import pandas as pd\n",
    "import csv\n",
    "import nltk\n",
    "import pickle\n",
    "import numpy as np\n",
    "from sklearn.feature_extraction.text import TfidfVectorizer\n",
    "from sklearn.feature_selection import SelectPercentile, f_classif\n",
    "import keras\n",
    "import tensorflow as tf\n",
    "from keras import Input\n",
    "from keras import optimizers\n",
    "from keras import backend as K\n",
    "import torch\n",
    "from keras import regularizers\n",
    "from keras.utils import np_utils\n",
    "from sklearn.preprocessing import LabelEncoder\n",
    "from sklearn.datasets import make_blobs\n",
    "from keras.models import Sequential\n",
    "from sklearn.metrics import accuracy_score, confusion_matrix, classification_report\n",
    "from keras.layers import Dense, Activation, Dropout, Flatten\n",
    "from keras.layers import Embedding, Conv1D, MaxPooling1D, GlobalMaxPooling1D \n",
    "from keras.utils import plot_model\n",
    "from keras.preprocessing import sequence\n",
    "from keras.preprocessing.text import Tokenizer\n",
    "from keras.callbacks import EarlyStopping\n",
    "from sklearn.preprocessing import MinMaxScaler\n",
    "import matplotlib.pyplot as plt\n",
    "from itertools import chain\n",
    "import seaborn as sns\n",
    "from matplotlib import rcParams\n",
    "from sklearn.model_selection import train_test_split"
   ]
  },
  {
   "cell_type": "code",
   "execution_count": 21,
   "id": "9008d8c2",
   "metadata": {},
   "outputs": [],
   "source": [
    "#OPEN DATA from pickle files\n",
    "#x_train, x_test, y_train, y_test\n",
    "\n",
    "with open('x_train.pkl', 'rb') as file:\n",
    "    x_train = pickle.load(file)\n",
    "    \n",
    "with open('x_test.pkl', 'rb') as file:\n",
    "    x_test = pickle.load(file)\n",
    "\n",
    "with open('y_train.pkl', 'rb') as file:\n",
    "    y_train = pickle.load(file)\n",
    "    \n",
    "with open('y_test.pkl', 'rb') as file:\n",
    "    y_test = pickle.load(file)\n",
    "    \n",
    "with open('tweet_collection.pkl', 'rb') as file:\n",
    "    tweet_collection = pickle.load(file)"
   ]
  },
  {
   "cell_type": "code",
   "execution_count": 22,
   "id": "2649495d",
   "metadata": {},
   "outputs": [
    {
     "name": "stdout",
     "output_type": "stream",
     "text": [
      "4608\n"
     ]
    }
   ],
   "source": [
    "print(len(x_train))"
   ]
  },
  {
   "cell_type": "code",
   "execution_count": 23,
   "id": "d8541478",
   "metadata": {},
   "outputs": [],
   "source": [
    "#Convert Labels from Strings to categorical Integers {Non-Hate = 1, Hate = 0}\n",
    "\n",
    "df_ytrain = pd.DataFrame(y_train, columns = ['Label'])\n",
    "df_ytest = pd.DataFrame(y_test, columns = ['Label'])\n",
    "\n",
    "#flatten training set for fitting on tfidf\n",
    "x_train_fit = list(chain.from_iterable(x_train))\n",
    "\n",
    "mapping = {'Non-hate': 0, 'Hate': 1}\n",
    "df_ytrain = df_ytrain.replace({'Label': mapping})\n",
    "df_ytest = df_ytest.replace({'Label': mapping})\n",
    "\n",
    "train_y = df_ytrain['Label'].tolist()\n",
    "test_y = df_ytest['Label'].tolist()\n",
    "\n",
    "np_train_y = np.asarray(train_y)\n",
    "np_test_y = np.asarray(test_y)"
   ]
  },
  {
   "cell_type": "code",
   "execution_count": 24,
   "id": "1c290756",
   "metadata": {},
   "outputs": [
    {
     "name": "stdout",
     "output_type": "stream",
     "text": [
      "(4608,)\n"
     ]
    }
   ],
   "source": [
    "print(np_train_y.shape)"
   ]
  },
  {
   "cell_type": "code",
   "execution_count": 25,
   "id": "bce23422",
   "metadata": {},
   "outputs": [
    {
     "name": "stdout",
     "output_type": "stream",
     "text": [
      "Sentence\n",
      ": day ends balota kiko pangilinan kasama\n",
      "True Value: Non-hate\n",
      "Converted: 0\n",
      "~~~~~~~~~~~\n",
      "\n",
      "Sentence\n",
      ": president cutie\n",
      "True Value: Non-hate\n",
      "Converted: 0\n",
      "~~~~~~~~~~~\n",
      "\n",
      "Sentence\n",
      ": first day covid pandemic via wow vp true leader world top pandemic needed done let lead phil vot president\n",
      "True Value: Non-hate\n",
      "Converted: 0\n",
      "~~~~~~~~~~~\n",
      "\n",
      "Sentence\n",
      ": presidente bise presidente kiko pangilininannnn\n",
      "True Value: Non-hate\n",
      "Converted: 0\n",
      "~~~~~~~~~~~\n",
      "\n",
      "Sentence\n",
      ": dalawang pangakong binitiwan sakaling ibotong susunod pangulo bansa basahin buong ulat\n",
      "True Value: Non-hate\n",
      "Converted: 0\n",
      "~~~~~~~~~~~\n",
      "\n",
      "Sentence\n",
      ": love people unite nation make philippines great let's support future president\n",
      "True Value: Non-hate\n",
      "Converted: 0\n",
      "~~~~~~~~~~~\n",
      "\n",
      "Sentence\n",
      ": pagsinabi sarah sasabihin niyo sarah geronimo sorry tawang tawa pota\n",
      "True Value: Hate\n",
      "Converted: 1\n",
      "~~~~~~~~~~~\n",
      "\n",
      "Sentence\n",
      ": ferdinand jr.--the unapologetic corrupt dictator ferdinand brutal human rights abuser murderer--is track win presidential election philippines really really bad thing\n",
      "True Value: Hate\n",
      "Converted: 1\n",
      "~~~~~~~~~~~\n",
      "\n",
      "Sentence\n",
      ": really true millenials rooting since experience knew well oppression amp plunder father's time leading universities country rooting besides opinion polls can't trusted due bribery\n",
      "True Value: Hate\n",
      "Converted: 1\n",
      "~~~~~~~~~~~\n",
      "\n",
      "Sentence\n",
      ": president vice president kiko panglinan whole tropang angat cutie\n",
      "True Value: Non-hate\n",
      "Converted: 0\n",
      "~~~~~~~~~~~\n",
      "\n"
     ]
    }
   ],
   "source": [
    "#Testing Encoding and Actual Values\n",
    "for i in range(10):\n",
    "    print(\"Sentence\\n: \",\" \".join(str(item) for item in x_test[i]),\"\\n\",\"True Value: \", y_test[i], \"\\nConverted: \",test_y[i],\"\\n~~~~~~~~~~~\\n\",sep=\"\")"
   ]
  },
  {
   "cell_type": "code",
   "execution_count": 26,
   "id": "b6927f82",
   "metadata": {},
   "outputs": [
    {
     "data": {
      "text/plain": [
       "SelectPercentile(percentile=40)"
      ]
     },
     "execution_count": 26,
     "metadata": {},
     "output_type": "execute_result"
    }
   ],
   "source": [
    "#TFIDF, classifer building using the training dataset of tweets using a maximum features of the top 40%\n",
    "\n",
    "def dummy_fun(doc):\n",
    "    return doc\n",
    "\n",
    "tfidf = TfidfVectorizer(\n",
    "    analyzer='word',\n",
    "    tokenizer=dummy_fun,\n",
    "    preprocessor=dummy_fun,\n",
    "    token_pattern=None)  \n",
    "\n",
    "#classifier building/ fitting of training dataset to tfidf\n",
    "fitted_training_x = tfidf.fit_transform(x_train)\n",
    "fitted_testing_x = tfidf.transform(x_test)\n",
    "\n",
    "#transform based on top 40 percent features\n",
    "selector = SelectPercentile(f_classif, percentile = 40)\n",
    "selector.fit(fitted_training_x, train_y)"
   ]
  },
  {
   "cell_type": "code",
   "execution_count": 27,
   "id": "0b7ef98f",
   "metadata": {},
   "outputs": [
    {
     "name": "stdout",
     "output_type": "stream",
     "text": [
      "4924\n"
     ]
    }
   ],
   "source": [
    "#Convert tweet tokens into vectors using the classifier built using tfidf\n",
    "\n",
    "x_train_vectorized = selector.transform(fitted_training_x).toarray()\n",
    "x_test_vectorized = selector.transform(fitted_testing_x).toarray()\n",
    "\n",
    "number_of_features = len(x_train_vectorized[0])\n",
    "print(number_of_features)"
   ]
  },
  {
   "cell_type": "code",
   "execution_count": 28,
   "id": "40cd2778",
   "metadata": {},
   "outputs": [
    {
     "name": "stdout",
     "output_type": "stream",
     "text": [
      "training CNN ...\n",
      "Model: \"sequential_1\"\n",
      "_________________________________________________________________\n",
      " Layer (type)                Output Shape              Param #   \n",
      "=================================================================\n",
      " dense_4 (Dense)             (None, 1000)              4925000   \n",
      "                                                                 \n",
      " dropout_3 (Dropout)         (None, 1000)              0         \n",
      "                                                                 \n",
      " dense_5 (Dense)             (None, 500)               500500    \n",
      "                                                                 \n",
      " dropout_4 (Dropout)         (None, 500)               0         \n",
      "                                                                 \n",
      " dense_6 (Dense)             (None, 50)                25050     \n",
      "                                                                 \n",
      " dropout_5 (Dropout)         (None, 50)                0         \n",
      "                                                                 \n",
      " dense_7 (Dense)             (None, 2)                 102       \n",
      "                                                                 \n",
      "=================================================================\n",
      "Total params: 5,450,652\n",
      "Trainable params: 5,450,652\n",
      "Non-trainable params: 0\n",
      "_________________________________________________________________\n"
     ]
    }
   ],
   "source": [
    "#FFNN MODEL\n",
    "print(\"training CNN ...\")\n",
    "\n",
    "#create model\n",
    "model = Sequential()\n",
    "model.add(Input(shape=(number_of_features,), name='Input-Layer'))\n",
    "model.add(Dense(1000, activation = 'relu'))\n",
    "model.add(Dropout(0.5))\n",
    "model.add(Dense(500, activation = 'relu'))\n",
    "model.add(Dropout(0.5))\n",
    "model.add(Dense(50, activation = 'relu'))\n",
    "model.add(Dropout(0.5))\n",
    "model.add(Dense(2, activation='softmax'))\n",
    "\n",
    "#optimizer using the default values\n",
    "adam = optimizers.Adam(learning_rate=0.001, beta_1=0.9, beta_2=0.999, epsilon=1e-08, decay=0.0)\n",
    "\n",
    "#compile model\n",
    "model.compile(loss='sparse_categorical_crossentropy', optimizer=adam, metrics=['accuracy'])\n",
    "model.summary()"
   ]
  },
  {
   "cell_type": "code",
   "execution_count": 29,
   "id": "d55a7888",
   "metadata": {},
   "outputs": [
    {
     "name": "stdout",
     "output_type": "stream",
     "text": [
      "Epoch 1/5\n",
      "130/130 [==============================] - 3s 24ms/step - loss: 0.4735 - accuracy: 0.7603 - val_loss: 0.3308 - val_accuracy: 0.8503\n",
      "Epoch 2/5\n",
      "130/130 [==============================] - 3s 22ms/step - loss: 0.2074 - accuracy: 0.9183 - val_loss: 0.3251 - val_accuracy: 0.8590\n",
      "Epoch 3/5\n",
      "130/130 [==============================] - 3s 23ms/step - loss: 0.1120 - accuracy: 0.9556 - val_loss: 0.3725 - val_accuracy: 0.8785\n",
      "Epoch 4/5\n",
      "130/130 [==============================] - 3s 22ms/step - loss: 0.0788 - accuracy: 0.9694 - val_loss: 0.4363 - val_accuracy: 0.8764\n",
      "Epoch 5/5\n",
      "130/130 [==============================] - 3s 23ms/step - loss: 0.0597 - accuracy: 0.9761 - val_loss: 0.4614 - val_accuracy: 0.8698\n"
     ]
    }
   ],
   "source": [
    "#fit dataset and model\n",
    "##### Step 5 - Fit keras model on the dataset\n",
    "model_history = model.fit(x_train_vectorized, # input data\n",
    "          np_train_y, # target data\n",
    "          epochs=5, # default=1, Number of epochs to train the model. An epoch is an iteration over the entire x and y data provided\n",
    "          verbose='auto',\n",
    "          validation_split = 0.1\n",
    "         )\n",
    "\n",
    "model.save('cabasag_model.h5')"
   ]
  },
  {
   "cell_type": "code",
   "execution_count": 30,
   "id": "5fbf25b8",
   "metadata": {},
   "outputs": [
    {
     "name": "stdout",
     "output_type": "stream",
     "text": [
      "144/144 [==============================] - 1s 5ms/step - loss: 0.0775 - accuracy: 0.9703\n",
      "[0.077456995844841, 0.9702690839767456]\n"
     ]
    }
   ],
   "source": [
    "#test for accuracies\n",
    "\n",
    "results_training = model.evaluate(x_train_vectorized, np_train_y)\n",
    "print(results_training)"
   ]
  },
  {
   "cell_type": "code",
   "execution_count": 31,
   "id": "330ff069",
   "metadata": {},
   "outputs": [
    {
     "name": "stdout",
     "output_type": "stream",
     "text": [
      "16/16 [==============================] - 0s 5ms/step - loss: 0.8044 - accuracy: 0.8340\n",
      "[0.8043512105941772, 0.833984375]\n"
     ]
    }
   ],
   "source": [
    "#test for accuracies\n",
    "\n",
    "results_testing = model.evaluate(x_test_vectorized, np_test_y)\n",
    "print(results_testing)"
   ]
  },
  {
   "cell_type": "code",
   "execution_count": 32,
   "id": "b4b29dc1",
   "metadata": {},
   "outputs": [
    {
     "data": {
      "image/png": "[encoded data removed]",
      "text/plain": [
       "<Figure size 576x432 with 1 Axes>"
      ]
     },
     "metadata": {},
     "output_type": "display_data"
    }
   ],
   "source": [
    "#plot configuration\n",
    "CB91_Blue = '#2CBDFE'\n",
    "CB91_Green = '#47DBCD'\n",
    "CB91_Pink = '#F3A0F2'\n",
    "CB91_Purple = '#9D2EC5'\n",
    "CB91_Violet = '#661D98'\n",
    "CB91_Amber = '#F5B14C'\n",
    "\n",
    "color_list = [CB91_Blue, CB91_Amber]\n",
    "\n",
    "csfont = {'fontname':'Helvetica'}\n",
    "hfont = {'fontname':'Helvetica'}\n",
    "\n",
    "plt.title('title',**csfont)\n",
    "plt.xlabel('xlabel', **hfont)\n",
    "plt.rcParams['axes.prop_cycle'] = plt.cycler(color=color_list)"
   ]
  },
  {
   "cell_type": "code",
   "execution_count": 33,
   "id": "8f4befa9",
   "metadata": {},
   "outputs": [
    {
     "data": {
      "image/png": "[encoded data removed]",
      "text/plain": [
       "<Figure size 576x432 with 1 Axes>"
      ]
     },
     "metadata": {},
     "output_type": "display_data"
    }
   ],
   "source": [
    "# plot loss during training\n",
    "plt.subplot(212)\n",
    "plt.title('MODEL LOSS\\n(Binary TFIDF FFNN 9010)\\n', fontsize = 13)\n",
    "plt.plot(model_history.history['loss'], label='training', linewidth=2)\n",
    "plt.plot(model_history.history['val_loss'], label='validation', linewidth=2)\n",
    "plt.legend(frameon=False)\n",
    "plt.xlabel(\"Epoch\")\n",
    "plt.ylabel(\"Loss\")\n",
    "plt.show()"
   ]
  },
  {
   "cell_type": "code",
   "execution_count": 34,
   "id": "9347e02b",
   "metadata": {},
   "outputs": [
    {
     "data": {
      "image/png": "[encoded data removed]",
      "text/plain": [
       "<Figure size 576x432 with 1 Axes>"
      ]
     },
     "metadata": {},
     "output_type": "display_data"
    }
   ],
   "source": [
    "# plot accuracy during training\n",
    "plt.subplot(212)\n",
    "plt.title('MODEL ACCURACY\\n(Binary TFIDF FFNN 9010)\\n', fontsize = 13)\n",
    "plt.plot(model_history.history['accuracy'], label='training', linewidth=2)\n",
    "plt.plot(model_history.history['val_accuracy'], label='validation', linewidth=2)\n",
    "plt.legend(frameon=False)\n",
    "plt.xlabel(\"Epoch\")\n",
    "plt.ylabel(\"Accuracy\")\n",
    "plt.show()"
   ]
  },
  {
   "cell_type": "code",
   "execution_count": 35,
   "id": "a8d6be82",
   "metadata": {},
   "outputs": [
    {
     "name": "stdout",
     "output_type": "stream",
     "text": [
      "144/144 [==============================] - 1s 5ms/step\n",
      "16/16 [==============================] - 0s 5ms/step\n",
      "\n",
      "-------------------- Model Summary --------------------\n",
      "\n",
      "Model: \"sequential_1\"\n",
      "_________________________________________________________________\n",
      " Layer (type)                Output Shape              Param #   \n",
      "=================================================================\n",
      " dense_4 (Dense)             (None, 1000)              4925000   \n",
      "                                                                 \n",
      " dropout_3 (Dropout)         (None, 1000)              0         \n",
      "                                                                 \n",
      " dense_5 (Dense)             (None, 500)               500500    \n",
      "                                                                 \n",
      " dropout_4 (Dropout)         (None, 500)               0         \n",
      "                                                                 \n",
      " dense_6 (Dense)             (None, 50)                25050     \n",
      "                                                                 \n",
      " dropout_5 (Dropout)         (None, 50)                0         \n",
      "                                                                 \n",
      " dense_7 (Dense)             (None, 2)                 102       \n",
      "                                                                 \n",
      "=================================================================\n",
      "Total params: 5,450,652\n",
      "Trainable params: 5,450,652\n",
      "Non-trainable params: 0\n",
      "_________________________________________________________________\n",
      "\n",
      "\n",
      "---------- Evaluation on Training Data ----------\n",
      "              precision    recall  f1-score   support\n",
      "\n",
      "           0     0.9826    0.9574    0.9699      2303\n",
      "           1     0.9585    0.9831    0.9707      2305\n",
      "\n",
      "    accuracy                         0.9703      4608\n",
      "   macro avg     0.9706    0.9703    0.9703      4608\n",
      "weighted avg     0.9706    0.9703    0.9703      4608\n",
      "\n",
      "\n",
      "\n",
      "---------- Evaluation on Test Data ----------\n",
      "              precision    recall  f1-score   support\n",
      "\n",
      "           0     0.8440    0.8210    0.8323       257\n",
      "           1     0.8244    0.8471    0.8356       255\n",
      "\n",
      "    accuracy                         0.8340       512\n",
      "   macro avg     0.8342    0.8340    0.8340       512\n",
      "weighted avg     0.8343    0.8340    0.8340       512\n",
      "\n",
      "\n"
     ]
    }
   ],
   "source": [
    "#use predictions on test data\n",
    "##### Step 6 - Use model to make predictions\n",
    "# Predict class labels on training data\n",
    "#pred_labels_train = (model.predict(x_train_vectorized) > 0.5).astype(int)\n",
    "pred_labels_train = model.predict(x_train_vectorized)\n",
    "# Predict class labels on a test data\n",
    "#pred_labels_test = (model.predict(x_test_vectorized) > 0.5).astype(int)\n",
    "pred_labels_test = model.predict(x_test_vectorized)\n",
    "\n",
    "pred_labels_train_1 = []\n",
    "\n",
    "pred_labels_test_1 = []\n",
    "\n",
    "pred_labels_test_y = []\n",
    "\n",
    "for i in range(len(pred_labels_train)):\n",
    "    label = np.argmax(pred_labels_train[i])\n",
    "    pred_labels_train_1.append(label)\n",
    "    \n",
    "for i in range(len(pred_labels_test)):\n",
    "    label = np.argmax(pred_labels_test[i]) \n",
    "    pred_labels_test_1.append(label)\n",
    "    pred_labels_test_y.append(pred_labels_test[i][label])\n",
    "    \n",
    "##### Step 7 - Model Performance Summary\n",
    "print(\"\")\n",
    "print('-------------------- Model Summary --------------------\\n')\n",
    "model.summary() # print model summary\n",
    "print(\"\")\n",
    "print('\\n---------- Evaluation on Training Data ----------')\n",
    "print(classification_report(np_train_y, pred_labels_train_1, digits=4))\n",
    "print(\"\")\n",
    "\n",
    "print('\\n---------- Evaluation on Test Data ----------')\n",
    "print(classification_report(np_test_y, pred_labels_test_1, digits=4))\n",
    "print(\"\")"
   ]
  },
  {
   "cell_type": "code",
   "execution_count": 36,
   "id": "5fc870f1",
   "metadata": {},
   "outputs": [
    {
     "name": "stdout",
     "output_type": "stream",
     "text": [
      "[[211  46]\n",
      " [ 39 216]]\n"
     ]
    },
    {
     "data": {
      "image/png": "[encoded data removed]",
      "text/plain": [
       "<Figure size 576x432 with 2 Axes>"
      ]
     },
     "metadata": {},
     "output_type": "display_data"
    }
   ],
   "source": [
    "cf_matrix = confusion_matrix(np_test_y, pred_labels_test_1)\n",
    "print(cf_matrix)\n",
    "sns.set(rc={\"figure.figsize\":(8, 6)})\n",
    "ax = sns.heatmap(cf_matrix/np.sum(cf_matrix), annot=True, xticklabels = ['Non Hate', 'Hate'], yticklabels = ['Non Hate', 'Hate'],\n",
    "            fmt='.2%', cmap='Blues')\n",
    "\n",
    "plt.title('Confusion Matrix\\n(Binary TFIDF FFNN 9010)\\n', fontsize = 13) # title with fontsize 20\n",
    "plt.show()"
   ]
  },
  {
   "cell_type": "code",
   "execution_count": 37,
   "id": "09439e11",
   "metadata": {},
   "outputs": [
    {
     "data": {
      "text/html": [
       "<div>\n",
       "<style scoped>\n",
       "    .dataframe tbody tr th:only-of-type {\n",
       "        vertical-align: middle;\n",
       "    }\n",
       "\n",
       "    .dataframe tbody tr th {\n",
       "        vertical-align: top;\n",
       "    }\n",
       "\n",
       "    .dataframe thead th {\n",
       "        text-align: right;\n",
       "    }\n",
       "</style>\n",
       "<table border=\"1\" class=\"dataframe\">\n",
       "  <thead>\n",
       "    <tr style=\"text-align: right;\">\n",
       "      <th></th>\n",
       "      <th>Tweet</th>\n",
       "      <th>Prediction</th>\n",
       "      <th>Prediction Value</th>\n",
       "    </tr>\n",
       "  </thead>\n",
       "  <tbody>\n",
       "    <tr>\n",
       "      <th>0</th>\n",
       "      <td>[day, ends, balota, kiko, pangilinan, kasama]</td>\n",
       "      <td>0</td>\n",
       "      <td>0.999681</td>\n",
       "    </tr>\n",
       "    <tr>\n",
       "      <th>1</th>\n",
       "      <td>[president, cutie]</td>\n",
       "      <td>0</td>\n",
       "      <td>1.000000</td>\n",
       "    </tr>\n",
       "    <tr>\n",
       "      <th>2</th>\n",
       "      <td>[first, day, covid, pandemic, via, wow, vp, tr...</td>\n",
       "      <td>0</td>\n",
       "      <td>0.999829</td>\n",
       "    </tr>\n",
       "    <tr>\n",
       "      <th>3</th>\n",
       "      <td>[presidente, bise, presidente, kiko, pangilini...</td>\n",
       "      <td>0</td>\n",
       "      <td>0.983980</td>\n",
       "    </tr>\n",
       "    <tr>\n",
       "      <th>4</th>\n",
       "      <td>[dalawang, pangakong, binitiwan, sakaling, ibo...</td>\n",
       "      <td>0</td>\n",
       "      <td>0.999793</td>\n",
       "    </tr>\n",
       "    <tr>\n",
       "      <th>...</th>\n",
       "      <td>...</td>\n",
       "      <td>...</td>\n",
       "      <td>...</td>\n",
       "    </tr>\n",
       "    <tr>\n",
       "      <th>507</th>\n",
       "      <td>[robredo's, final, speech, comelec's, presiden...</td>\n",
       "      <td>0</td>\n",
       "      <td>0.991915</td>\n",
       "    </tr>\n",
       "    <tr>\n",
       "      <th>508</th>\n",
       "      <td>[sinungaling, umpisa, sinungaling, kahuli, hul...</td>\n",
       "      <td>1</td>\n",
       "      <td>1.000000</td>\n",
       "    </tr>\n",
       "    <tr>\n",
       "      <th>509</th>\n",
       "      <td>[siniraan, pilipinas, last, six, years, wants,...</td>\n",
       "      <td>1</td>\n",
       "      <td>0.985040</td>\n",
       "    </tr>\n",
       "    <tr>\n",
       "      <th>510</th>\n",
       "      <td>[manalo, matalo, kay, hganggang, dulo]</td>\n",
       "      <td>0</td>\n",
       "      <td>0.999960</td>\n",
       "    </tr>\n",
       "    <tr>\n",
       "      <th>511</th>\n",
       "      <td>[si, niyo, sakit, malapit, mastroke, ata, pali...</td>\n",
       "      <td>1</td>\n",
       "      <td>0.999801</td>\n",
       "    </tr>\n",
       "  </tbody>\n",
       "</table>\n",
       "<p>512 rows × 3 columns</p>\n",
       "</div>"
      ],
      "text/plain": [
       "                                                 Tweet  Prediction  \\\n",
       "0        [day, ends, balota, kiko, pangilinan, kasama]           0   \n",
       "1                                   [president, cutie]           0   \n",
       "2    [first, day, covid, pandemic, via, wow, vp, tr...           0   \n",
       "3    [presidente, bise, presidente, kiko, pangilini...           0   \n",
       "4    [dalawang, pangakong, binitiwan, sakaling, ibo...           0   \n",
       "..                                                 ...         ...   \n",
       "507  [robredo's, final, speech, comelec's, presiden...           0   \n",
       "508  [sinungaling, umpisa, sinungaling, kahuli, hul...           1   \n",
       "509  [siniraan, pilipinas, last, six, years, wants,...           1   \n",
       "510             [manalo, matalo, kay, hganggang, dulo]           0   \n",
       "511  [si, niyo, sakit, malapit, mastroke, ata, pali...           1   \n",
       "\n",
       "     Prediction Value  \n",
       "0            0.999681  \n",
       "1            1.000000  \n",
       "2            0.999829  \n",
       "3            0.983980  \n",
       "4            0.999793  \n",
       "..                ...  \n",
       "507          0.991915  \n",
       "508          1.000000  \n",
       "509          0.985040  \n",
       "510          0.999960  \n",
       "511          0.999801  \n",
       "\n",
       "[512 rows x 3 columns]"
      ]
     },
     "execution_count": 37,
     "metadata": {},
     "output_type": "execute_result"
    }
   ],
   "source": [
    "test_results = pd.DataFrame(list(zip(x_test,pred_labels_test_1, pred_labels_test_y)), columns = ['Tweet','Prediction', 'Prediction Value'])\n",
    "test_results "
   ]
  },
  {
   "cell_type": "code",
   "execution_count": 38,
   "id": "a4966bc4",
   "metadata": {},
   "outputs": [],
   "source": [
    "#Saving labels to be used on other files\n",
    "true_labels = open('true_labels.pkl', 'wb')\n",
    "pickle.dump(np_test_y,true_labels)\n",
    "true_labels.close()\n",
    "\n",
    "predicted_labels = open('TFIDFFFNN_predicted_labels.pkl', 'wb')\n",
    "pickle.dump(pred_labels_test_1,predicted_labels)\n",
    "predicted_labels.close()\n",
    "\n",
    "TFIDFFFNN_test_results = open('TFIDFFFNN_test_results.pkl', 'wb')\n",
    "pickle.dump(test_results,TFIDFFFNN_test_results)\n",
    "TFIDFFFNN_test_results.close()"
   ]
  },
  {
   "cell_type": "code",
   "execution_count": null,
   "id": "6ff68a47",
   "metadata": {},
   "outputs": [],
   "source": [
    "#test_predictions = (model.predict(x_test_vectorized) > 0.5).astype(int)\n",
    "\n",
    "#test_prediction_labels = []\n",
    "\n",
    "#for i in range(len(test_predictions)):\n",
    "    \n",
    "#    trueval = 'Non-hate'\n",
    "    \n",
    "#    if(test_y[i] == 1):\n",
    " #       trueval = 'Hate'\n",
    "        \n",
    "#    pred = 'Non-hate'\n",
    "    \n",
    " #   if(test_predictions[i][1] == 1):\n",
    " #       pred = 'Hate'\n",
    "    \n",
    "  #  test_prediction_labels.append(pred)\n",
    "  #  print(\"Sentence\\n: \",\" \".join(str(item) for item in x_test[i]),\"\\n\",\"True Value: \", trueval, \"\\nPred: \",pred, \"\\n~~~~~~~~~~~\\n\",sep=\"\")"
   ]
  },
  {
   "cell_type": "code",
   "execution_count": null,
   "id": "ed51cf6e",
   "metadata": {},
   "outputs": [],
   "source": [
    "#comparison_dataframe = pd.DataFrame(list(zip(x_test,y_test, test_prediction_labels)), columns = ['Tweet','True Label', 'Clasiification Label'])  \n",
    "\n",
    "#with pd.option_context('display.max_rows', None,\n",
    "#                       'display.max_columns', None,\n",
    " #                      'display.precision', 3,\n",
    "  #                     ):\n",
    " #   display(comparison_dataframe)"
   ]
  },
  {
   "cell_type": "code",
   "execution_count": null,
   "id": "fab0ac83",
   "metadata": {},
   "outputs": [],
   "source": []
  },
  {
   "cell_type": "code",
   "execution_count": null,
   "id": "58bcf6bc",
   "metadata": {},
   "outputs": [],
   "source": []
  }
 ],
 "metadata": {
  "kernelspec": {
   "display_name": "Python 3",
   "language": "python",
   "name": "python3"
  },
  "language_info": {
   "codemirror_mode": {
    "name": "ipython",
    "version": 3
   },
   "file_extension": ".py",
   "mimetype": "text/x-python",
   "name": "python",
   "nbconvert_exporter": "python",
   "pygments_lexer": "ipython3",
   "version": "3.8.8"
  }
 },
 "nbformat": 4,
 "nbformat_minor": 5
}
