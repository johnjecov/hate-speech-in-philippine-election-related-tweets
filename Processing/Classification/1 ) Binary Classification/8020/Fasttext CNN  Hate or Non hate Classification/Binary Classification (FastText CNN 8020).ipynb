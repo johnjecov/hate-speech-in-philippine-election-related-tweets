{
 "cells": [
  {
   "cell_type": "code",
   "execution_count": 1,
   "id": "d198f56f",
   "metadata": {},
   "outputs": [],
   "source": [
    "import numpy as np\n",
    "import pandas as pd\n",
    "import seaborn as sns\n",
    "import matplotlib.pyplot as plt\n",
    "\n",
    "import tensorflow as tf\n",
    "from tensorflow import keras\n",
    "from keras import optimizers\n",
    "from keras import regularizers\n",
    "from keras.models import Sequential\n",
    "from keras.layers import Dense, Activation, Dropout, Flatten\n",
    "from keras.layers import Embedding, Conv1D, MaxPooling1D, GlobalMaxPooling1D \n",
    "from keras.utils import np_utils\n",
    "from keras.utils import plot_model\n",
    "from keras.preprocessing import sequence\n",
    "from keras.preprocessing.text import Tokenizer\n",
    "from itertools import chain\n",
    "from tensorflow.keras import initializers\n",
    "from keras.layers import concatenate\n",
    "\n",
    "from tqdm import tqdm\n",
    "from gensim.models import fasttext, KeyedVectors, FastText\n",
    "from gensim.test.utils import datapath\n",
    "import os, re, csv, math, codecs, pickle, nltk\n",
    "from sklearn.preprocessing import LabelEncoder\n",
    "from sklearn.metrics import accuracy_score, confusion_matrix, classification_report\n",
    "from sklearn.model_selection import train_test_split\n",
    "import matplotlib.pyplot as plt\n",
    "from keras.models import load_model\n",
    "from keras.callbacks import ModelCheckpoint, EarlyStopping\n",
    "from matplotlib import rcParams\n",
    "from gensim.test.utils import get_tmpfile"
   ]
  },
  {
   "cell_type": "code",
   "execution_count": 2,
   "id": "03ebe364",
   "metadata": {},
   "outputs": [],
   "source": [
    "# OPEN DATA from pickle files\n",
    "# x_train, x_test, y_train, y_test\n",
    "# x = tweets data\n",
    "# y = tweet labels data\n",
    "\n",
    "with open('x_train.pkl', 'rb') as file:\n",
    "    x_train = pickle.load(file)\n",
    "    \n",
    "with open('x_test.pkl', 'rb') as file:\n",
    "    x_test = pickle.load(file)\n",
    "\n",
    "with open('y_train.pkl', 'rb') as file:\n",
    "    y_train = pickle.load(file)\n",
    "    \n",
    "with open('y_test.pkl', 'rb') as file:\n",
    "    y_test = pickle.load(file)\n"
   ]
  },
  {
   "cell_type": "code",
   "execution_count": 3,
   "id": "7915b440",
   "metadata": {},
   "outputs": [
    {
     "name": "stdout",
     "output_type": "stream",
     "text": [
      "<class 'pandas.core.frame.DataFrame'>\n",
      "RangeIndex: 4096 entries, 0 to 4095\n",
      "Data columns (total 1 columns):\n",
      " #   Column  Non-Null Count  Dtype\n",
      "---  ------  --------------  -----\n",
      " 0   Label   4096 non-null   int64\n",
      "dtypes: int64(1)\n",
      "memory usage: 32.1 KB\n"
     ]
    }
   ],
   "source": [
    "#get tweets as x \n",
    "\n",
    "df_x_train = pd.DataFrame(x_train)\n",
    "df_x_test = pd.DataFrame(x_test)\n",
    "#x_train\n",
    "#x_test\n",
    "\n",
    "#get max length of sentences\n",
    "\n",
    "list_len = [len(i) for i in x_train]\n",
    "index_of_max = np.argmax(np.array(list_len))\n",
    "max_sentence_len = list_len[index_of_max]\n",
    "\n",
    "#flatten the x_train for fitting in the model tokenizer\n",
    "x_train_fit = list(chain.from_iterable(x_train))\n",
    "\n",
    "#get labels as y\n",
    "df_ytrain = pd.DataFrame(y_train, columns = ['Label'])\n",
    "df_ytest = pd.DataFrame(y_test, columns = ['Label'])\n",
    "\n",
    "mapping = {'Non-hate': 0, 'Hate': 1}\n",
    "df_ytrain = df_ytrain.replace({'Label': mapping})\n",
    "df_ytest = df_ytest.replace({'Label': mapping})\n",
    "\n",
    "train_y = df_ytrain['Label'].tolist()\n",
    "test_y = df_ytest['Label'].tolist()\n",
    "\n",
    "np_train_y = np.asarray(train_y)\n",
    "np_test_y = np.asarray(test_y)\n",
    "df_ytrain.info()"
   ]
  },
  {
   "cell_type": "code",
   "execution_count": 4,
   "id": "c246af34",
   "metadata": {},
   "outputs": [
    {
     "name": "stdout",
     "output_type": "stream",
     "text": [
      "presidential candidate vice president backed proposal four-day workweek country amid rising fuel prices stressed need ensure workers shortchanged\n",
      "[10, 25, 7, 2, 2319, 3093, 1295, 128, 1545, 66, 3094, 4763, 2320, 2321, 3095, 153, 3096, 1129, 4764]\n",
      "dictionary size:  11093\n",
      "4096\n",
      "1024\n"
     ]
    }
   ],
   "source": [
    "# DATA VECTORIZATION\n",
    "\n",
    "\n",
    "#process tweets before vectorization\n",
    "x_train_sequences = []\n",
    "x_test_sequences = []\n",
    "\n",
    "for i in range(len(x_train)):\n",
    "    tweet = \" \".join(x_train[i])\n",
    "    x_train_sequences.append(tweet)\n",
    "    \n",
    "for i in range(len(x_test)):\n",
    "    tweet = \" \".join(x_test[i])\n",
    "    x_test_sequences.append(tweet)\n",
    "\n",
    "tokenizer = Tokenizer(num_words=100000, char_level=False)\n",
    "tokenizer.fit_on_texts(x_train_fit)\n",
    "\n",
    "word_seq_train_x = tokenizer.texts_to_sequences(x_train_sequences)\n",
    "word_seq_test_x = tokenizer.texts_to_sequences(x_test_sequences)\n",
    "\n",
    "print(x_train_sequences[0])\n",
    "print(word_seq_train_x[0])\n",
    "\n",
    "#assign word_index from tokenizer to get the training dictionary \n",
    "#to check with the fasttext embeddings lateron\n",
    "word_index = tokenizer.word_index\n",
    "print(\"dictionary size: \", len(word_index))\n",
    "\n",
    "#pad sequences\n",
    "word_seq_train = keras.preprocessing.sequence.pad_sequences(word_seq_train_x, maxlen=max_sentence_len)\n",
    "word_seq_test = keras.preprocessing.sequence.pad_sequences(word_seq_test_x, maxlen=max_sentence_len)\n",
    "print(len(word_seq_train))\n",
    "print(len(word_seq_test))"
   ]
  },
  {
   "cell_type": "code",
   "execution_count": 5,
   "id": "9c249b4e",
   "metadata": {},
   "outputs": [],
   "source": [
    "# LOAD FASTTEXT CORPUS\n",
    "ft_model = fasttext.load_facebook_model(datapath(\"cc.tl.300.bin\"))"
   ]
  },
  {
   "cell_type": "code",
   "execution_count": 6,
   "id": "c02a8073",
   "metadata": {},
   "outputs": [
    {
     "data": {
      "text/plain": [
       "(32557, 102130)"
      ]
     },
     "execution_count": 6,
     "metadata": {},
     "output_type": "execute_result"
    }
   ],
   "source": [
    "# INCREMENT FASTTEXT CORPUS\n",
    "sent1 = x_train\n",
    "\n",
    "ft_model.build_vocab(sent1, update=True)\n",
    "ft_model.train(sent1, total_examples=len(sent1), epochs=ft_model.epochs)"
   ]
  },
  {
   "cell_type": "code",
   "execution_count": 7,
   "id": "c751b628",
   "metadata": {},
   "outputs": [
    {
     "name": "stdout",
     "output_type": "stream",
     "text": [
      "preparing embedding matrix...\n",
      "number of null word embeddings: 3\n",
      "[]\n",
      "(36,)\n"
     ]
    }
   ],
   "source": [
    "# EMBEDDING MATRIX\n",
    "print('preparing embedding matrix...')\n",
    "words_not_found = []\n",
    "nb_words = len(word_index)+1\n",
    "embedding_matrix = np.zeros((nb_words, 300))\n",
    "for word, i in word_index.items():\n",
    "    if i >= nb_words:\n",
    "        continue\n",
    "    embedding_vector = ft_model.wv[word]\n",
    "    if (embedding_vector is not None) and len(embedding_vector) > 0:\n",
    "        # words not found in embedding index will be all-zeros.\n",
    "        embedding_matrix[i] = embedding_vector\n",
    "    else:\n",
    "        words_not_found.append(word)\n",
    "print('number of null word embeddings: %d' % np.sum(np.sum(embedding_matrix, axis=1) == 0))\n",
    "print(words_not_found)\n",
    "print(word_seq_train[0].shape)"
   ]
  },
  {
   "cell_type": "code",
   "execution_count": 20,
   "id": "319718c8",
   "metadata": {},
   "outputs": [
    {
     "name": "stdout",
     "output_type": "stream",
     "text": [
      "training CNN ...\n",
      "Model: \"sequential_1\"\n",
      "_________________________________________________________________\n",
      " Layer (type)                Output Shape              Param #   \n",
      "=================================================================\n",
      " embedding_1 (Embedding)     (None, 36, 300)           3328200   \n",
      "                                                                 \n",
      " conv1d_2 (Conv1D)           (None, 36, 256)           153856    \n",
      "                                                                 \n",
      " max_pooling1d_1 (MaxPooling  (None, 18, 256)          0         \n",
      " 1D)                                                             \n",
      "                                                                 \n",
      " conv1d_3 (Conv1D)           (None, 18, 64)            65600     \n",
      "                                                                 \n",
      " global_max_pooling1d_1 (Glo  (None, 64)               0         \n",
      " balMaxPooling1D)                                                \n",
      "                                                                 \n",
      " dropout_1 (Dropout)         (None, 64)                0         \n",
      "                                                                 \n",
      " dense_1 (Dense)             (None, 1)                 65        \n",
      "                                                                 \n",
      "=================================================================\n",
      "Total params: 3,547,721\n",
      "Trainable params: 219,521\n",
      "Non-trainable params: 3,328,200\n",
      "_________________________________________________________________\n"
     ]
    }
   ],
   "source": [
    "#CNN MODEL TEST\n",
    "\n",
    "print(\"training CNN ...\")\n",
    "model = Sequential()\n",
    "model.add(Embedding(nb_words, 300,\n",
    "          weights=[embedding_matrix], input_length=max_sentence_len, trainable=False))\n",
    "model.add(Conv1D(256, 2, padding='same', activation='relu'))\n",
    "model.add(MaxPooling1D(2,2))\n",
    "model.add(Conv1D(64, 4, padding='same', activation='relu'))\n",
    "model.add(GlobalMaxPooling1D())\n",
    "model.add(Dropout(0.5))\n",
    "model.add(Dense(1, activation='sigmoid'))  #binary label non hate or hate\n",
    "\n",
    "adam = optimizers.Adam(learning_rate=0.001, beta_1=0.9, beta_2=0.999, epsilon=1e-08, decay=0.0)\n",
    "model.compile(loss='binary_crossentropy', optimizer=adam, metrics=['accuracy'])\n",
    "#model.compile(loss=keras.losses.BinaryCrossentropy(from_logits=True), optimizer=adam, metrics=['accuracy'])\n",
    "model.summary()"
   ]
  },
  {
   "cell_type": "code",
   "execution_count": 21,
   "id": "56786b88",
   "metadata": {},
   "outputs": [
    {
     "name": "stdout",
     "output_type": "stream",
     "text": [
      "Epoch 1/5\n",
      "116/116 - 2s - loss: 0.5751 - accuracy: 0.6942 - val_loss: 0.4443 - val_accuracy: 0.8000 - 2s/epoch - 17ms/step\n",
      "Epoch 2/5\n",
      "116/116 - 1s - loss: 0.4411 - accuracy: 0.7987 - val_loss: 0.3880 - val_accuracy: 0.8439 - 1s/epoch - 12ms/step\n",
      "Epoch 3/5\n",
      "116/116 - 1s - loss: 0.3773 - accuracy: 0.8285 - val_loss: 0.3631 - val_accuracy: 0.8439 - 1s/epoch - 12ms/step\n",
      "Epoch 4/5\n",
      "116/116 - 2s - loss: 0.3380 - accuracy: 0.8549 - val_loss: 0.3565 - val_accuracy: 0.8488 - 2s/epoch - 14ms/step\n",
      "Epoch 5/5\n",
      "116/116 - 1s - loss: 0.2827 - accuracy: 0.8844 - val_loss: 0.3642 - val_accuracy: 0.8317 - 1s/epoch - 12ms/step\n"
     ]
    }
   ],
   "source": [
    "model_history = model.fit(word_seq_train, np_train_y, batch_size = 32, epochs = 5, verbose=2, validation_split = 0.1)"
   ]
  },
  {
   "cell_type": "code",
   "execution_count": 22,
   "id": "af0a5e92",
   "metadata": {},
   "outputs": [
    {
     "data": {
      "image/png": "[encoded data removed]",
      "text/plain": [
       "<Figure size 576x432 with 1 Axes>"
      ]
     },
     "metadata": {},
     "output_type": "display_data"
    }
   ],
   "source": [
    "#plot configuration\n",
    "CB91_Blue = '#2CBDFE'\n",
    "CB91_Green = '#47DBCD'\n",
    "CB91_Pink = '#F3A0F2'\n",
    "CB91_Purple = '#9D2EC5'\n",
    "CB91_Violet = '#661D98'\n",
    "CB91_Amber = '#F5B14C'\n",
    "\n",
    "color_list = [CB91_Blue, CB91_Amber]\n",
    "\n",
    "csfont = {'fontname':'Helvetica'}\n",
    "hfont = {'fontname':'Helvetica'}\n",
    "\n",
    "plt.title('title',**csfont)\n",
    "plt.xlabel('xlabel', **hfont)\n",
    "plt.rcParams['axes.prop_cycle'] = plt.cycler(color=color_list)"
   ]
  },
  {
   "cell_type": "code",
   "execution_count": 23,
   "id": "2b847537",
   "metadata": {},
   "outputs": [
    {
     "data": {
      "image/png": "[encoded data removed]",
      "text/plain": [
       "<Figure size 576x432 with 1 Axes>"
      ]
     },
     "metadata": {},
     "output_type": "display_data"
    }
   ],
   "source": [
    "# plot loss during training\n",
    "plt.subplot(212)\n",
    "plt.title('MODEL LOSS\\n(Binary  fastText CNN 8020)\\n', fontsize = 13)\n",
    "plt.plot(model_history.history['loss'], label='training', linewidth=2)\n",
    "plt.plot(model_history.history['val_loss'], label='validation', linewidth=2)\n",
    "plt.legend(frameon=False)\n",
    "plt.xlabel(\"Epoch\")\n",
    "plt.ylabel(\"Loss\")\n",
    "plt.show()"
   ]
  },
  {
   "cell_type": "code",
   "execution_count": 24,
   "id": "c8a2c4e6",
   "metadata": {},
   "outputs": [
    {
     "data": {
      "image/png": "[encoded data removed]",
      "text/plain": [
       "<Figure size 576x432 with 1 Axes>"
      ]
     },
     "metadata": {},
     "output_type": "display_data"
    }
   ],
   "source": [
    "# plot accuracy during training\n",
    "plt.subplot(212)\n",
    "plt.title('MODEL ACCURACY\\n(Binary fastText CNN 8020)\\n', fontsize = 13)\n",
    "plt.plot(model_history.history['accuracy'], label='training', linewidth=2)\n",
    "plt.plot(model_history.history['val_accuracy'], label='validation', linewidth=2)\n",
    "plt.legend(frameon=False)\n",
    "plt.xlabel(\"Epoch\")\n",
    "plt.ylabel(\"Accuracy\")\n",
    "plt.show()"
   ]
  },
  {
   "cell_type": "code",
   "execution_count": 25,
   "id": "4498a9fb",
   "metadata": {},
   "outputs": [],
   "source": [
    "model.save('fasttextcnn.h5')\n",
    "#model = load_model('best_model.h5')"
   ]
  },
  {
   "cell_type": "code",
   "execution_count": 26,
   "id": "be36f9d7",
   "metadata": {},
   "outputs": [
    {
     "name": "stdout",
     "output_type": "stream",
     "text": [
      "128/128 [==============================] - 1s 5ms/step\n"
     ]
    }
   ],
   "source": [
    "pred_labels_train = model.predict(word_seq_train)\n",
    "ytrain_result = (pred_labels_train > 0.5).astype(int)"
   ]
  },
  {
   "cell_type": "code",
   "execution_count": 27,
   "id": "ddb14c4a",
   "metadata": {},
   "outputs": [
    {
     "name": "stdout",
     "output_type": "stream",
     "text": [
      "32/32 [==============================] - 0s 5ms/step\n"
     ]
    }
   ],
   "source": [
    "pred_labels_test = model.predict(word_seq_test)\n",
    "ytest_result = (pred_labels_test > 0.5).astype(int)"
   ]
  },
  {
   "cell_type": "code",
   "execution_count": 28,
   "id": "3d75b5f2",
   "metadata": {},
   "outputs": [
    {
     "name": "stdout",
     "output_type": "stream",
     "text": [
      "\n",
      "-------------------- Model Summary --------------------\n",
      "Model: \"sequential_1\"\n",
      "_________________________________________________________________\n",
      " Layer (type)                Output Shape              Param #   \n",
      "=================================================================\n",
      " embedding_1 (Embedding)     (None, 36, 300)           3328200   \n",
      "                                                                 \n",
      " conv1d_2 (Conv1D)           (None, 36, 256)           153856    \n",
      "                                                                 \n",
      " max_pooling1d_1 (MaxPooling  (None, 18, 256)          0         \n",
      " 1D)                                                             \n",
      "                                                                 \n",
      " conv1d_3 (Conv1D)           (None, 18, 64)            65600     \n",
      "                                                                 \n",
      " global_max_pooling1d_1 (Glo  (None, 64)               0         \n",
      " balMaxPooling1D)                                                \n",
      "                                                                 \n",
      " dropout_1 (Dropout)         (None, 64)                0         \n",
      "                                                                 \n",
      " dense_1 (Dense)             (None, 1)                 65        \n",
      "                                                                 \n",
      "=================================================================\n",
      "Total params: 3,547,721\n",
      "Trainable params: 219,521\n",
      "Non-trainable params: 3,328,200\n",
      "_________________________________________________________________\n",
      "\n",
      "---------- Evaluation on Training Data ----------\n",
      "              precision    recall  f1-score   support\n",
      "\n",
      "           0     0.9230    0.9122    0.9176      2038\n",
      "           1     0.9140    0.9247    0.9193      2058\n",
      "\n",
      "    accuracy                         0.9185      4096\n",
      "   macro avg     0.9185    0.9184    0.9184      4096\n",
      "weighted avg     0.9185    0.9185    0.9185      4096\n",
      "\n",
      "\n",
      "---------- Evaluation on Test Data ----------\n",
      "              precision    recall  f1-score   support\n",
      "\n",
      "           0     0.8280    0.8487    0.8382       522\n",
      "           1     0.8384    0.8167    0.8274       502\n",
      "\n",
      "    accuracy                         0.8330      1024\n",
      "   macro avg     0.8332    0.8327    0.8328      1024\n",
      "weighted avg     0.8331    0.8330    0.8329      1024\n",
      "\n",
      "\n"
     ]
    }
   ],
   "source": [
    "##### Step 7 - Model Performance Summary\n",
    "\n",
    "print(\"\")\n",
    "print('-------------------- Model Summary --------------------')\n",
    "model.summary() # print model summary\n",
    "print(\"\")\n",
    "print('---------- Evaluation on Training Data ----------')\n",
    "print(classification_report(np_train_y, ytrain_result, digits = 4))\n",
    "print(\"\")\n",
    "\n",
    "print('---------- Evaluation on Test Data ----------')\n",
    "print(classification_report(np_test_y, ytest_result, digits = 4))\n",
    "print(\"\")"
   ]
  },
  {
   "cell_type": "code",
   "execution_count": 29,
   "id": "3596d791",
   "metadata": {},
   "outputs": [
    {
     "name": "stdout",
     "output_type": "stream",
     "text": [
      "[[443  79]\n",
      " [ 92 410]]\n"
     ]
    },
    {
     "data": {
      "image/png": "[encoded data removed]",
      "text/plain": [
       "<Figure size 576x432 with 2 Axes>"
      ]
     },
     "metadata": {},
     "output_type": "display_data"
    }
   ],
   "source": [
    "cf_matrix = confusion_matrix(np_test_y, ytest_result)\n",
    "print(cf_matrix)\n",
    "sns.set(rc={\"figure.figsize\":(8, 6)})\n",
    "sns.heatmap(cf_matrix/np.sum(cf_matrix), annot=True, xticklabels = ['Non Hate', 'Hate'], yticklabels = ['Non Hate', 'Hate'],\n",
    "            fmt='.2%', cmap='Blues')\n",
    "\n",
    "plt.title('Confusion Matrix\\n(Binary fastText CNN 8020)\\n', fontsize = 13) # title with fontsize 20\n",
    "plt.show()"
   ]
  },
  {
   "cell_type": "code",
   "execution_count": 30,
   "id": "b306ed73",
   "metadata": {},
   "outputs": [
    {
     "data": {
      "text/html": [
       "<div>\n",
       "<style scoped>\n",
       "    .dataframe tbody tr th:only-of-type {\n",
       "        vertical-align: middle;\n",
       "    }\n",
       "\n",
       "    .dataframe tbody tr th {\n",
       "        vertical-align: top;\n",
       "    }\n",
       "\n",
       "    .dataframe thead th {\n",
       "        text-align: right;\n",
       "    }\n",
       "</style>\n",
       "<table border=\"1\" class=\"dataframe\">\n",
       "  <thead>\n",
       "    <tr style=\"text-align: right;\">\n",
       "      <th></th>\n",
       "      <th>Tweet</th>\n",
       "      <th>Prediction</th>\n",
       "      <th>Prediction Value</th>\n",
       "    </tr>\n",
       "  </thead>\n",
       "  <tbody>\n",
       "    <tr>\n",
       "      <th>0</th>\n",
       "      <td>[gang, dear, let, remind, ocho, derecho, also,...</td>\n",
       "      <td>[1]</td>\n",
       "      <td>[0.9857301]</td>\n",
       "    </tr>\n",
       "    <tr>\n",
       "      <th>1</th>\n",
       "      <td>[gobyernong, tapat, angat, buhay, presidente, ...</td>\n",
       "      <td>[0]</td>\n",
       "      <td>[0.005781225]</td>\n",
       "    </tr>\n",
       "    <tr>\n",
       "      <th>2</th>\n",
       "      <td>[okay, ara, sakyan, du, vibes, namon, asked, p...</td>\n",
       "      <td>[0]</td>\n",
       "      <td>[0.16195996]</td>\n",
       "    </tr>\n",
       "    <tr>\n",
       "      <th>3</th>\n",
       "      <td>[president, cutie]</td>\n",
       "      <td>[0]</td>\n",
       "      <td>[0.022215901]</td>\n",
       "    </tr>\n",
       "    <tr>\n",
       "      <th>4</th>\n",
       "      <td>[president, malakas, daw, nag, mudmod, pera, l...</td>\n",
       "      <td>[1]</td>\n",
       "      <td>[0.99713814]</td>\n",
       "    </tr>\n",
       "    <tr>\n",
       "      <th>...</th>\n",
       "      <td>...</td>\n",
       "      <td>...</td>\n",
       "      <td>...</td>\n",
       "    </tr>\n",
       "    <tr>\n",
       "      <th>1019</th>\n",
       "      <td>[president, vice, president, kiko, pangilinan]</td>\n",
       "      <td>[0]</td>\n",
       "      <td>[0.006499736]</td>\n",
       "    </tr>\n",
       "    <tr>\n",
       "      <th>1020</th>\n",
       "      <td>[sir, today]</td>\n",
       "      <td>[0]</td>\n",
       "      <td>[0.19893926]</td>\n",
       "    </tr>\n",
       "    <tr>\n",
       "      <th>1021</th>\n",
       "      <td>[marcosjr, duwag, ayaw, umattend, debate, kaya...</td>\n",
       "      <td>[1]</td>\n",
       "      <td>[0.99561656]</td>\n",
       "    </tr>\n",
       "    <tr>\n",
       "      <th>1022</th>\n",
       "      <td>[lumalabas, pagka, komunista, sinasagot, bbm, ...</td>\n",
       "      <td>[1]</td>\n",
       "      <td>[0.9345845]</td>\n",
       "    </tr>\n",
       "    <tr>\n",
       "      <th>1023</th>\n",
       "      <td>[pag, natalo, si, talo, patuloy, lang, buhay, ...</td>\n",
       "      <td>[1]</td>\n",
       "      <td>[0.9817292]</td>\n",
       "    </tr>\n",
       "  </tbody>\n",
       "</table>\n",
       "<p>1024 rows × 3 columns</p>\n",
       "</div>"
      ],
      "text/plain": [
       "                                                  Tweet Prediction  \\\n",
       "0     [gang, dear, let, remind, ocho, derecho, also,...        [1]   \n",
       "1     [gobyernong, tapat, angat, buhay, presidente, ...        [0]   \n",
       "2     [okay, ara, sakyan, du, vibes, namon, asked, p...        [0]   \n",
       "3                                    [president, cutie]        [0]   \n",
       "4     [president, malakas, daw, nag, mudmod, pera, l...        [1]   \n",
       "...                                                 ...        ...   \n",
       "1019     [president, vice, president, kiko, pangilinan]        [0]   \n",
       "1020                                       [sir, today]        [0]   \n",
       "1021  [marcosjr, duwag, ayaw, umattend, debate, kaya...        [1]   \n",
       "1022  [lumalabas, pagka, komunista, sinasagot, bbm, ...        [1]   \n",
       "1023  [pag, natalo, si, talo, patuloy, lang, buhay, ...        [1]   \n",
       "\n",
       "     Prediction Value  \n",
       "0         [0.9857301]  \n",
       "1       [0.005781225]  \n",
       "2        [0.16195996]  \n",
       "3       [0.022215901]  \n",
       "4        [0.99713814]  \n",
       "...               ...  \n",
       "1019    [0.006499736]  \n",
       "1020     [0.19893926]  \n",
       "1021     [0.99561656]  \n",
       "1022      [0.9345845]  \n",
       "1023      [0.9817292]  \n",
       "\n",
       "[1024 rows x 3 columns]"
      ]
     },
     "execution_count": 30,
     "metadata": {},
     "output_type": "execute_result"
    }
   ],
   "source": [
    "test_results = pd.DataFrame(list(zip(x_test,ytest_result, pred_labels_test)), columns = ['Tweet','Prediction', 'Prediction Value'])\n",
    "test_results "
   ]
  },
  {
   "cell_type": "code",
   "execution_count": 19,
   "id": "45120728",
   "metadata": {},
   "outputs": [],
   "source": [
    "#Saving labels to be used on other files\n",
    "true_labels = open('true_labels.pkl', 'wb')\n",
    "pickle.dump(np_test_y,true_labels)\n",
    "true_labels.close()\n",
    "\n",
    "predicted_labels = open('fastTextCNN_predicted_labels.pkl', 'wb')\n",
    "pickle.dump(ytest_result,predicted_labels)\n",
    "predicted_labels.close()\n",
    "\n",
    "fastTextCNN_test_results = open('fastTextCNN_test_results.pkl', 'wb')\n",
    "pickle.dump(test_results,fastTextCNN_test_results)\n",
    "fastTextCNN_test_results.close()"
   ]
  },
  {
   "cell_type": "code",
   "execution_count": null,
   "id": "4975b8dd",
   "metadata": {},
   "outputs": [],
   "source": []
  }
 ],
 "metadata": {
  "kernelspec": {
   "display_name": "Python 3",
   "language": "python",
   "name": "python3"
  },
  "language_info": {
   "codemirror_mode": {
    "name": "ipython",
    "version": 3
   },
   "file_extension": ".py",
   "mimetype": "text/x-python",
   "name": "python",
   "nbconvert_exporter": "python",
   "pygments_lexer": "ipython3",
   "version": "3.8.8"
  }
 },
 "nbformat": 4,
 "nbformat_minor": 5
}
