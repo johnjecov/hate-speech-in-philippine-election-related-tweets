{
 "cells": [
  {
   "cell_type": "code",
   "execution_count": 1,
   "id": "fd2c75b0",
   "metadata": {},
   "outputs": [],
   "source": [
    "import pandas as pd\n",
    "import csv\n",
    "import nltk\n",
    "import pickle\n",
    "import numpy as np\n",
    "from sklearn.feature_extraction.text import TfidfVectorizer\n",
    "from sklearn.feature_selection import SelectPercentile, f_classif\n",
    "import keras\n",
    "import tensorflow as tf\n",
    "from keras import Input\n",
    "from keras import optimizers\n",
    "from keras import backend as K\n",
    "import torch\n",
    "from keras import regularizers\n",
    "from keras.utils import np_utils\n",
    "from sklearn.preprocessing import LabelEncoder\n",
    "from sklearn.datasets import make_blobs\n",
    "from keras.models import Sequential\n",
    "from sklearn.metrics import accuracy_score, confusion_matrix, classification_report\n",
    "from keras.layers import Dense, Activation, Dropout, Flatten\n",
    "from keras.layers import Embedding, Conv1D, MaxPooling1D, GlobalMaxPooling1D \n",
    "from keras.utils import plot_model\n",
    "from keras.preprocessing import sequence\n",
    "from keras.preprocessing.text import Tokenizer\n",
    "from keras.callbacks import EarlyStopping\n",
    "from sklearn.preprocessing import MinMaxScaler\n",
    "import matplotlib.pyplot as plt\n",
    "from itertools import chain\n",
    "import seaborn as sns\n",
    "from matplotlib import rcParams\n",
    "from sklearn.model_selection import train_test_split"
   ]
  },
  {
   "cell_type": "code",
   "execution_count": 2,
   "id": "9008d8c2",
   "metadata": {},
   "outputs": [],
   "source": [
    "#OPEN DATA from pickle files\n",
    "#x_train, x_test, y_train, y_test\n",
    "\n",
    "with open('x_train.pkl', 'rb') as file:\n",
    "    x_train = pickle.load(file)\n",
    "    \n",
    "with open('x_test.pkl', 'rb') as file:\n",
    "    x_test = pickle.load(file)\n",
    "\n",
    "with open('y_train.pkl', 'rb') as file:\n",
    "    y_train = pickle.load(file)\n",
    "    \n",
    "with open('y_test.pkl', 'rb') as file:\n",
    "    y_test = pickle.load(file)\n",
    "    \n",
    "with open('tweet_collection.pkl', 'rb') as file:\n",
    "    tweet_collection = pickle.load(file)"
   ]
  },
  {
   "cell_type": "code",
   "execution_count": 3,
   "id": "2649495d",
   "metadata": {},
   "outputs": [
    {
     "name": "stdout",
     "output_type": "stream",
     "text": [
      "4096\n"
     ]
    }
   ],
   "source": [
    "print(len(x_train))"
   ]
  },
  {
   "cell_type": "code",
   "execution_count": 4,
   "id": "d8541478",
   "metadata": {},
   "outputs": [],
   "source": [
    "#Convert Labels from Strings to categorical Integers {Non-Hate = 1, Hate = 0}\n",
    "\n",
    "df_ytrain = pd.DataFrame(y_train, columns = ['Label'])\n",
    "df_ytest = pd.DataFrame(y_test, columns = ['Label'])\n",
    "\n",
    "#flatten training set for fitting on tfidf\n",
    "x_train_fit = list(chain.from_iterable(x_train))\n",
    "\n",
    "mapping = {'Non-hate': 0, 'Hate': 1}\n",
    "df_ytrain = df_ytrain.replace({'Label': mapping})\n",
    "df_ytest = df_ytest.replace({'Label': mapping})\n",
    "\n",
    "train_y = df_ytrain['Label'].tolist()\n",
    "test_y = df_ytest['Label'].tolist()\n",
    "\n",
    "np_train_y = np.asarray(train_y)\n",
    "np_test_y = np.asarray(test_y)"
   ]
  },
  {
   "cell_type": "code",
   "execution_count": 5,
   "id": "1c290756",
   "metadata": {},
   "outputs": [
    {
     "name": "stdout",
     "output_type": "stream",
     "text": [
      "(4096,)\n"
     ]
    }
   ],
   "source": [
    "print(np_train_y.shape)"
   ]
  },
  {
   "cell_type": "code",
   "execution_count": 6,
   "id": "bce23422",
   "metadata": {},
   "outputs": [
    {
     "name": "stdout",
     "output_type": "stream",
     "text": [
      "Sentence\n",
      ": gang dear let remind ocho derecho also make realize bam help talo si pangit strategy poor product reality bites kayo\n",
      "True Value: Hate\n",
      "Converted: 1\n",
      "~~~~~~~~~~~\n",
      "\n",
      "Sentence\n",
      ": gobyernong tapat angat buhay presidente bise-presidente kiko pangilinan\n",
      "True Value: Non-hate\n",
      "Converted: 0\n",
      "~~~~~~~~~~~\n",
      "\n",
      "Sentence\n",
      ": okay ara sakyan du vibes namon asked president coming election answered said loser\"and started discussing ping's work past\n",
      "True Value: Hate\n",
      "Converted: 1\n",
      "~~~~~~~~~~~\n",
      "\n",
      "Sentence\n",
      ": president cutie\n",
      "True Value: Non-hate\n",
      "Converted: 0\n",
      "~~~~~~~~~~~\n",
      "\n",
      "Sentence\n",
      ": president malakas daw nag mudmod pera laki babawiin team bbm sara di tanga tao lumang istyle\n",
      "True Value: Hate\n",
      "Converted: 1\n",
      "~~~~~~~~~~~\n",
      "\n",
      "Sentence\n",
      ": like vp ideas silang magagandang layunin ever manalo si vp want sen.lacson one cabinets prefer sec.of national defense\n",
      "True Value: Non-hate\n",
      "Converted: 0\n",
      "~~~~~~~~~~~\n",
      "\n",
      "Sentence\n",
      ": naman talaga aayusin iyan tignan naman kakampi dating pangulo kaso katiwalian totoo ngang matagal mamatay masasamang damo\n",
      "True Value: Hate\n",
      "Converted: 1\n",
      "~~~~~~~~~~~\n",
      "\n",
      "Sentence\n",
      ": wag niyo kaming idamay maling desisyon ninyo buhay pumili taong prinsipyo plano iboto\n",
      "True Value: Hate\n",
      "Converted: 1\n",
      "~~~~~~~~~~~\n",
      "\n",
      "Sentence\n",
      ": big revelation nga ba mas pinili toni gonzaga si kesa abs-cbn\n",
      "True Value: Non-hate\n",
      "Converted: 0\n",
      "~~~~~~~~~~~\n",
      "\n",
      "Sentence\n",
      ": humihingi respeto marunong rumespeto minumura nanay ibang tao meron bang pag respeto tuwing minumura niyo si respeto ba tawag dun pinaggagawa niyong yan nakikita tao peke imahe kandidato niyo\n",
      "True Value: Hate\n",
      "Converted: 1\n",
      "~~~~~~~~~~~\n",
      "\n"
     ]
    }
   ],
   "source": [
    "#Testing Encoding and Actual Values\n",
    "for i in range(10):\n",
    "    print(\"Sentence\\n: \",\" \".join(str(item) for item in x_test[i]),\"\\n\",\"True Value: \", y_test[i], \"\\nConverted: \",test_y[i],\"\\n~~~~~~~~~~~\\n\",sep=\"\")"
   ]
  },
  {
   "cell_type": "code",
   "execution_count": 7,
   "id": "b6927f82",
   "metadata": {},
   "outputs": [
    {
     "data": {
      "text/plain": [
       "SelectPercentile(percentile=40)"
      ]
     },
     "execution_count": 7,
     "metadata": {},
     "output_type": "execute_result"
    }
   ],
   "source": [
    "#TFIDF, classifer building using the training dataset of tweets using a maximum features of the top 40%\n",
    "\n",
    "def dummy_fun(doc):\n",
    "    return doc\n",
    "\n",
    "tfidf = TfidfVectorizer(\n",
    "    analyzer='word',\n",
    "    tokenizer=dummy_fun,\n",
    "    preprocessor=dummy_fun,\n",
    "    token_pattern=None)  \n",
    "\n",
    "#classifier building/ fitting of training dataset to tfidf\n",
    "fitted_training_x = tfidf.fit_transform(x_train)\n",
    "fitted_testing_x = tfidf.transform(x_test)\n",
    "\n",
    "#transform based on top 40 percent features\n",
    "selector = SelectPercentile(f_classif, percentile = 40)\n",
    "selector.fit(fitted_training_x, train_y)"
   ]
  },
  {
   "cell_type": "code",
   "execution_count": 8,
   "id": "0b7ef98f",
   "metadata": {},
   "outputs": [
    {
     "name": "stdout",
     "output_type": "stream",
     "text": [
      "4587\n"
     ]
    }
   ],
   "source": [
    "#Convert tweet tokens into vectors using the classifier built using tfidf\n",
    "\n",
    "x_train_vectorized = selector.transform(fitted_training_x).toarray()\n",
    "x_test_vectorized = selector.transform(fitted_testing_x).toarray()\n",
    "\n",
    "number_of_features = len(x_train_vectorized[0])\n",
    "print(number_of_features)"
   ]
  },
  {
   "cell_type": "code",
   "execution_count": 21,
   "id": "40cd2778",
   "metadata": {},
   "outputs": [
    {
     "name": "stdout",
     "output_type": "stream",
     "text": [
      "training CNN ...\n",
      "Model: \"sequential_1\"\n",
      "_________________________________________________________________\n",
      " Layer (type)                Output Shape              Param #   \n",
      "=================================================================\n",
      " dense_4 (Dense)             (None, 1000)              4588000   \n",
      "                                                                 \n",
      " dropout_3 (Dropout)         (None, 1000)              0         \n",
      "                                                                 \n",
      " dense_5 (Dense)             (None, 500)               500500    \n",
      "                                                                 \n",
      " dropout_4 (Dropout)         (None, 500)               0         \n",
      "                                                                 \n",
      " dense_6 (Dense)             (None, 50)                25050     \n",
      "                                                                 \n",
      " dropout_5 (Dropout)         (None, 50)                0         \n",
      "                                                                 \n",
      " dense_7 (Dense)             (None, 2)                 102       \n",
      "                                                                 \n",
      "=================================================================\n",
      "Total params: 5,113,652\n",
      "Trainable params: 5,113,652\n",
      "Non-trainable params: 0\n",
      "_________________________________________________________________\n"
     ]
    }
   ],
   "source": [
    "#FFNN MODEL\n",
    "print(\"training CNN ...\")\n",
    "\n",
    "#create model\n",
    "model = Sequential()\n",
    "model.add(Input(shape=(number_of_features,), name='Input-Layer'))\n",
    "model.add(Dense(1000, activation = 'relu'))\n",
    "model.add(Dropout(0.5))\n",
    "model.add(Dense(500, activation = 'relu'))\n",
    "model.add(Dropout(0.5))\n",
    "model.add(Dense(50, activation = 'relu'))\n",
    "model.add(Dropout(0.5))\n",
    "model.add(Dense(2, activation='softmax'))\n",
    "\n",
    "#optimizer using the default values\n",
    "adam = optimizers.Adam(learning_rate=0.001, beta_1=0.9, beta_2=0.999, epsilon=1e-08, decay=0.0)\n",
    "\n",
    "#compile model\n",
    "model.compile(loss='sparse_categorical_crossentropy', optimizer=adam, metrics=['accuracy'])\n",
    "model.summary()"
   ]
  },
  {
   "cell_type": "code",
   "execution_count": 22,
   "id": "d55a7888",
   "metadata": {},
   "outputs": [
    {
     "name": "stdout",
     "output_type": "stream",
     "text": [
      "Epoch 1/5\n",
      "116/116 [==============================] - 3s 21ms/step - loss: 0.5040 - accuracy: 0.7355 - val_loss: 0.3115 - val_accuracy: 0.8659\n",
      "Epoch 2/5\n",
      "116/116 [==============================] - 2s 20ms/step - loss: 0.2104 - accuracy: 0.9238 - val_loss: 0.2864 - val_accuracy: 0.8732\n",
      "Epoch 3/5\n",
      "116/116 [==============================] - 2s 20ms/step - loss: 0.1087 - accuracy: 0.9582 - val_loss: 0.3344 - val_accuracy: 0.8780\n",
      "Epoch 4/5\n",
      "116/116 [==============================] - 2s 21ms/step - loss: 0.0719 - accuracy: 0.9740 - val_loss: 0.3388 - val_accuracy: 0.8976\n",
      "Epoch 5/5\n",
      "116/116 [==============================] - 2s 20ms/step - loss: 0.0572 - accuracy: 0.9786 - val_loss: 0.3798 - val_accuracy: 0.8829\n"
     ]
    }
   ],
   "source": [
    "#fit dataset and model\n",
    "##### Step 5 - Fit keras model on the dataset\n",
    "model_history = model.fit(x_train_vectorized, # input data\n",
    "          np_train_y, # target data\n",
    "          epochs=5, # default=1, Number of epochs to train the model. An epoch is an iteration over the entire x and y data provided\n",
    "          verbose='auto',\n",
    "          validation_split = 0.1\n",
    "         )\n",
    "\n",
    "model.save('cabasag_model.h5')"
   ]
  },
  {
   "cell_type": "code",
   "execution_count": 23,
   "id": "5fbf25b8",
   "metadata": {},
   "outputs": [
    {
     "name": "stdout",
     "output_type": "stream",
     "text": [
      "128/128 [==============================] - 1s 5ms/step - loss: 0.0688 - accuracy: 0.9749\n",
      "[0.0688091516494751, 0.974853515625]\n"
     ]
    }
   ],
   "source": [
    "#test for accuracies\n",
    "\n",
    "results_training = model.evaluate(x_train_vectorized, np_train_y)\n",
    "print(results_training)"
   ]
  },
  {
   "cell_type": "code",
   "execution_count": 24,
   "id": "330ff069",
   "metadata": {},
   "outputs": [
    {
     "name": "stdout",
     "output_type": "stream",
     "text": [
      "32/32 [==============================] - 0s 5ms/step - loss: 0.7596 - accuracy: 0.8037\n",
      "[0.7595877051353455, 0.8037109375]\n"
     ]
    }
   ],
   "source": [
    "#test for accuracies\n",
    "\n",
    "results_testing = model.evaluate(x_test_vectorized, np_test_y)\n",
    "print(results_testing)"
   ]
  },
  {
   "cell_type": "code",
   "execution_count": 25,
   "id": "b4b29dc1",
   "metadata": {},
   "outputs": [
    {
     "data": {
      "image/png": "[encoded data removed]",
      "text/plain": [
       "<Figure size 576x432 with 1 Axes>"
      ]
     },
     "metadata": {},
     "output_type": "display_data"
    }
   ],
   "source": [
    "#plot configuration\n",
    "CB91_Blue = '#2CBDFE'\n",
    "CB91_Green = '#47DBCD'\n",
    "CB91_Pink = '#F3A0F2'\n",
    "CB91_Purple = '#9D2EC5'\n",
    "CB91_Violet = '#661D98'\n",
    "CB91_Amber = '#F5B14C'\n",
    "\n",
    "color_list = [CB91_Blue, CB91_Amber]\n",
    "\n",
    "csfont = {'fontname':'Helvetica'}\n",
    "hfont = {'fontname':'Helvetica'}\n",
    "\n",
    "plt.title('title',**csfont)\n",
    "plt.xlabel('xlabel', **hfont)\n",
    "plt.rcParams['axes.prop_cycle'] = plt.cycler(color=color_list)"
   ]
  },
  {
   "cell_type": "code",
   "execution_count": 32,
   "id": "8f4befa9",
   "metadata": {},
   "outputs": [
    {
     "data": {
      "image/png": "[encoded data removed]",
      "text/plain": [
       "<Figure size 576x432 with 1 Axes>"
      ]
     },
     "metadata": {},
     "output_type": "display_data"
    }
   ],
   "source": [
    "# plot loss during training\n",
    "plt.subplot(212)\n",
    "plt.title('MODEL LOSS\\n(Binary TFIDF FFNN 8020)\\n', fontsize = 13)\n",
    "plt.plot(model_history.history['loss'], label='training', linewidth=2)\n",
    "plt.plot(model_history.history['val_loss'], label='validation', linewidth=2)\n",
    "plt.legend(frameon=False)\n",
    "plt.xlabel(\"Epoch\")\n",
    "plt.ylabel(\"Loss\")\n",
    "plt.show()"
   ]
  },
  {
   "cell_type": "code",
   "execution_count": 27,
   "id": "9347e02b",
   "metadata": {},
   "outputs": [
    {
     "data": {
      "image/png": "[encoded data removed]",
      "text/plain": [
       "<Figure size 576x432 with 1 Axes>"
      ]
     },
     "metadata": {},
     "output_type": "display_data"
    }
   ],
   "source": [
    "# plot accuracy during training\n",
    "plt.subplot(212)\n",
    "plt.title('MODEL ACCURACY\\n(Binary TFIDF FFNN 8020)\\n', fontsize = 13)\n",
    "plt.plot(model_history.history['accuracy'], label='training', linewidth=2)\n",
    "plt.plot(model_history.history['val_accuracy'], label='validation', linewidth=2)\n",
    "plt.legend(frameon=False)\n",
    "plt.xlabel(\"Epoch\")\n",
    "plt.ylabel(\"Accuracy\")\n",
    "plt.show()"
   ]
  },
  {
   "cell_type": "code",
   "execution_count": 28,
   "id": "a8d6be82",
   "metadata": {},
   "outputs": [
    {
     "name": "stdout",
     "output_type": "stream",
     "text": [
      "128/128 [==============================] - 1s 4ms/step\n",
      "32/32 [==============================] - 0s 5ms/step\n",
      "\n",
      "-------------------- Model Summary --------------------\n",
      "\n",
      "Model: \"sequential_1\"\n",
      "_________________________________________________________________\n",
      " Layer (type)                Output Shape              Param #   \n",
      "=================================================================\n",
      " dense_4 (Dense)             (None, 1000)              4588000   \n",
      "                                                                 \n",
      " dropout_3 (Dropout)         (None, 1000)              0         \n",
      "                                                                 \n",
      " dense_5 (Dense)             (None, 500)               500500    \n",
      "                                                                 \n",
      " dropout_4 (Dropout)         (None, 500)               0         \n",
      "                                                                 \n",
      " dense_6 (Dense)             (None, 50)                25050     \n",
      "                                                                 \n",
      " dropout_5 (Dropout)         (None, 50)                0         \n",
      "                                                                 \n",
      " dense_7 (Dense)             (None, 2)                 102       \n",
      "                                                                 \n",
      "=================================================================\n",
      "Total params: 5,113,652\n",
      "Trainable params: 5,113,652\n",
      "Non-trainable params: 0\n",
      "_________________________________________________________________\n",
      "\n",
      "\n",
      "---------- Evaluation on Training Data ----------\n",
      "              precision    recall  f1-score   support\n",
      "\n",
      "           0     0.9685    0.9814    0.9749      2038\n",
      "           1     0.9813    0.9684    0.9748      2058\n",
      "\n",
      "    accuracy                         0.9749      4096\n",
      "   macro avg     0.9749    0.9749    0.9749      4096\n",
      "weighted avg     0.9749    0.9749    0.9749      4096\n",
      "\n",
      "\n",
      "\n",
      "---------- Evaluation on Test Data ----------\n",
      "              precision    recall  f1-score   support\n",
      "\n",
      "           0     0.8191    0.7893    0.8039       522\n",
      "           1     0.7889    0.8187    0.8035       502\n",
      "\n",
      "    accuracy                         0.8037      1024\n",
      "   macro avg     0.8040    0.8040    0.8037      1024\n",
      "weighted avg     0.8043    0.8037    0.8037      1024\n",
      "\n",
      "\n"
     ]
    }
   ],
   "source": [
    "#use predictions on test data\n",
    "##### Step 6 - Use model to make predictions\n",
    "# Predict class labels on training data\n",
    "#pred_labels_train = (model.predict(x_train_vectorized) > 0.5).astype(int)\n",
    "pred_labels_train = model.predict(x_train_vectorized)\n",
    "# Predict class labels on a test data\n",
    "#pred_labels_test = (model.predict(x_test_vectorized) > 0.5).astype(int)\n",
    "pred_labels_test = model.predict(x_test_vectorized)\n",
    "\n",
    "pred_labels_train_1 = []\n",
    "\n",
    "pred_labels_test_1 = []\n",
    "\n",
    "pred_labels_test_y = []\n",
    "\n",
    "for i in range(len(pred_labels_train)):\n",
    "    label = np.argmax(pred_labels_train[i])\n",
    "    pred_labels_train_1.append(label)\n",
    "    \n",
    "for i in range(len(pred_labels_test)):\n",
    "    label = np.argmax(pred_labels_test[i]) \n",
    "    pred_labels_test_1.append(label)\n",
    "    pred_labels_test_y.append(pred_labels_test[i][label])\n",
    "    \n",
    "##### Step 7 - Model Performance Summary\n",
    "print(\"\")\n",
    "print('-------------------- Model Summary --------------------\\n')\n",
    "model.summary() # print model summary\n",
    "print(\"\")\n",
    "print('\\n---------- Evaluation on Training Data ----------')\n",
    "print(classification_report(np_train_y, pred_labels_train_1, digits=4))\n",
    "print(\"\")\n",
    "\n",
    "print('\\n---------- Evaluation on Test Data ----------')\n",
    "print(classification_report(np_test_y, pred_labels_test_1, digits=4))\n",
    "print(\"\")"
   ]
  },
  {
   "cell_type": "code",
   "execution_count": 29,
   "id": "5fc870f1",
   "metadata": {},
   "outputs": [
    {
     "name": "stdout",
     "output_type": "stream",
     "text": [
      "[[412 110]\n",
      " [ 91 411]]\n"
     ]
    },
    {
     "data": {
      "image/png": "[encoded data removed]",
      "text/plain": [
       "<Figure size 576x432 with 2 Axes>"
      ]
     },
     "metadata": {},
     "output_type": "display_data"
    }
   ],
   "source": [
    "cf_matrix = confusion_matrix(np_test_y, pred_labels_test_1)\n",
    "print(cf_matrix)\n",
    "sns.set(rc={\"figure.figsize\":(8, 6)})\n",
    "ax = sns.heatmap(cf_matrix/np.sum(cf_matrix), annot=True, xticklabels = ['Non Hate', 'Hate'], yticklabels = ['Non Hate', 'Hate'],\n",
    "            fmt='.2%', cmap='Blues')\n",
    "\n",
    "plt.title('Confusion Matrix\\n(Binary TFIDF FFNN 8020)\\n', fontsize = 13) # title with fontsize 20\n",
    "plt.show()"
   ]
  },
  {
   "cell_type": "code",
   "execution_count": 30,
   "id": "09439e11",
   "metadata": {},
   "outputs": [
    {
     "data": {
      "text/html": [
       "<div>\n",
       "<style scoped>\n",
       "    .dataframe tbody tr th:only-of-type {\n",
       "        vertical-align: middle;\n",
       "    }\n",
       "\n",
       "    .dataframe tbody tr th {\n",
       "        vertical-align: top;\n",
       "    }\n",
       "\n",
       "    .dataframe thead th {\n",
       "        text-align: right;\n",
       "    }\n",
       "</style>\n",
       "<table border=\"1\" class=\"dataframe\">\n",
       "  <thead>\n",
       "    <tr style=\"text-align: right;\">\n",
       "      <th></th>\n",
       "      <th>Tweet</th>\n",
       "      <th>Prediction</th>\n",
       "      <th>Prediction Value</th>\n",
       "    </tr>\n",
       "  </thead>\n",
       "  <tbody>\n",
       "    <tr>\n",
       "      <th>0</th>\n",
       "      <td>[gang, dear, let, remind, ocho, derecho, also,...</td>\n",
       "      <td>1</td>\n",
       "      <td>0.999999</td>\n",
       "    </tr>\n",
       "    <tr>\n",
       "      <th>1</th>\n",
       "      <td>[gobyernong, tapat, angat, buhay, presidente, ...</td>\n",
       "      <td>0</td>\n",
       "      <td>0.999998</td>\n",
       "    </tr>\n",
       "    <tr>\n",
       "      <th>2</th>\n",
       "      <td>[okay, ara, sakyan, du, vibes, namon, asked, p...</td>\n",
       "      <td>1</td>\n",
       "      <td>0.931061</td>\n",
       "    </tr>\n",
       "    <tr>\n",
       "      <th>3</th>\n",
       "      <td>[president, cutie]</td>\n",
       "      <td>0</td>\n",
       "      <td>0.999998</td>\n",
       "    </tr>\n",
       "    <tr>\n",
       "      <th>4</th>\n",
       "      <td>[president, malakas, daw, nag, mudmod, pera, l...</td>\n",
       "      <td>1</td>\n",
       "      <td>0.999999</td>\n",
       "    </tr>\n",
       "    <tr>\n",
       "      <th>...</th>\n",
       "      <td>...</td>\n",
       "      <td>...</td>\n",
       "      <td>...</td>\n",
       "    </tr>\n",
       "    <tr>\n",
       "      <th>1019</th>\n",
       "      <td>[president, vice, president, kiko, pangilinan]</td>\n",
       "      <td>0</td>\n",
       "      <td>0.990039</td>\n",
       "    </tr>\n",
       "    <tr>\n",
       "      <th>1020</th>\n",
       "      <td>[sir, today]</td>\n",
       "      <td>0</td>\n",
       "      <td>0.794478</td>\n",
       "    </tr>\n",
       "    <tr>\n",
       "      <th>1021</th>\n",
       "      <td>[marcosjr, duwag, ayaw, umattend, debate, kaya...</td>\n",
       "      <td>1</td>\n",
       "      <td>1.000000</td>\n",
       "    </tr>\n",
       "    <tr>\n",
       "      <th>1022</th>\n",
       "      <td>[lumalabas, pagka, komunista, sinasagot, bbm, ...</td>\n",
       "      <td>1</td>\n",
       "      <td>0.978872</td>\n",
       "    </tr>\n",
       "    <tr>\n",
       "      <th>1023</th>\n",
       "      <td>[pag, natalo, si, talo, patuloy, lang, buhay, ...</td>\n",
       "      <td>1</td>\n",
       "      <td>1.000000</td>\n",
       "    </tr>\n",
       "  </tbody>\n",
       "</table>\n",
       "<p>1024 rows × 3 columns</p>\n",
       "</div>"
      ],
      "text/plain": [
       "                                                  Tweet  Prediction  \\\n",
       "0     [gang, dear, let, remind, ocho, derecho, also,...           1   \n",
       "1     [gobyernong, tapat, angat, buhay, presidente, ...           0   \n",
       "2     [okay, ara, sakyan, du, vibes, namon, asked, p...           1   \n",
       "3                                    [president, cutie]           0   \n",
       "4     [president, malakas, daw, nag, mudmod, pera, l...           1   \n",
       "...                                                 ...         ...   \n",
       "1019     [president, vice, president, kiko, pangilinan]           0   \n",
       "1020                                       [sir, today]           0   \n",
       "1021  [marcosjr, duwag, ayaw, umattend, debate, kaya...           1   \n",
       "1022  [lumalabas, pagka, komunista, sinasagot, bbm, ...           1   \n",
       "1023  [pag, natalo, si, talo, patuloy, lang, buhay, ...           1   \n",
       "\n",
       "      Prediction Value  \n",
       "0             0.999999  \n",
       "1             0.999998  \n",
       "2             0.931061  \n",
       "3             0.999998  \n",
       "4             0.999999  \n",
       "...                ...  \n",
       "1019          0.990039  \n",
       "1020          0.794478  \n",
       "1021          1.000000  \n",
       "1022          0.978872  \n",
       "1023          1.000000  \n",
       "\n",
       "[1024 rows x 3 columns]"
      ]
     },
     "execution_count": 30,
     "metadata": {},
     "output_type": "execute_result"
    }
   ],
   "source": [
    "test_results = pd.DataFrame(list(zip(x_test,pred_labels_test_1, pred_labels_test_y)), columns = ['Tweet','Prediction', 'Prediction Value'])\n",
    "test_results "
   ]
  },
  {
   "cell_type": "code",
   "execution_count": 31,
   "id": "a4966bc4",
   "metadata": {},
   "outputs": [],
   "source": [
    "#Saving labels to be used on other files\n",
    "true_labels = open('true_labels.pkl', 'wb')\n",
    "pickle.dump(np_test_y,true_labels)\n",
    "true_labels.close()\n",
    "\n",
    "predicted_labels = open('TFIDFFFNN_predicted_labels.pkl', 'wb')\n",
    "pickle.dump(pred_labels_test_1,predicted_labels)\n",
    "predicted_labels.close()\n",
    "\n",
    "TFIDFFFNN_test_results = open('TFIDFFFNN_test_results.pkl', 'wb')\n",
    "pickle.dump(test_results,TFIDFFFNN_test_results)\n",
    "TFIDFFFNN_test_results.close()"
   ]
  },
  {
   "cell_type": "code",
   "execution_count": 20,
   "id": "6ff68a47",
   "metadata": {},
   "outputs": [],
   "source": [
    "#test_predictions = (model.predict(x_test_vectorized) > 0.5).astype(int)\n",
    "\n",
    "#test_prediction_labels = []\n",
    "\n",
    "#for i in range(len(test_predictions)):\n",
    "    \n",
    "#    trueval = 'Non-hate'\n",
    "    \n",
    "#    if(test_y[i] == 1):\n",
    " #       trueval = 'Hate'\n",
    "        \n",
    "#    pred = 'Non-hate'\n",
    "    \n",
    " #   if(test_predictions[i][1] == 1):\n",
    " #       pred = 'Hate'\n",
    "    \n",
    "  #  test_prediction_labels.append(pred)\n",
    "  #  print(\"Sentence\\n: \",\" \".join(str(item) for item in x_test[i]),\"\\n\",\"True Value: \", trueval, \"\\nPred: \",pred, \"\\n~~~~~~~~~~~\\n\",sep=\"\")"
   ]
  },
  {
   "cell_type": "code",
   "execution_count": null,
   "id": "ed51cf6e",
   "metadata": {},
   "outputs": [],
   "source": [
    "#comparison_dataframe = pd.DataFrame(list(zip(x_test,y_test, test_prediction_labels)), columns = ['Tweet','True Label', 'Clasiification Label'])  \n",
    "\n",
    "#with pd.option_context('display.max_rows', None,\n",
    "#                       'display.max_columns', None,\n",
    " #                      'display.precision', 3,\n",
    "  #                     ):\n",
    " #   display(comparison_dataframe)"
   ]
  },
  {
   "cell_type": "code",
   "execution_count": null,
   "id": "fab0ac83",
   "metadata": {},
   "outputs": [],
   "source": []
  },
  {
   "cell_type": "code",
   "execution_count": null,
   "id": "58bcf6bc",
   "metadata": {},
   "outputs": [],
   "source": []
  }
 ],
 "metadata": {
  "kernelspec": {
   "display_name": "Python 3",
   "language": "python",
   "name": "python3"
  },
  "language_info": {
   "codemirror_mode": {
    "name": "ipython",
    "version": 3
   },
   "file_extension": ".py",
   "mimetype": "text/x-python",
   "name": "python",
   "nbconvert_exporter": "python",
   "pygments_lexer": "ipython3",
   "version": "3.8.8"
  }
 },
 "nbformat": 4,
 "nbformat_minor": 5
}
