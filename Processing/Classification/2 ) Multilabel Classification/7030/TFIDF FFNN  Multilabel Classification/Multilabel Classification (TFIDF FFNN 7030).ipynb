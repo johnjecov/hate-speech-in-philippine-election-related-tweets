{
 "cells": [
  {
   "cell_type": "code",
   "execution_count": 1,
   "id": "fd2c75b0",
   "metadata": {},
   "outputs": [],
   "source": [
    "import pandas as pd\n",
    "import csv\n",
    "import nltk\n",
    "import pickle\n",
    "import numpy as np\n",
    "from sklearn.feature_extraction.text import TfidfVectorizer\n",
    "from sklearn.feature_selection import SelectPercentile, f_classif\n",
    "import keras\n",
    "import tensorflow as tf\n",
    "from keras import Input\n",
    "from keras import optimizers\n",
    "from keras import backend as K\n",
    "import torch\n",
    "from keras import regularizers\n",
    "from keras.utils import np_utils\n",
    "from sklearn.preprocessing import LabelEncoder\n",
    "from sklearn.datasets import make_blobs\n",
    "from keras.models import Sequential\n",
    "from sklearn.metrics import accuracy_score, confusion_matrix, classification_report\n",
    "from keras.layers import Dense, Activation, Dropout, Flatten\n",
    "from keras.layers import Embedding, Conv1D, MaxPooling1D, GlobalMaxPooling1D \n",
    "from keras.utils import plot_model\n",
    "from keras.preprocessing import sequence\n",
    "from keras.preprocessing.text import Tokenizer\n",
    "from keras.callbacks import EarlyStopping\n",
    "from sklearn.preprocessing import MinMaxScaler\n",
    "import matplotlib.pyplot as plt\n",
    "from itertools import chain\n",
    "import seaborn as sns\n",
    "from matplotlib import rcParams"
   ]
  },
  {
   "cell_type": "code",
   "execution_count": 2,
   "id": "9008d8c2",
   "metadata": {},
   "outputs": [],
   "source": [
    "#OPEN DATA from pickle files\n",
    "#x_train, x_test, y_train, y_test\n",
    "\n",
    "with open('x_train.pkl', 'rb') as file:\n",
    "    x_train = pickle.load(file)\n",
    "    \n",
    "with open('x_test.pkl', 'rb') as file:\n",
    "    x_test = pickle.load(file)\n",
    "\n",
    "with open('y_train.pkl', 'rb') as file:\n",
    "    y_train = pickle.load(file)\n",
    "    \n",
    "with open('y_test.pkl', 'rb') as file:\n",
    "    y_test = pickle.load(file)\n",
    "    \n",
    "with open('tweet_collection.pkl', 'rb') as file:\n",
    "    tweet_collection = pickle.load(file)"
   ]
  },
  {
   "cell_type": "code",
   "execution_count": 3,
   "id": "2649495d",
   "metadata": {},
   "outputs": [
    {
     "name": "stdout",
     "output_type": "stream",
     "text": [
      "5376\n"
     ]
    }
   ],
   "source": [
    "print(len(x_train))"
   ]
  },
  {
   "cell_type": "code",
   "execution_count": 4,
   "id": "d8541478",
   "metadata": {},
   "outputs": [],
   "source": [
    "#Convert Labels from Strings to categorical Integers {Non-Hate = 1, Hate = 0}\n",
    "\n",
    "df_ytrain = pd.DataFrame(y_train, columns = ['Label'])\n",
    "df_ytest = pd.DataFrame(y_test, columns = ['Label'])\n",
    "\n",
    "#flatten training set for fitting on tfidf\n",
    "x_train_fit = list(chain.from_iterable(x_train))\n",
    "\n",
    "mapping = {'Positive': 0, 'Negative': 1, 'Neutral':2}\n",
    "df_ytrain = df_ytrain.replace({'Label': mapping})\n",
    "df_ytest = df_ytest.replace({'Label': mapping})\n",
    "\n",
    "\n",
    "train_y = df_ytrain['Label'].tolist()\n",
    "test_y = df_ytest['Label'].tolist()\n",
    "\n",
    "np_train_y = np.asarray(train_y)\n",
    "np_test_y = np.asarray(test_y)"
   ]
  },
  {
   "cell_type": "code",
   "execution_count": 5,
   "id": "bce23422",
   "metadata": {},
   "outputs": [
    {
     "name": "stdout",
     "output_type": "stream",
     "text": [
      "Sentence\n",
      ": presidential candidate said would continue trading china said would capture anyone would invade philippine territory hold accountable elected\n",
      "True Value: Neutral\n",
      "Converted: 2\n",
      "~~~~~~~~~~~\n",
      "\n",
      "Sentence\n",
      ": kumalat text messages kandidatura malamang anti-marcos pakana.tapos naman iyan umattack daw,kuno web page coincidence?or nang nangyayari orchestrated\n",
      "True Value: Negative\n",
      "Converted: 1\n",
      "~~~~~~~~~~~\n",
      "\n",
      "Sentence\n",
      ": vp visits roxas city watch vp sen kiko pangilinan campaigned roxas city capiz ctto...philstar.com\n",
      "True Value: Neutral\n",
      "Converted: 2\n",
      "~~~~~~~~~~~\n",
      "\n",
      "Sentence\n",
      ": \n",
      "True Value: Positive\n",
      "Converted: 0\n",
      "~~~~~~~~~~~\n",
      "\n",
      "Sentence\n",
      ": camp presidential frontrunner says endorsement nationalist people's coalition province tarlac running mate sara duterte welcome development\n",
      "True Value: Neutral\n",
      "Converted: 2\n",
      "~~~~~~~~~~~\n",
      "\n",
      "Sentence\n",
      ": toxic pinklawan impluwensya fushiang ina niyo\n",
      "True Value: Negative\n",
      "Converted: 1\n",
      "~~~~~~~~~~~\n",
      "\n",
      "Sentence\n",
      ": dios mabalos bicolandia miting avance puno sayawan kasiyahan kantahan handog naga city ngayong gabi ramdam pagmamahal kina kiko pangilanan tropang angat\n",
      "True Value: Positive\n",
      "Converted: 0\n",
      "~~~~~~~~~~~\n",
      "\n",
      "Sentence\n",
      ": visible nakakatuwa hoping filipinos would open understanding qualified leader today\n",
      "True Value: Positive\n",
      "Converted: 0\n",
      "~~~~~~~~~~~\n",
      "\n",
      "Sentence\n",
      ": president vp kiko pangilinan tas si next week cutie\n",
      "True Value: Positive\n",
      "Converted: 0\n",
      "~~~~~~~~~~~\n",
      "\n",
      "Sentence\n",
      ": happy th motmot th month natin believe soonest th president natin\n",
      "True Value: Positive\n",
      "Converted: 0\n",
      "~~~~~~~~~~~\n",
      "\n"
     ]
    }
   ],
   "source": [
    "#Testing Encoding and Actual Values\n",
    "for i in range(10):\n",
    "    print(\"Sentence\\n: \",\" \".join(str(item) for item in x_test[i]),\"\\n\",\"True Value: \", y_test[i], \"\\nConverted: \",test_y[i],\"\\n~~~~~~~~~~~\\n\",sep=\"\")"
   ]
  },
  {
   "cell_type": "code",
   "execution_count": 6,
   "id": "b6927f82",
   "metadata": {},
   "outputs": [
    {
     "data": {
      "text/plain": [
       "SelectPercentile(percentile=40)"
      ]
     },
     "execution_count": 6,
     "metadata": {},
     "output_type": "execute_result"
    }
   ],
   "source": [
    "#TFIDF, classifer building using the training dataset of tweets using a maximum features of the top 40%\n",
    "\n",
    "def dummy_fun(doc):\n",
    "    return doc\n",
    "\n",
    "tfidf = TfidfVectorizer(\n",
    "    analyzer='word',\n",
    "    tokenizer=dummy_fun,\n",
    "    preprocessor=dummy_fun,\n",
    "    token_pattern=None)  \n",
    "\n",
    "#classifier building/ fitting of training dataset to tfidf\n",
    "fitted_training_x = tfidf.fit_transform(x_train)\n",
    "fitted_testing_x = tfidf.transform(x_test)\n",
    "\n",
    "#transform based on top 40 percent features\n",
    "selector = SelectPercentile(f_classif, percentile = 40)\n",
    "selector.fit(fitted_training_x, train_y)"
   ]
  },
  {
   "cell_type": "code",
   "execution_count": 7,
   "id": "0b7ef98f",
   "metadata": {},
   "outputs": [],
   "source": [
    "#Convert tweet tokens into vectors using the classifier built using tfidf\n",
    "\n",
    "\n",
    "x_train_vectorized = selector.transform(fitted_training_x).toarray()\n",
    "x_test_vectorized = selector.transform(fitted_testing_x).toarray()\n",
    "\n",
    "number_of_features = len(x_train_vectorized[0])"
   ]
  },
  {
   "cell_type": "code",
   "execution_count": 8,
   "id": "40cd2778",
   "metadata": {},
   "outputs": [
    {
     "name": "stdout",
     "output_type": "stream",
     "text": [
      "training CNN ...\n",
      "Model: \"sequential\"\n",
      "_________________________________________________________________\n",
      " Layer (type)                Output Shape              Param #   \n",
      "=================================================================\n",
      " dense (Dense)               (None, 1000)              5172000   \n",
      "                                                                 \n",
      " dropout (Dropout)           (None, 1000)              0         \n",
      "                                                                 \n",
      " dense_1 (Dense)             (None, 500)               500500    \n",
      "                                                                 \n",
      " dropout_1 (Dropout)         (None, 500)               0         \n",
      "                                                                 \n",
      " dense_2 (Dense)             (None, 50)                25050     \n",
      "                                                                 \n",
      " dropout_2 (Dropout)         (None, 50)                0         \n",
      "                                                                 \n",
      " dense_3 (Dense)             (None, 3)                 153       \n",
      "                                                                 \n",
      "=================================================================\n",
      "Total params: 5,697,703\n",
      "Trainable params: 5,697,703\n",
      "Non-trainable params: 0\n",
      "_________________________________________________________________\n"
     ]
    }
   ],
   "source": [
    "#FFNN MODEL\n",
    "print(\"training CNN ...\")\n",
    "\n",
    "#create model\n",
    "model = Sequential()\n",
    "model.add(Input(shape=(number_of_features,), name='Input-Layer'))\n",
    "model.add(Dense(1000, activation = 'relu'))\n",
    "model.add(Dropout(0.5))\n",
    "model.add(Dense(500, activation = 'relu'))\n",
    "model.add(Dropout(0.5))\n",
    "model.add(Dense(50, activation = 'relu'))\n",
    "model.add(Dropout(0.5))\n",
    "model.add(Dense(3, activation='softmax'))\n",
    "\n",
    "#optimizer using the default values\n",
    "adam = optimizers.Adam(learning_rate=0.001, beta_1=0.9, beta_2=0.999, epsilon=1e-08, decay=0.0)\n",
    "\n",
    "#compile model\n",
    "model.compile(loss='sparse_categorical_crossentropy', optimizer=adam, metrics=['accuracy'])\n",
    "model.summary()"
   ]
  },
  {
   "cell_type": "code",
   "execution_count": 9,
   "id": "d55a7888",
   "metadata": {},
   "outputs": [
    {
     "name": "stdout",
     "output_type": "stream",
     "text": [
      "Epoch 1/5\n",
      "152/152 [==============================] - 4s 23ms/step - loss: 0.9141 - accuracy: 0.5401 - val_loss: 0.7489 - val_accuracy: 0.6375\n",
      "Epoch 2/5\n",
      "152/152 [==============================] - 4s 23ms/step - loss: 0.5800 - accuracy: 0.7557 - val_loss: 0.6411 - val_accuracy: 0.7323\n",
      "Epoch 3/5\n",
      "152/152 [==============================] - 3s 23ms/step - loss: 0.3913 - accuracy: 0.8379 - val_loss: 0.6691 - val_accuracy: 0.7454\n",
      "Epoch 4/5\n",
      "152/152 [==============================] - 4s 23ms/step - loss: 0.2918 - accuracy: 0.8869 - val_loss: 0.7055 - val_accuracy: 0.7398\n",
      "Epoch 5/5\n",
      "152/152 [==============================] - 4s 28ms/step - loss: 0.2358 - accuracy: 0.9124 - val_loss: 0.7638 - val_accuracy: 0.7546\n"
     ]
    }
   ],
   "source": [
    "#fit dataset and model\n",
    "##### Step 5 - Fit keras model on the dataset\n",
    "model_history = model.fit(x_train_vectorized, # input data\n",
    "          np_train_y, # target data\n",
    "          epochs=5, # default=1, Number of epochs to train the model. An epoch is an iteration over the entire x and y data provided\n",
    "          verbose='auto', # default='auto', ('auto', 0, 1, or 2). Verbosity mode. 0 = silent, 1 = progress bar, 2 = one line per epoch. 'auto' defaults to 1 for most cases, but 2 when used with ParameterServerStrategy.\n",
    "          validation_split = 0.1\n",
    "         )\n",
    "\n",
    "model.save('cabasag_model.h5')"
   ]
  },
  {
   "cell_type": "code",
   "execution_count": 10,
   "id": "5fbf25b8",
   "metadata": {},
   "outputs": [
    {
     "name": "stdout",
     "output_type": "stream",
     "text": [
      "168/168 [==============================] - 2s 12ms/step - loss: 0.2099 - accuracy: 0.9245\n",
      "[0.2098969966173172, 0.9244791865348816]\n"
     ]
    }
   ],
   "source": [
    "#test for accuracies\n",
    "\n",
    "results_training = model.evaluate(x_train_vectorized, np_train_y)\n",
    "print(results_training)"
   ]
  },
  {
   "cell_type": "code",
   "execution_count": 11,
   "id": "330ff069",
   "metadata": {},
   "outputs": [
    {
     "name": "stdout",
     "output_type": "stream",
     "text": [
      "72/72 [==============================] - 1s 12ms/step - loss: 1.2973 - accuracy: 0.6233\n",
      "[1.2973154783248901, 0.6232638955116272]\n"
     ]
    }
   ],
   "source": [
    "#test for accuracies\n",
    "\n",
    "results_testing = model.evaluate(x_test_vectorized, np_test_y)\n",
    "print(results_testing)"
   ]
  },
  {
   "cell_type": "code",
   "execution_count": 12,
   "id": "51fd3967",
   "metadata": {},
   "outputs": [
    {
     "data": {
      "image/png": "[encoded data removed]",
      "text/plain": [
       "<Figure size 432x288 with 1 Axes>"
      ]
     },
     "metadata": {
      "needs_background": "light"
     },
     "output_type": "display_data"
    }
   ],
   "source": [
    "#plot configuration\n",
    "CB91_Blue = '#2CBDFE'\n",
    "CB91_Green = '#47DBCD'\n",
    "CB91_Pink = '#F3A0F2'\n",
    "CB91_Purple = '#9D2EC5'\n",
    "CB91_Violet = '#661D98'\n",
    "CB91_Amber = '#F5B14C'\n",
    "\n",
    "color_list = [CB91_Blue, CB91_Amber]\n",
    "\n",
    "csfont = {'fontname':'Helvetica'}\n",
    "hfont = {'fontname':'Helvetica'}\n",
    "\n",
    "plt.title('title',**csfont)\n",
    "plt.xlabel('xlabel', **hfont)\n",
    "plt.rcParams['axes.prop_cycle'] = plt.cycler(color=color_list)"
   ]
  },
  {
   "cell_type": "code",
   "execution_count": 13,
   "id": "8f4befa9",
   "metadata": {},
   "outputs": [
    {
     "data": {
      "image/png": "[encoded data removed]",
      "text/plain": [
       "<Figure size 432x288 with 1 Axes>"
      ]
     },
     "metadata": {
      "needs_background": "light"
     },
     "output_type": "display_data"
    }
   ],
   "source": [
    "# plot loss during training\n",
    "plt.subplot(212)\n",
    "plt.title('MODEL LOSS\\n(Multilabel TFIDF FFNN 7030)\\n', fontsize = 13)\n",
    "plt.plot(model_history.history['loss'], label='training', linewidth=2)\n",
    "plt.plot(model_history.history['val_loss'], label='validation', linewidth=2)\n",
    "plt.legend(frameon=False)\n",
    "plt.xlabel(\"Epoch\")\n",
    "plt.ylabel(\"Loss\")\n",
    "plt.show()"
   ]
  },
  {
   "cell_type": "code",
   "execution_count": 14,
   "id": "9347e02b",
   "metadata": {},
   "outputs": [
    {
     "data": {
      "image/png": "[encoded data removed]",
      "text/plain": [
       "<Figure size 432x288 with 1 Axes>"
      ]
     },
     "metadata": {
      "needs_background": "light"
     },
     "output_type": "display_data"
    }
   ],
   "source": [
    "# plot accuracy during training\n",
    "plt.subplot(212)\n",
    "plt.title('MODEL ACCURACY\\n(Multilabel TFIDF FFNN 7030)\\n', fontsize = 13)\n",
    "plt.plot(model_history.history['accuracy'], label='training', linewidth=2)\n",
    "plt.plot(model_history.history['val_accuracy'], label='validation', linewidth=2)\n",
    "plt.legend(frameon=False)\n",
    "plt.xlabel(\"Epoch\")\n",
    "plt.ylabel(\"Accuracy\")\n",
    "plt.show()"
   ]
  },
  {
   "cell_type": "code",
   "execution_count": 15,
   "id": "a8d6be82",
   "metadata": {},
   "outputs": [
    {
     "name": "stdout",
     "output_type": "stream",
     "text": [
      "168/168 [==============================] - 2s 11ms/step\n",
      "72/72 [==============================] - 1s 11ms/step\n",
      "\n",
      "-------------------- Model Summary --------------------\n",
      "\n",
      "Model: \"sequential\"\n",
      "_________________________________________________________________\n",
      " Layer (type)                Output Shape              Param #   \n",
      "=================================================================\n",
      " dense (Dense)               (None, 1000)              5172000   \n",
      "                                                                 \n",
      " dropout (Dropout)           (None, 1000)              0         \n",
      "                                                                 \n",
      " dense_1 (Dense)             (None, 500)               500500    \n",
      "                                                                 \n",
      " dropout_1 (Dropout)         (None, 500)               0         \n",
      "                                                                 \n",
      " dense_2 (Dense)             (None, 50)                25050     \n",
      "                                                                 \n",
      " dropout_2 (Dropout)         (None, 50)                0         \n",
      "                                                                 \n",
      " dense_3 (Dense)             (None, 3)                 153       \n",
      "                                                                 \n",
      "=================================================================\n",
      "Total params: 5,697,703\n",
      "Trainable params: 5,697,703\n",
      "Non-trainable params: 0\n",
      "_________________________________________________________________\n",
      "\n",
      "\n",
      "---------- Evaluation on Training Data ----------\n",
      "              precision    recall  f1-score   support\n",
      "\n",
      "           0     0.9040    0.9125    0.9082      1806\n",
      "           1     0.9795    0.9662    0.9728      1776\n",
      "           2     0.8917    0.8952    0.8935      1794\n",
      "\n",
      "    accuracy                         0.9245      5376\n",
      "   macro avg     0.9251    0.9246    0.9248      5376\n",
      "weighted avg     0.9248    0.9245    0.9246      5376\n",
      "\n",
      "\n",
      "\n",
      "---------- Evaluation on Test Data ----------\n",
      "              precision    recall  f1-score   support\n",
      "\n",
      "           0     0.6174    0.6313    0.6243       754\n",
      "           1     0.7462    0.6862    0.7150       784\n",
      "           2     0.5197    0.5509    0.5349       766\n",
      "\n",
      "    accuracy                         0.6233      2304\n",
      "   macro avg     0.6278    0.6228    0.6247      2304\n",
      "weighted avg     0.6287    0.6233    0.6254      2304\n",
      "\n",
      "\n"
     ]
    }
   ],
   "source": [
    "#use predictions on test data\n",
    "##### Step 6 - Use model to make predictions\n",
    "# Predict class labels on training data\n",
    "pred_labels_train = model.predict(x_train_vectorized)\n",
    "# Predict class labels on a test data\n",
    "pred_labels_test = model.predict(x_test_vectorized)\n",
    "\n",
    "#print(pred_labels_train)\n",
    "pred_labels_train_1 = []\n",
    "\n",
    "pred_labels_test_1 = []\n",
    "\n",
    "pred_labels_test_y = []\n",
    "\n",
    "\n",
    "for i in range(len(pred_labels_train)):\n",
    "    label = np.argmax(pred_labels_train[i])\n",
    "    pred_labels_train_1.append(label)\n",
    "    \n",
    "for i in range(len(pred_labels_test)):\n",
    "    label = np.argmax(pred_labels_test[i]) \n",
    "    pred_labels_test_1.append(label)\n",
    "    pred_labels_test_y.append(pred_labels_test[i][label])\n",
    "\n",
    "##### Step 7 - Model Performance Summary\n",
    "print(\"\")\n",
    "print('-------------------- Model Summary --------------------\\n')\n",
    "model.summary() # print model summary\n",
    "print(\"\")\n",
    "print('\\n---------- Evaluation on Training Data ----------')\n",
    "print(classification_report(np_train_y, pred_labels_train_1, digits = 4))\n",
    "print(\"\")\n",
    "\n",
    "print('\\n---------- Evaluation on Test Data ----------')\n",
    "print(classification_report(np_test_y, pred_labels_test_1, digits = 4))\n",
    "print(\"\")"
   ]
  },
  {
   "cell_type": "code",
   "execution_count": 16,
   "id": "9764815a",
   "metadata": {},
   "outputs": [
    {
     "name": "stdout",
     "output_type": "stream",
     "text": [
      "[[476  43 235]\n",
      " [ 91 538 155]\n",
      " [204 140 422]]\n"
     ]
    },
    {
     "data": {
      "image/png": "[encoded data removed]",
      "text/plain": [
       "<Figure size 576x432 with 2 Axes>"
      ]
     },
     "metadata": {},
     "output_type": "display_data"
    }
   ],
   "source": [
    "cf_matrix = confusion_matrix(np_test_y, pred_labels_test_1)\n",
    "print(cf_matrix)\n",
    "\n",
    "sns.set(rc={\"figure.figsize\":(8, 6)})\n",
    "ax = sns.heatmap(cf_matrix/np.sum(cf_matrix), annot=True, xticklabels = ['Positive', 'Negative', 'Neutral'], yticklabels = ['Positive', 'Negative', 'Neutral'],\n",
    "            fmt='.2%', cmap='Blues')\n",
    "\n",
    "plt.title('Confusion Matrix\\n(Multilabel TFIDF FFNN 7030)\\n', fontsize = 13)\n",
    "plt.show()"
   ]
  },
  {
   "cell_type": "code",
   "execution_count": 17,
   "id": "c5116127",
   "metadata": {},
   "outputs": [
    {
     "data": {
      "text/html": [
       "<div>\n",
       "<style scoped>\n",
       "    .dataframe tbody tr th:only-of-type {\n",
       "        vertical-align: middle;\n",
       "    }\n",
       "\n",
       "    .dataframe tbody tr th {\n",
       "        vertical-align: top;\n",
       "    }\n",
       "\n",
       "    .dataframe thead th {\n",
       "        text-align: right;\n",
       "    }\n",
       "</style>\n",
       "<table border=\"1\" class=\"dataframe\">\n",
       "  <thead>\n",
       "    <tr style=\"text-align: right;\">\n",
       "      <th></th>\n",
       "      <th>Tweet</th>\n",
       "      <th>Prediction</th>\n",
       "      <th>Prediction Value</th>\n",
       "    </tr>\n",
       "  </thead>\n",
       "  <tbody>\n",
       "    <tr>\n",
       "      <th>0</th>\n",
       "      <td>[presidential, candidate, said, would, continu...</td>\n",
       "      <td>2</td>\n",
       "      <td>0.987573</td>\n",
       "    </tr>\n",
       "    <tr>\n",
       "      <th>1</th>\n",
       "      <td>[kumalat, text, messages, kandidatura, malaman...</td>\n",
       "      <td>2</td>\n",
       "      <td>0.936212</td>\n",
       "    </tr>\n",
       "    <tr>\n",
       "      <th>2</th>\n",
       "      <td>[vp, visits, roxas, city, watch, vp, sen, kiko...</td>\n",
       "      <td>2</td>\n",
       "      <td>0.981569</td>\n",
       "    </tr>\n",
       "    <tr>\n",
       "      <th>3</th>\n",
       "      <td>[]</td>\n",
       "      <td>2</td>\n",
       "      <td>0.534354</td>\n",
       "    </tr>\n",
       "    <tr>\n",
       "      <th>4</th>\n",
       "      <td>[camp, presidential, frontrunner, says, endors...</td>\n",
       "      <td>2</td>\n",
       "      <td>0.996996</td>\n",
       "    </tr>\n",
       "    <tr>\n",
       "      <th>...</th>\n",
       "      <td>...</td>\n",
       "      <td>...</td>\n",
       "      <td>...</td>\n",
       "    </tr>\n",
       "    <tr>\n",
       "      <th>2299</th>\n",
       "      <td>[one, birthday, wishes, victory, kiko, pangili...</td>\n",
       "      <td>0</td>\n",
       "      <td>0.543586</td>\n",
       "    </tr>\n",
       "    <tr>\n",
       "      <th>2300</th>\n",
       "      <td>[ok, sana, sapat, psychic, damage, inyo, makuh...</td>\n",
       "      <td>1</td>\n",
       "      <td>0.877180</td>\n",
       "    </tr>\n",
       "    <tr>\n",
       "      <th>2301</th>\n",
       "      <td>[took, blind, test, top, candidates, hahaha, g...</td>\n",
       "      <td>2</td>\n",
       "      <td>0.792552</td>\n",
       "    </tr>\n",
       "    <tr>\n",
       "      <th>2302</th>\n",
       "      <td>[that's, first, choice]</td>\n",
       "      <td>0</td>\n",
       "      <td>0.674450</td>\n",
       "    </tr>\n",
       "    <tr>\n",
       "      <th>2303</th>\n",
       "      <td>[abc, news, young, ones, know, dictator's, dar...</td>\n",
       "      <td>1</td>\n",
       "      <td>1.000000</td>\n",
       "    </tr>\n",
       "  </tbody>\n",
       "</table>\n",
       "<p>2304 rows × 3 columns</p>\n",
       "</div>"
      ],
      "text/plain": [
       "                                                  Tweet  Prediction  \\\n",
       "0     [presidential, candidate, said, would, continu...           2   \n",
       "1     [kumalat, text, messages, kandidatura, malaman...           2   \n",
       "2     [vp, visits, roxas, city, watch, vp, sen, kiko...           2   \n",
       "3                                                    []           2   \n",
       "4     [camp, presidential, frontrunner, says, endors...           2   \n",
       "...                                                 ...         ...   \n",
       "2299  [one, birthday, wishes, victory, kiko, pangili...           0   \n",
       "2300  [ok, sana, sapat, psychic, damage, inyo, makuh...           1   \n",
       "2301  [took, blind, test, top, candidates, hahaha, g...           2   \n",
       "2302                            [that's, first, choice]           0   \n",
       "2303  [abc, news, young, ones, know, dictator's, dar...           1   \n",
       "\n",
       "      Prediction Value  \n",
       "0             0.987573  \n",
       "1             0.936212  \n",
       "2             0.981569  \n",
       "3             0.534354  \n",
       "4             0.996996  \n",
       "...                ...  \n",
       "2299          0.543586  \n",
       "2300          0.877180  \n",
       "2301          0.792552  \n",
       "2302          0.674450  \n",
       "2303          1.000000  \n",
       "\n",
       "[2304 rows x 3 columns]"
      ]
     },
     "execution_count": 17,
     "metadata": {},
     "output_type": "execute_result"
    }
   ],
   "source": [
    "test_results = pd.DataFrame(list(zip(x_test,pred_labels_test_1, pred_labels_test_y)), columns = ['Tweet','Prediction', 'Prediction Value'])\n",
    "test_results "
   ]
  },
  {
   "cell_type": "code",
   "execution_count": 18,
   "id": "f8962da7",
   "metadata": {},
   "outputs": [],
   "source": [
    "#Saving labels to be used on other files\n",
    "true_labels = open('true_labels.pkl', 'wb')\n",
    "pickle.dump(np_test_y,true_labels)\n",
    "true_labels.close()\n",
    "\n",
    "predicted_labels = open('TFIDFFFNN_predicted_labels.pkl', 'wb')\n",
    "pickle.dump(pred_labels_test_1,predicted_labels)\n",
    "predicted_labels.close()\n",
    "\n",
    "TFIDFFFNN_test_results = open('TFIDFFFNN_test_results.pkl', 'wb')\n",
    "pickle.dump(test_results,TFIDFFFNN_test_results)\n",
    "TFIDFFFNN_test_results.close()"
   ]
  },
  {
   "cell_type": "code",
   "execution_count": 18,
   "id": "6ff68a47",
   "metadata": {},
   "outputs": [],
   "source": [
    "#test_predictions = (model.predict(x_test_vectorized) > 0.5).astype(int)\n",
    "\n",
    "#test_prediction_labels = []\n",
    "\n",
    "#for i in range(len(test_predictions)):\n",
    "    \n",
    "#    trueval = 'Positive'\n",
    "    \n",
    "#    if(test_predictions[i][1] == 1):\n",
    " #       pred = 'Negative'\n",
    "    \n",
    "#    if(test_predictions[i][2] == 1):\n",
    "#        pred = 'Neutral'\n",
    "    \n",
    "#    test_prediction_labels.append(pred)\n",
    "#    print(\"Sentence\\n: \",\" \".join(str(item) for item in x_test[i]),\"\\n\",\"True Value: \", trueval, \"\\nPred: \",pred, \"\\n~~~~~~~~~~~\\n\",sep=\"\")"
   ]
  },
  {
   "cell_type": "code",
   "execution_count": 19,
   "id": "ed51cf6e",
   "metadata": {},
   "outputs": [],
   "source": [
    "#comparison_dataframe = pd.DataFrame(list(zip(x_test,y_test, test_prediction_labels)), columns = ['Tweet','True Label', 'Clasiification Label'])  \n",
    "\n",
    "#with pd.option_context('display.max_rows', None,\n",
    "#                       'display.max_columns', None,\n",
    "#                       'display.precision', 3,\n",
    "#                       ):\n",
    "#    display(comparison_dataframe)"
   ]
  },
  {
   "cell_type": "code",
   "execution_count": null,
   "id": "a20be105",
   "metadata": {},
   "outputs": [],
   "source": []
  }
 ],
 "metadata": {
  "kernelspec": {
   "display_name": "Python 3",
   "language": "python",
   "name": "python3"
  },
  "language_info": {
   "codemirror_mode": {
    "name": "ipython",
    "version": 3
   },
   "file_extension": ".py",
   "mimetype": "text/x-python",
   "name": "python",
   "nbconvert_exporter": "python",
   "pygments_lexer": "ipython3",
   "version": "3.8.8"
  }
 },
 "nbformat": 4,
 "nbformat_minor": 5
}
