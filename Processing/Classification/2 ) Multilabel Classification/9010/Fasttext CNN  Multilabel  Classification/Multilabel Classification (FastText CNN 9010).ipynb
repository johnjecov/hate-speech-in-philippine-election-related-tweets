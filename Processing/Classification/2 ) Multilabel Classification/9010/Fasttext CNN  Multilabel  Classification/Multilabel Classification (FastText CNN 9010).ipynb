{
 "cells": [
  {
   "cell_type": "code",
   "execution_count": 1,
   "id": "d198f56f",
   "metadata": {},
   "outputs": [],
   "source": [
    "import numpy as np\n",
    "import pandas as pd\n",
    "import seaborn as sns\n",
    "import matplotlib.pyplot as plt\n",
    "\n",
    "import tensorflow as tf\n",
    "from tensorflow import keras\n",
    "from keras import optimizers\n",
    "from keras import regularizers\n",
    "from keras.models import Sequential\n",
    "from keras.layers import Dense, Activation, Dropout, Flatten\n",
    "from keras.layers import Embedding, Conv1D, MaxPooling1D, GlobalMaxPooling1D \n",
    "from keras.utils import np_utils\n",
    "from keras.utils import plot_model\n",
    "from keras.preprocessing import sequence\n",
    "from keras.preprocessing.text import Tokenizer\n",
    "from itertools import chain\n",
    "\n",
    "from tqdm import tqdm\n",
    "from gensim.models import fasttext\n",
    "from gensim.test.utils import datapath\n",
    "import os, re, csv, math, codecs, pickle, nltk\n",
    "from sklearn.preprocessing import LabelEncoder\n",
    "from sklearn.metrics import accuracy_score, confusion_matrix, classification_report\n",
    "import matplotlib.pyplot as plt\n",
    "from matplotlib import rcParams"
   ]
  },
  {
   "cell_type": "code",
   "execution_count": 2,
   "id": "03ebe364",
   "metadata": {},
   "outputs": [],
   "source": [
    "# OPEN DATA from pickle files\n",
    "# x_train, x_test, y_train, y_test\n",
    "# x = tweets data\n",
    "# y = tweet labels data\n",
    "\n",
    "with open('x_train.pkl', 'rb') as file:\n",
    "    x_train = pickle.load(file)\n",
    "    \n",
    "with open('x_test.pkl', 'rb') as file:\n",
    "    x_test = pickle.load(file)\n",
    "\n",
    "with open('y_train.pkl', 'rb') as file:\n",
    "    y_train = pickle.load(file)\n",
    "    \n",
    "with open('y_test.pkl', 'rb') as file:\n",
    "    y_test = pickle.load(file)\n"
   ]
  },
  {
   "cell_type": "code",
   "execution_count": 3,
   "id": "7915b440",
   "metadata": {},
   "outputs": [
    {
     "name": "stdout",
     "output_type": "stream",
     "text": [
      "39\n"
     ]
    }
   ],
   "source": [
    "#get tweets as x \n",
    "\n",
    "df_x_train = pd.DataFrame(x_train)\n",
    "df_x_test = pd.DataFrame(x_test)\n",
    "#x_train\n",
    "#x_test\n",
    "\n",
    "#get max length of sentences\n",
    "\n",
    "list_len = [len(i) for i in x_train]\n",
    "index_of_max = np.argmax(np.array(list_len))\n",
    "max_sentence_len = list_len[index_of_max]\n",
    "\n",
    "#flatten the x_train for fitting in the model tokenizer\n",
    "x_train_fit = list(chain.from_iterable(x_train))\n",
    "\n",
    "#get labels as y\n",
    "df_ytrain = pd.DataFrame(y_train, columns = ['Label'])\n",
    "df_ytest = pd.DataFrame(y_test, columns = ['Label'])\n",
    "\n",
    "mapping = {'Positive': 0, 'Negative': 1, 'Neutral':2}\n",
    "df_ytrain = df_ytrain.replace({'Label': mapping})\n",
    "df_ytest = df_ytest.replace({'Label': mapping})\n",
    "\n",
    "train_y = df_ytrain['Label'].tolist()\n",
    "test_y = df_ytest['Label'].tolist()\n",
    "\n",
    "np_train_y = np.asarray(train_y)\n",
    "np_test_y = np.asarray(test_y)\n",
    "print(max_sentence_len)"
   ]
  },
  {
   "cell_type": "code",
   "execution_count": 4,
   "id": "c246af34",
   "metadata": {},
   "outputs": [
    {
     "name": "stdout",
     "output_type": "stream",
     "text": [
      "mrs reason attend smni first sex offender host nang presidential yun also candidates reason show debate loyalist panel\n",
      "[1054, 372, 345, 98, 177, 1256, 4272, 1512, 146, 9, 224, 92, 106, 372, 95, 26, 1513, 3232]\n",
      "dictionary size:  14491\n",
      "6912\n",
      "768\n"
     ]
    }
   ],
   "source": [
    "# DATA VECTORIZATION\n",
    "\n",
    "\n",
    "#process tweets before vectorization\n",
    "x_train_sequences = []\n",
    "x_test_sequences = []\n",
    "\n",
    "for i in range(len(x_train)):\n",
    "    tweet = \" \".join(x_train[i])\n",
    "    x_train_sequences.append(tweet)\n",
    "    \n",
    "for i in range(len(x_test)):\n",
    "    tweet = \" \".join(x_test[i])\n",
    "    x_test_sequences.append(tweet)\n",
    "\n",
    "tokenizer = Tokenizer(num_words=100000, char_level=False)\n",
    "tokenizer.fit_on_texts(x_train_fit)\n",
    "\n",
    "word_seq_train_x = tokenizer.texts_to_sequences(x_train_sequences)\n",
    "word_seq_test_x = tokenizer.texts_to_sequences(x_test_sequences)\n",
    "\n",
    "print(x_train_sequences[0])\n",
    "print(word_seq_train_x[0])\n",
    "\n",
    "#assign word_index from tokenizer to get the training dictionary \n",
    "#to check with the fasttext embeddings lateron\n",
    "word_index = tokenizer.word_index\n",
    "print(\"dictionary size: \", len(word_index))\n",
    "\n",
    "#pad sequences\n",
    "word_seq_train = keras.preprocessing.sequence.pad_sequences(word_seq_train_x, maxlen=max_sentence_len)\n",
    "word_seq_test = keras.preprocessing.sequence.pad_sequences(word_seq_test_x, maxlen=max_sentence_len)\n",
    "print(len(word_seq_train))\n",
    "print(len(word_seq_test))"
   ]
  },
  {
   "cell_type": "code",
   "execution_count": 5,
   "id": "9c249b4e",
   "metadata": {},
   "outputs": [],
   "source": [
    "# LOAD FASTTEXT CORPUS\n",
    "ft_model = fasttext.load_facebook_model(datapath(\"cc.tl.300.bin\"))"
   ]
  },
  {
   "cell_type": "code",
   "execution_count": 6,
   "id": "c02a8073",
   "metadata": {},
   "outputs": [
    {
     "data": {
      "text/plain": [
       "(49382, 167544)"
      ]
     },
     "execution_count": 6,
     "metadata": {},
     "output_type": "execute_result"
    }
   ],
   "source": [
    "# INCREMENT FASTTEXT CORPUS\n",
    "sent1 = x_train\n",
    "#ft_model.train(sent1, total_examples=len(sent1), epochs=5)\n",
    "ft_model.build_vocab(sent1, update=True)\n",
    "ft_model.train(sent1, total_examples=len(sent1), epochs=ft_model.epochs)"
   ]
  },
  {
   "cell_type": "code",
   "execution_count": 7,
   "id": "c751b628",
   "metadata": {},
   "outputs": [
    {
     "name": "stdout",
     "output_type": "stream",
     "text": [
      "preparing embedding matrix...\n",
      "number of null word embeddings: 6\n"
     ]
    }
   ],
   "source": [
    "# EMBEDDING MATRIX\n",
    "print('preparing embedding matrix...')\n",
    "words_not_found = []\n",
    "nb_words = len(word_index)+1\n",
    "embedding_matrix = np.zeros((nb_words, 300))\n",
    "for word, i in word_index.items():\n",
    "    if i >= nb_words:\n",
    "        continue\n",
    "    embedding_vector = ft_model.wv[word]\n",
    "    if (embedding_vector is not None) and len(embedding_vector) > 0:\n",
    "        # words not found in embedding index will be all-zeros.\n",
    "        embedding_matrix[i] = embedding_vector\n",
    "    else:\n",
    "        words_not_found.append(word)\n",
    "print('number of null word embeddings: %d' % np.sum(np.sum(embedding_matrix, axis=1) == 0))"
   ]
  },
  {
   "cell_type": "code",
   "execution_count": 20,
   "id": "4c2c3077",
   "metadata": {},
   "outputs": [
    {
     "name": "stdout",
     "output_type": "stream",
     "text": [
      "training CNN ...\n",
      "Model: \"sequential_1\"\n",
      "_________________________________________________________________\n",
      " Layer (type)                Output Shape              Param #   \n",
      "=================================================================\n",
      " embedding_1 (Embedding)     (None, 39, 300)           4347600   \n",
      "                                                                 \n",
      " conv1d_2 (Conv1D)           (None, 39, 256)           153856    \n",
      "                                                                 \n",
      " max_pooling1d_1 (MaxPooling  (None, 19, 256)          0         \n",
      " 1D)                                                             \n",
      "                                                                 \n",
      " conv1d_3 (Conv1D)           (None, 19, 64)            65600     \n",
      "                                                                 \n",
      " global_max_pooling1d_1 (Glo  (None, 64)               0         \n",
      " balMaxPooling1D)                                                \n",
      "                                                                 \n",
      " dropout_1 (Dropout)         (None, 64)                0         \n",
      "                                                                 \n",
      " dense_1 (Dense)             (None, 3)                 195       \n",
      "                                                                 \n",
      "=================================================================\n",
      "Total params: 4,567,251\n",
      "Trainable params: 219,651\n",
      "Non-trainable params: 4,347,600\n",
      "_________________________________________________________________\n"
     ]
    }
   ],
   "source": [
    "#CNN MODEL\n",
    "print(\"training CNN ...\")\n",
    "model = Sequential()\n",
    "model.add(Embedding(nb_words, 300,\n",
    "          weights=[embedding_matrix], input_length=max_sentence_len, trainable=False))\n",
    "model.add(Conv1D(256, 2, padding='same', activation='relu'))\n",
    "model.add(MaxPooling1D(2,2))\n",
    "model.add(Conv1D(64, 4, padding='same', activation='relu'))\n",
    "model.add(GlobalMaxPooling1D())\n",
    "model.add(Dropout(0.5))\n",
    "model.add(Dense(3, activation='softmax'))  #binary label non hate or hate\n",
    "\n",
    "adam = optimizers.Adam(learning_rate=0.001, beta_1=0.9, beta_2=0.999, epsilon=1e-08, decay=0.0)\n",
    "model.compile(loss='sparse_categorical_crossentropy', optimizer=adam, metrics=['accuracy'])\n",
    "#model.compile(loss=keras.losses.BinaryCrossentropy(from_logits=True), optimizer=adam, metrics=['accuracy'])\n",
    "model.summary()"
   ]
  },
  {
   "cell_type": "code",
   "execution_count": 21,
   "id": "56786b88",
   "metadata": {},
   "outputs": [
    {
     "name": "stdout",
     "output_type": "stream",
     "text": [
      "Epoch 1/5\n",
      "195/195 - 3s - loss: 0.9921 - accuracy: 0.4786 - val_loss: 0.8754 - val_accuracy: 0.5621 - 3s/epoch - 15ms/step\n",
      "Epoch 2/5\n",
      "195/195 - 2s - loss: 0.8329 - accuracy: 0.6055 - val_loss: 0.8193 - val_accuracy: 0.6084 - 2s/epoch - 13ms/step\n",
      "Epoch 3/5\n",
      "195/195 - 2s - loss: 0.7689 - accuracy: 0.6444 - val_loss: 0.7798 - val_accuracy: 0.6228 - 2s/epoch - 12ms/step\n",
      "Epoch 4/5\n",
      "195/195 - 2s - loss: 0.7096 - accuracy: 0.6826 - val_loss: 0.7413 - val_accuracy: 0.6561 - 2s/epoch - 13ms/step\n",
      "Epoch 5/5\n",
      "195/195 - 2s - loss: 0.6602 - accuracy: 0.7034 - val_loss: 0.7258 - val_accuracy: 0.6546 - 2s/epoch - 12ms/step\n"
     ]
    }
   ],
   "source": [
    "model_history = model.fit(word_seq_train, np_train_y, batch_size = 32, epochs = 5, verbose=2, validation_split = 0.1)"
   ]
  },
  {
   "cell_type": "code",
   "execution_count": 22,
   "id": "4498a9fb",
   "metadata": {},
   "outputs": [],
   "source": [
    "model.save('fasttextcnn.h5')"
   ]
  },
  {
   "cell_type": "code",
   "execution_count": 23,
   "id": "41d67e02",
   "metadata": {},
   "outputs": [
    {
     "data": {
      "image/png": "[encoded data removed]",
      "text/plain": [
       "<Figure size 576x432 with 1 Axes>"
      ]
     },
     "metadata": {},
     "output_type": "display_data"
    }
   ],
   "source": [
    "#plot configuration\n",
    "CB91_Blue = '#2CBDFE'\n",
    "CB91_Green = '#47DBCD'\n",
    "CB91_Pink = '#F3A0F2'\n",
    "CB91_Purple = '#9D2EC5'\n",
    "CB91_Violet = '#661D98'\n",
    "CB91_Amber = '#F5B14C'\n",
    "\n",
    "color_list = [CB91_Blue, CB91_Amber]\n",
    "\n",
    "csfont = {'fontname':'Helvetica'}\n",
    "hfont = {'fontname':'Helvetica'}\n",
    "\n",
    "plt.title('title',**csfont)\n",
    "plt.xlabel('xlabel', **hfont)\n",
    "plt.rcParams['axes.prop_cycle'] = plt.cycler(color=color_list)"
   ]
  },
  {
   "cell_type": "code",
   "execution_count": 24,
   "id": "ae996827",
   "metadata": {},
   "outputs": [
    {
     "data": {
      "image/png": "[encoded data removed]",
      "text/plain": [
       "<Figure size 576x432 with 1 Axes>"
      ]
     },
     "metadata": {},
     "output_type": "display_data"
    }
   ],
   "source": [
    "# plot loss during training\n",
    "plt.subplot(212)\n",
    "plt.title('MODEL LOSS\\n(Multilabel TFIDF fastText CNN 9010)\\n', fontsize = 13)\n",
    "plt.plot(model_history.history['loss'], label='training', linewidth=2)\n",
    "plt.plot(model_history.history['val_loss'], label='validation', linewidth=2)\n",
    "plt.legend(frameon=False)\n",
    "plt.xlabel(\"Epoch\")\n",
    "plt.ylabel(\"Loss\")\n",
    "plt.show()"
   ]
  },
  {
   "cell_type": "code",
   "execution_count": 25,
   "id": "1957d89a",
   "metadata": {},
   "outputs": [
    {
     "data": {
      "image/png": "[encoded data removed]",
      "text/plain": [
       "<Figure size 576x432 with 1 Axes>"
      ]
     },
     "metadata": {},
     "output_type": "display_data"
    }
   ],
   "source": [
    "# plot accuracy during training\n",
    "plt.subplot(212)\n",
    "plt.title('MODEL ACCURACY\\n(Multilabel TFIDF fastText CNN 9010)\\n', fontsize = 13)\n",
    "plt.plot(model_history.history['accuracy'], label='training', linewidth=2)\n",
    "plt.plot(model_history.history['val_accuracy'], label='validation', linewidth=2)\n",
    "plt.legend(frameon=False)\n",
    "plt.xlabel(\"Epoch\")\n",
    "plt.ylabel(\"Accuracy\")\n",
    "plt.show()"
   ]
  },
  {
   "cell_type": "code",
   "execution_count": 26,
   "id": "be36f9d7",
   "metadata": {},
   "outputs": [
    {
     "name": "stdout",
     "output_type": "stream",
     "text": [
      "216/216 [==============================] - 1s 5ms/step\n"
     ]
    }
   ],
   "source": [
    "ytrain_result = model.predict(word_seq_train)"
   ]
  },
  {
   "cell_type": "code",
   "execution_count": 27,
   "id": "ddb14c4a",
   "metadata": {},
   "outputs": [
    {
     "name": "stdout",
     "output_type": "stream",
     "text": [
      "24/24 [==============================] - 0s 5ms/step\n",
      "[[0.5762035  0.29427385 0.1295226 ]\n",
      " [0.3053807  0.38222334 0.31239596]\n",
      " [0.00845724 0.8512238  0.14031896]\n",
      " ...\n",
      " [0.26705867 0.03455628 0.69838506]\n",
      " [0.12612192 0.01312822 0.86074984]\n",
      " [0.42157605 0.25493792 0.32348606]]\n"
     ]
    }
   ],
   "source": [
    "ytest_result = model.predict(word_seq_test)\n",
    "print(ytest_result)"
   ]
  },
  {
   "cell_type": "code",
   "execution_count": 28,
   "id": "3d75b5f2",
   "metadata": {},
   "outputs": [
    {
     "name": "stdout",
     "output_type": "stream",
     "text": [
      "216/216 [==============================] - 1s 5ms/step\n",
      "24/24 [==============================] - 0s 5ms/step\n",
      "\n",
      "-------------------- Model Summary --------------------\n",
      "Model: \"sequential_1\"\n",
      "_________________________________________________________________\n",
      " Layer (type)                Output Shape              Param #   \n",
      "=================================================================\n",
      " embedding_1 (Embedding)     (None, 39, 300)           4347600   \n",
      "                                                                 \n",
      " conv1d_2 (Conv1D)           (None, 39, 256)           153856    \n",
      "                                                                 \n",
      " max_pooling1d_1 (MaxPooling  (None, 19, 256)          0         \n",
      " 1D)                                                             \n",
      "                                                                 \n",
      " conv1d_3 (Conv1D)           (None, 19, 64)            65600     \n",
      "                                                                 \n",
      " global_max_pooling1d_1 (Glo  (None, 64)               0         \n",
      " balMaxPooling1D)                                                \n",
      "                                                                 \n",
      " dropout_1 (Dropout)         (None, 64)                0         \n",
      "                                                                 \n",
      " dense_1 (Dense)             (None, 3)                 195       \n",
      "                                                                 \n",
      "=================================================================\n",
      "Total params: 4,567,251\n",
      "Trainable params: 219,651\n",
      "Non-trainable params: 4,347,600\n",
      "_________________________________________________________________\n",
      "\n",
      "---------- Evaluation on Training Data ----------\n",
      "              precision    recall  f1-score   support\n",
      "\n",
      "           0     0.7861    0.6744    0.7260      2316\n",
      "           1     0.8164    0.8823    0.8481      2319\n",
      "           2     0.6556    0.6965    0.6755      2277\n",
      "\n",
      "    accuracy                         0.7514      6912\n",
      "   macro avg     0.7527    0.7511    0.7499      6912\n",
      "weighted avg     0.7533    0.7514    0.7503      6912\n",
      "\n",
      "\n",
      "---------- Evaluation on Test Data ----------\n",
      "              precision    recall  f1-score   support\n",
      "\n",
      "           0     0.6393    0.5738    0.6048       244\n",
      "           1     0.7410    0.7718    0.7561       241\n",
      "           2     0.5872    0.6184    0.6024       283\n",
      "\n",
      "    accuracy                         0.6523       768\n",
      "   macro avg     0.6559    0.6546    0.6544       768\n",
      "weighted avg     0.6520    0.6523    0.6514       768\n",
      "\n",
      "\n"
     ]
    }
   ],
   "source": [
    "##### Step 7 - Model Performance Summary\n",
    "# Predict class labels on training data\n",
    "pred_labels_train = model.predict(word_seq_train)\n",
    "# Predict class labels on a test data\n",
    "pred_labels_test = model.predict(word_seq_test)\n",
    "\n",
    "#print(pred_labels_train)\n",
    "pred_labels_train_1 = []\n",
    "\n",
    "pred_labels_test_1 = []\n",
    "\n",
    "pred_labels_test_y = []\n",
    "\n",
    "for i in range(len(pred_labels_train)):\n",
    "    label = np.argmax(pred_labels_train[i])\n",
    "    pred_labels_train_1.append(label)\n",
    "    \n",
    "for i in range(len(pred_labels_test)):\n",
    "    label = np.argmax(pred_labels_test[i]) \n",
    "    pred_labels_test_1.append(label)\n",
    "    pred_labels_test_y.append(pred_labels_test[i][label])\n",
    "    \n",
    "print(\"\")\n",
    "print('-------------------- Model Summary --------------------')\n",
    "model.summary() # print model summary\n",
    "print(\"\")\n",
    "print('---------- Evaluation on Training Data ----------')\n",
    "print(classification_report(np_train_y, pred_labels_train_1, digits = 4))\n",
    "print(\"\")\n",
    "\n",
    "print('---------- Evaluation on Test Data ----------')\n",
    "print(classification_report(np_test_y, pred_labels_test_1, digits = 4))\n",
    "print(\"\")"
   ]
  },
  {
   "cell_type": "code",
   "execution_count": 32,
   "id": "7b72e5f9",
   "metadata": {},
   "outputs": [
    {
     "name": "stdout",
     "output_type": "stream",
     "text": [
      "[[140  23  81]\n",
      " [ 13 186  42]\n",
      " [ 66  42 175]]\n"
     ]
    },
    {
     "data": {
      "image/png": "[encoded data removed]",
      "text/plain": [
       "<Figure size 576x432 with 2 Axes>"
      ]
     },
     "metadata": {},
     "output_type": "display_data"
    }
   ],
   "source": [
    "cf_matrix = confusion_matrix(np_test_y, pred_labels_test_1)\n",
    "print(cf_matrix)\n",
    "\n",
    "sns.set(rc={\"figure.figsize\":(8, 6)})\n",
    "ax = sns.heatmap(cf_matrix/np.sum(cf_matrix), annot=True, xticklabels = ['Positive', 'Negative', 'Neutral'], yticklabels = ['Positive', 'Negative', 'Neutral'],\n",
    "            fmt='.2%', cmap='Blues')\n",
    "\n",
    "plt.title('Confusion Matrix\\n(Multilabel fastText CNN 9010)\\n', fontsize = 13)\n",
    "plt.show()"
   ]
  },
  {
   "cell_type": "code",
   "execution_count": 33,
   "id": "078ea6af",
   "metadata": {},
   "outputs": [
    {
     "data": {
      "text/html": [
       "<div>\n",
       "<style scoped>\n",
       "    .dataframe tbody tr th:only-of-type {\n",
       "        vertical-align: middle;\n",
       "    }\n",
       "\n",
       "    .dataframe tbody tr th {\n",
       "        vertical-align: top;\n",
       "    }\n",
       "\n",
       "    .dataframe thead th {\n",
       "        text-align: right;\n",
       "    }\n",
       "</style>\n",
       "<table border=\"1\" class=\"dataframe\">\n",
       "  <thead>\n",
       "    <tr style=\"text-align: right;\">\n",
       "      <th></th>\n",
       "      <th>Tweet</th>\n",
       "      <th>Prediction</th>\n",
       "      <th>Prediction Value</th>\n",
       "    </tr>\n",
       "  </thead>\n",
       "  <tbody>\n",
       "    <tr>\n",
       "      <th>0</th>\n",
       "      <td>[bbmsara, win, rin, inday, sara, win]</td>\n",
       "      <td>0</td>\n",
       "      <td>0.576204</td>\n",
       "    </tr>\n",
       "    <tr>\n",
       "      <th>1</th>\n",
       "      <td>[inaniyo, pag, di, si, nanalo, itatakwil, pami...</td>\n",
       "      <td>1</td>\n",
       "      <td>0.382223</td>\n",
       "    </tr>\n",
       "    <tr>\n",
       "      <th>2</th>\n",
       "      <td>[presidential, aspirant, manila, fired, shots,...</td>\n",
       "      <td>1</td>\n",
       "      <td>0.851224</td>\n",
       "    </tr>\n",
       "    <tr>\n",
       "      <th>3</th>\n",
       "      <td>[gobyernong, tapat, angat, buhay, si, yancy, i...</td>\n",
       "      <td>0</td>\n",
       "      <td>0.979453</td>\n",
       "    </tr>\n",
       "    <tr>\n",
       "      <th>4</th>\n",
       "      <td>[oras, kandidatong, tunay, magdadala, pagbabag...</td>\n",
       "      <td>0</td>\n",
       "      <td>0.657396</td>\n",
       "    </tr>\n",
       "    <tr>\n",
       "      <th>...</th>\n",
       "      <td>...</td>\n",
       "      <td>...</td>\n",
       "      <td>...</td>\n",
       "    </tr>\n",
       "    <tr>\n",
       "      <th>763</th>\n",
       "      <td>[presidente, bise, presidente, kiko, pangilina...</td>\n",
       "      <td>0</td>\n",
       "      <td>0.780514</td>\n",
       "    </tr>\n",
       "    <tr>\n",
       "      <th>764</th>\n",
       "      <td>[mt, mayon, showed, seems, like, looking, vp, ...</td>\n",
       "      <td>0</td>\n",
       "      <td>0.587240</td>\n",
       "    </tr>\n",
       "    <tr>\n",
       "      <th>765</th>\n",
       "      <td>[president]</td>\n",
       "      <td>2</td>\n",
       "      <td>0.698385</td>\n",
       "    </tr>\n",
       "    <tr>\n",
       "      <th>766</th>\n",
       "      <td>[unforgettable, rally, experience, agusan, del...</td>\n",
       "      <td>2</td>\n",
       "      <td>0.860750</td>\n",
       "    </tr>\n",
       "    <tr>\n",
       "      <th>767</th>\n",
       "      <td>[lang, mahikayat, tao, presidente, si]</td>\n",
       "      <td>0</td>\n",
       "      <td>0.421576</td>\n",
       "    </tr>\n",
       "  </tbody>\n",
       "</table>\n",
       "<p>768 rows × 3 columns</p>\n",
       "</div>"
      ],
      "text/plain": [
       "                                                 Tweet  Prediction  \\\n",
       "0                [bbmsara, win, rin, inday, sara, win]           0   \n",
       "1    [inaniyo, pag, di, si, nanalo, itatakwil, pami...           1   \n",
       "2    [presidential, aspirant, manila, fired, shots,...           1   \n",
       "3    [gobyernong, tapat, angat, buhay, si, yancy, i...           0   \n",
       "4    [oras, kandidatong, tunay, magdadala, pagbabag...           0   \n",
       "..                                                 ...         ...   \n",
       "763  [presidente, bise, presidente, kiko, pangilina...           0   \n",
       "764  [mt, mayon, showed, seems, like, looking, vp, ...           0   \n",
       "765                                        [president]           2   \n",
       "766  [unforgettable, rally, experience, agusan, del...           2   \n",
       "767             [lang, mahikayat, tao, presidente, si]           0   \n",
       "\n",
       "     Prediction Value  \n",
       "0            0.576204  \n",
       "1            0.382223  \n",
       "2            0.851224  \n",
       "3            0.979453  \n",
       "4            0.657396  \n",
       "..                ...  \n",
       "763          0.780514  \n",
       "764          0.587240  \n",
       "765          0.698385  \n",
       "766          0.860750  \n",
       "767          0.421576  \n",
       "\n",
       "[768 rows x 3 columns]"
      ]
     },
     "execution_count": 33,
     "metadata": {},
     "output_type": "execute_result"
    }
   ],
   "source": [
    "test_results = pd.DataFrame(list(zip(x_test,pred_labels_test_1, pred_labels_test_y)), columns = ['Tweet','Prediction', 'Prediction Value'])\n",
    "test_results "
   ]
  },
  {
   "cell_type": "code",
   "execution_count": 34,
   "id": "128c48f2",
   "metadata": {},
   "outputs": [],
   "source": [
    "#Saving labels to be used on other files\n",
    "true_labels = open('true_labels.pkl', 'wb')\n",
    "pickle.dump(np_test_y,true_labels)\n",
    "true_labels.close()\n",
    "\n",
    "predicted_labels = open('fastTextCNN_predicted_labels.pkl', 'wb')\n",
    "pickle.dump(pred_labels_test_1,predicted_labels)\n",
    "predicted_labels.close()\n",
    "\n",
    "fastTextCNN_test_results = open('fastTextCNN_test_results.pkl', 'wb')\n",
    "pickle.dump(test_results,fastTextCNN_test_results)\n",
    "fastTextCNN_test_results.close()"
   ]
  },
  {
   "cell_type": "code",
   "execution_count": null,
   "id": "4b246c60",
   "metadata": {},
   "outputs": [],
   "source": []
  }
 ],
 "metadata": {
  "kernelspec": {
   "display_name": "Python 3",
   "language": "python",
   "name": "python3"
  },
  "language_info": {
   "codemirror_mode": {
    "name": "ipython",
    "version": 3
   },
   "file_extension": ".py",
   "mimetype": "text/x-python",
   "name": "python",
   "nbconvert_exporter": "python",
   "pygments_lexer": "ipython3",
   "version": "3.8.8"
  }
 },
 "nbformat": 4,
 "nbformat_minor": 5
}
