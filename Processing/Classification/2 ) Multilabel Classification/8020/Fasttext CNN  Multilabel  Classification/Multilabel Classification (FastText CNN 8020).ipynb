{
 "cells": [
  {
   "cell_type": "code",
   "execution_count": 1,
   "id": "d198f56f",
   "metadata": {},
   "outputs": [],
   "source": [
    "import numpy as np\n",
    "import pandas as pd\n",
    "import seaborn as sns\n",
    "import matplotlib.pyplot as plt\n",
    "\n",
    "import tensorflow as tf\n",
    "from tensorflow import keras\n",
    "from keras import optimizers\n",
    "from keras import regularizers\n",
    "from keras.models import Sequential\n",
    "from keras.layers import Dense, Activation, Dropout, Flatten\n",
    "from keras.layers import Embedding, Conv1D, MaxPooling1D, GlobalMaxPooling1D \n",
    "from keras.utils import np_utils\n",
    "from keras.utils import plot_model\n",
    "from keras.preprocessing import sequence\n",
    "from keras.preprocessing.text import Tokenizer\n",
    "from itertools import chain\n",
    "\n",
    "from tqdm import tqdm\n",
    "from gensim.models import fasttext\n",
    "from gensim.test.utils import datapath\n",
    "import os, re, csv, math, codecs, pickle, nltk\n",
    "from sklearn.preprocessing import LabelEncoder\n",
    "from sklearn.metrics import accuracy_score, confusion_matrix, classification_report\n",
    "import matplotlib.pyplot as plt\n",
    "from matplotlib import rcParams"
   ]
  },
  {
   "cell_type": "code",
   "execution_count": 2,
   "id": "03ebe364",
   "metadata": {},
   "outputs": [],
   "source": [
    "# OPEN DATA from pickle files\n",
    "# x_train, x_test, y_train, y_test\n",
    "# x = tweets data\n",
    "# y = tweet labels data\n",
    "\n",
    "with open('x_train.pkl', 'rb') as file:\n",
    "    x_train = pickle.load(file)\n",
    "    \n",
    "with open('x_test.pkl', 'rb') as file:\n",
    "    x_test = pickle.load(file)\n",
    "\n",
    "with open('y_train.pkl', 'rb') as file:\n",
    "    y_train = pickle.load(file)\n",
    "    \n",
    "with open('y_test.pkl', 'rb') as file:\n",
    "    y_test = pickle.load(file)\n"
   ]
  },
  {
   "cell_type": "code",
   "execution_count": 3,
   "id": "7915b440",
   "metadata": {},
   "outputs": [
    {
     "name": "stdout",
     "output_type": "stream",
     "text": [
      "39\n"
     ]
    }
   ],
   "source": [
    "#get tweets as x \n",
    "\n",
    "df_x_train = pd.DataFrame(x_train)\n",
    "df_x_test = pd.DataFrame(x_test)\n",
    "#x_train\n",
    "#x_test\n",
    "\n",
    "#get max length of sentences\n",
    "\n",
    "list_len = [len(i) for i in x_train]\n",
    "index_of_max = np.argmax(np.array(list_len))\n",
    "max_sentence_len = list_len[index_of_max]\n",
    "\n",
    "#flatten the x_train for fitting in the model tokenizer\n",
    "x_train_fit = list(chain.from_iterable(x_train))\n",
    "\n",
    "#get labels as y\n",
    "df_ytrain = pd.DataFrame(y_train, columns = ['Label'])\n",
    "df_ytest = pd.DataFrame(y_test, columns = ['Label'])\n",
    "\n",
    "mapping = {'Positive': 0, 'Negative': 1, 'Neutral':2}\n",
    "df_ytrain = df_ytrain.replace({'Label': mapping})\n",
    "df_ytest = df_ytest.replace({'Label': mapping})\n",
    "\n",
    "train_y = df_ytrain['Label'].tolist()\n",
    "test_y = df_ytest['Label'].tolist()\n",
    "\n",
    "np_train_y = np.asarray(train_y)\n",
    "np_test_y = np.asarray(test_y)\n",
    "print(max_sentence_len)"
   ]
  },
  {
   "cell_type": "code",
   "execution_count": 4,
   "id": "c246af34",
   "metadata": {},
   "outputs": [
    {
     "name": "stdout",
     "output_type": "stream",
     "text": [
      "marcosjr duwag ayaw umattend debate kayang idipensa pamilya nya pamilya nya nga nya kayang ipagtanggol panindigan sambayanang pilipino gising pilipinas win\n",
      "[443, 157, 82, 316, 27, 136, 1753, 113, 41, 113, 41, 48, 41, 136, 224, 444, 356, 85, 328, 38, 56]\n",
      "dictionary size:  13542\n",
      "6144\n",
      "1536\n"
     ]
    }
   ],
   "source": [
    "# DATA VECTORIZATION\n",
    "\n",
    "\n",
    "#process tweets before vectorization\n",
    "x_train_sequences = []\n",
    "x_test_sequences = []\n",
    "\n",
    "for i in range(len(x_train)):\n",
    "    tweet = \" \".join(x_train[i])\n",
    "    x_train_sequences.append(tweet)\n",
    "    \n",
    "for i in range(len(x_test)):\n",
    "    tweet = \" \".join(x_test[i])\n",
    "    x_test_sequences.append(tweet)\n",
    "\n",
    "tokenizer = Tokenizer(num_words=100000, char_level=False)\n",
    "tokenizer.fit_on_texts(x_train_fit)\n",
    "\n",
    "word_seq_train_x = tokenizer.texts_to_sequences(x_train_sequences)\n",
    "word_seq_test_x = tokenizer.texts_to_sequences(x_test_sequences)\n",
    "\n",
    "print(x_train_sequences[0])\n",
    "print(word_seq_train_x[0])\n",
    "\n",
    "#assign word_index from tokenizer to get the training dictionary \n",
    "#to check with the fasttext embeddings lateron\n",
    "word_index = tokenizer.word_index\n",
    "print(\"dictionary size: \", len(word_index))\n",
    "\n",
    "#pad sequences\n",
    "word_seq_train = keras.preprocessing.sequence.pad_sequences(word_seq_train_x, maxlen=max_sentence_len)\n",
    "word_seq_test = keras.preprocessing.sequence.pad_sequences(word_seq_test_x, maxlen=max_sentence_len)\n",
    "print(len(word_seq_train))\n",
    "print(len(word_seq_test))"
   ]
  },
  {
   "cell_type": "code",
   "execution_count": 5,
   "id": "9c249b4e",
   "metadata": {},
   "outputs": [],
   "source": [
    "# LOAD FASTTEXT CORPUS\n",
    "ft_model = fasttext.load_facebook_model(datapath(\"cc.tl.300.bin\"))"
   ]
  },
  {
   "cell_type": "code",
   "execution_count": 6,
   "id": "c02a8073",
   "metadata": {},
   "outputs": [
    {
     "data": {
      "text/plain": [
       "(44664, 149494)"
      ]
     },
     "execution_count": 6,
     "metadata": {},
     "output_type": "execute_result"
    }
   ],
   "source": [
    "# INCREMENT FASTTEXT CORPUS\n",
    "sent1 = x_train\n",
    "#ft_model.train(sent1, total_examples=len(sent1), epochs=5)\n",
    "ft_model.build_vocab(sent1, update=True)\n",
    "ft_model.train(sent1, total_examples=len(sent1), epochs=ft_model.epochs)"
   ]
  },
  {
   "cell_type": "code",
   "execution_count": 7,
   "id": "c751b628",
   "metadata": {},
   "outputs": [
    {
     "name": "stdout",
     "output_type": "stream",
     "text": [
      "preparing embedding matrix...\n",
      "number of null word embeddings: 7\n"
     ]
    }
   ],
   "source": [
    "# EMBEDDING MATRIX\n",
    "print('preparing embedding matrix...')\n",
    "words_not_found = []\n",
    "nb_words = len(word_index)+1\n",
    "embedding_matrix = np.zeros((nb_words, 300))\n",
    "for word, i in word_index.items():\n",
    "    if i >= nb_words:\n",
    "        continue\n",
    "    embedding_vector = ft_model.wv[word]\n",
    "    if (embedding_vector is not None) and len(embedding_vector) > 0:\n",
    "        # words not found in embedding index will be all-zeros.\n",
    "        embedding_matrix[i] = embedding_vector\n",
    "    else:\n",
    "        words_not_found.append(word)\n",
    "print('number of null word embeddings: %d' % np.sum(np.sum(embedding_matrix, axis=1) == 0))"
   ]
  },
  {
   "cell_type": "code",
   "execution_count": 8,
   "id": "4c2c3077",
   "metadata": {},
   "outputs": [
    {
     "name": "stdout",
     "output_type": "stream",
     "text": [
      "training CNN ...\n",
      "Model: \"sequential\"\n",
      "_________________________________________________________________\n",
      " Layer (type)                Output Shape              Param #   \n",
      "=================================================================\n",
      " embedding (Embedding)       (None, 39, 300)           4062900   \n",
      "                                                                 \n",
      " conv1d (Conv1D)             (None, 39, 256)           153856    \n",
      "                                                                 \n",
      " max_pooling1d (MaxPooling1D  (None, 19, 256)          0         \n",
      " )                                                               \n",
      "                                                                 \n",
      " conv1d_1 (Conv1D)           (None, 19, 64)            65600     \n",
      "                                                                 \n",
      " global_max_pooling1d (Globa  (None, 64)               0         \n",
      " lMaxPooling1D)                                                  \n",
      "                                                                 \n",
      " dropout (Dropout)           (None, 64)                0         \n",
      "                                                                 \n",
      " dense (Dense)               (None, 3)                 195       \n",
      "                                                                 \n",
      "=================================================================\n",
      "Total params: 4,282,551\n",
      "Trainable params: 219,651\n",
      "Non-trainable params: 4,062,900\n",
      "_________________________________________________________________\n"
     ]
    }
   ],
   "source": [
    "#CNN MODEL\n",
    "print(\"training CNN ...\")\n",
    "model = Sequential()\n",
    "model.add(Embedding(nb_words, 300,\n",
    "          weights=[embedding_matrix], input_length=max_sentence_len, trainable=False))\n",
    "model.add(Conv1D(256, 2, padding='same', activation='relu'))\n",
    "model.add(MaxPooling1D(2,2))\n",
    "model.add(Conv1D(64, 4, padding='same', activation='relu'))\n",
    "model.add(GlobalMaxPooling1D())\n",
    "model.add(Dropout(0.5))\n",
    "model.add(Dense(3, activation='softmax'))  #binary label non hate or hate\n",
    "\n",
    "adam = optimizers.Adam(learning_rate=0.001, beta_1=0.9, beta_2=0.999, epsilon=1e-08, decay=0.0)\n",
    "model.compile(loss='sparse_categorical_crossentropy', optimizer=adam, metrics=['accuracy'])\n",
    "#model.compile(loss=keras.losses.BinaryCrossentropy(from_logits=True), optimizer=adam, metrics=['accuracy'])\n",
    "model.summary()"
   ]
  },
  {
   "cell_type": "code",
   "execution_count": 9,
   "id": "56786b88",
   "metadata": {},
   "outputs": [
    {
     "name": "stdout",
     "output_type": "stream",
     "text": [
      "Epoch 1/5\n",
      "173/173 - 3s - loss: 0.9918 - accuracy: 0.4943 - val_loss: 0.8563 - val_accuracy: 0.6065 - 3s/epoch - 19ms/step\n",
      "Epoch 2/5\n",
      "173/173 - 2s - loss: 0.8548 - accuracy: 0.5923 - val_loss: 0.8060 - val_accuracy: 0.6163 - 2s/epoch - 12ms/step\n",
      "Epoch 3/5\n",
      "173/173 - 2s - loss: 0.7818 - accuracy: 0.6444 - val_loss: 0.7483 - val_accuracy: 0.6374 - 2s/epoch - 12ms/step\n",
      "Epoch 4/5\n",
      "173/173 - 2s - loss: 0.7157 - accuracy: 0.6721 - val_loss: 0.7068 - val_accuracy: 0.6992 - 2s/epoch - 12ms/step\n",
      "Epoch 5/5\n",
      "173/173 - 2s - loss: 0.6704 - accuracy: 0.7034 - val_loss: 0.6906 - val_accuracy: 0.7008 - 2s/epoch - 12ms/step\n"
     ]
    }
   ],
   "source": [
    "model_history = model.fit(word_seq_train, np_train_y, batch_size = 32, epochs = 5, verbose=2, validation_split = 0.1)"
   ]
  },
  {
   "cell_type": "code",
   "execution_count": 10,
   "id": "4498a9fb",
   "metadata": {},
   "outputs": [],
   "source": [
    "model.save('fasttextcnn.h5')"
   ]
  },
  {
   "cell_type": "code",
   "execution_count": 11,
   "id": "41d67e02",
   "metadata": {},
   "outputs": [
    {
     "data": {
      "image/png": "[encoded data removed]",
      "text/plain": [
       "<Figure size 432x288 with 1 Axes>"
      ]
     },
     "metadata": {
      "needs_background": "light"
     },
     "output_type": "display_data"
    }
   ],
   "source": [
    "#plot configuration\n",
    "CB91_Blue = '#2CBDFE'\n",
    "CB91_Green = '#47DBCD'\n",
    "CB91_Pink = '#F3A0F2'\n",
    "CB91_Purple = '#9D2EC5'\n",
    "CB91_Violet = '#661D98'\n",
    "CB91_Amber = '#F5B14C'\n",
    "\n",
    "color_list = [CB91_Blue, CB91_Amber]\n",
    "\n",
    "csfont = {'fontname':'Helvetica'}\n",
    "hfont = {'fontname':'Helvetica'}\n",
    "\n",
    "plt.title('title',**csfont)\n",
    "plt.xlabel('xlabel', **hfont)\n",
    "plt.rcParams['axes.prop_cycle'] = plt.cycler(color=color_list)"
   ]
  },
  {
   "cell_type": "code",
   "execution_count": 12,
   "id": "ae996827",
   "metadata": {},
   "outputs": [
    {
     "data": {
      "image/png": "[encoded data removed]",
      "text/plain": [
       "<Figure size 432x288 with 1 Axes>"
      ]
     },
     "metadata": {
      "needs_background": "light"
     },
     "output_type": "display_data"
    }
   ],
   "source": [
    "# plot loss during training\n",
    "plt.subplot(212)\n",
    "plt.title('MODEL LOSS\\n(Multilabel TFIDF fastText CNN 8020)\\n', fontsize = 13)\n",
    "plt.plot(model_history.history['loss'], label='training', linewidth=2)\n",
    "plt.plot(model_history.history['val_loss'], label='validation', linewidth=2)\n",
    "plt.legend(frameon=False)\n",
    "plt.xlabel(\"Epoch\")\n",
    "plt.ylabel(\"Loss\")\n",
    "plt.show()"
   ]
  },
  {
   "cell_type": "code",
   "execution_count": 13,
   "id": "1957d89a",
   "metadata": {},
   "outputs": [
    {
     "data": {
      "image/png": "[encoded data removed]",
      "text/plain": [
       "<Figure size 432x288 with 1 Axes>"
      ]
     },
     "metadata": {
      "needs_background": "light"
     },
     "output_type": "display_data"
    }
   ],
   "source": [
    "# plot accuracy during training\n",
    "plt.subplot(212)\n",
    "plt.title('MODEL ACCURACY\\n(Multilabel TFIDF fastText CNN 8020)\\n', fontsize = 13)\n",
    "plt.plot(model_history.history['accuracy'], label='training', linewidth=2)\n",
    "plt.plot(model_history.history['val_accuracy'], label='validation', linewidth=2)\n",
    "plt.legend(frameon=False)\n",
    "plt.xlabel(\"Epoch\")\n",
    "plt.ylabel(\"Accuracy\")\n",
    "plt.show()"
   ]
  },
  {
   "cell_type": "code",
   "execution_count": 14,
   "id": "be36f9d7",
   "metadata": {},
   "outputs": [
    {
     "name": "stdout",
     "output_type": "stream",
     "text": [
      "192/192 [==============================] - 1s 4ms/step\n"
     ]
    }
   ],
   "source": [
    "ytrain_result = model.predict(word_seq_train)"
   ]
  },
  {
   "cell_type": "code",
   "execution_count": 15,
   "id": "ddb14c4a",
   "metadata": {},
   "outputs": [
    {
     "name": "stdout",
     "output_type": "stream",
     "text": [
      "48/48 [==============================] - 0s 4ms/step\n",
      "[[0.35740802 0.01790708 0.6246849 ]\n",
      " [0.55297124 0.12390015 0.3231286 ]\n",
      " [0.50697553 0.02408285 0.46894157]\n",
      " ...\n",
      " [0.48449683 0.0321686  0.4833346 ]\n",
      " [0.1303611  0.5274079  0.34223104]\n",
      " [0.23293406 0.05878513 0.70828086]]\n"
     ]
    }
   ],
   "source": [
    "ytest_result = model.predict(word_seq_test)\n",
    "print(ytest_result)"
   ]
  },
  {
   "cell_type": "code",
   "execution_count": 16,
   "id": "3d75b5f2",
   "metadata": {},
   "outputs": [
    {
     "name": "stdout",
     "output_type": "stream",
     "text": [
      "192/192 [==============================] - 1s 4ms/step\n",
      "48/48 [==============================] - 0s 5ms/step\n",
      "\n",
      "-------------------- Model Summary --------------------\n",
      "Model: \"sequential\"\n",
      "_________________________________________________________________\n",
      " Layer (type)                Output Shape              Param #   \n",
      "=================================================================\n",
      " embedding (Embedding)       (None, 39, 300)           4062900   \n",
      "                                                                 \n",
      " conv1d (Conv1D)             (None, 39, 256)           153856    \n",
      "                                                                 \n",
      " max_pooling1d (MaxPooling1D  (None, 19, 256)          0         \n",
      " )                                                               \n",
      "                                                                 \n",
      " conv1d_1 (Conv1D)           (None, 19, 64)            65600     \n",
      "                                                                 \n",
      " global_max_pooling1d (Globa  (None, 64)               0         \n",
      " lMaxPooling1D)                                                  \n",
      "                                                                 \n",
      " dropout (Dropout)           (None, 64)                0         \n",
      "                                                                 \n",
      " dense (Dense)               (None, 3)                 195       \n",
      "                                                                 \n",
      "=================================================================\n",
      "Total params: 4,282,551\n",
      "Trainable params: 219,651\n",
      "Non-trainable params: 4,062,900\n",
      "_________________________________________________________________\n",
      "\n",
      "---------- Evaluation on Training Data ----------\n",
      "              precision    recall  f1-score   support\n",
      "\n",
      "           0     0.7701    0.7563    0.7632      2060\n",
      "           1     0.8446    0.8713    0.8578      2052\n",
      "           2     0.6966    0.6870    0.6918      2032\n",
      "\n",
      "    accuracy                         0.7718      6144\n",
      "   macro avg     0.7704    0.7716    0.7709      6144\n",
      "weighted avg     0.7707    0.7718    0.7711      6144\n",
      "\n",
      "\n",
      "---------- Evaluation on Test Data ----------\n",
      "              precision    recall  f1-score   support\n",
      "\n",
      "           0     0.6164    0.6460    0.6309       500\n",
      "           1     0.7591    0.6949    0.7256       508\n",
      "           2     0.5649    0.5852    0.5749       528\n",
      "\n",
      "    accuracy                         0.6413      1536\n",
      "   macro avg     0.6468    0.6420    0.6438      1536\n",
      "weighted avg     0.6459    0.6413    0.6429      1536\n",
      "\n",
      "\n"
     ]
    }
   ],
   "source": [
    "##### Step 7 - Model Performance Summary\n",
    "# Predict class labels on training data\n",
    "pred_labels_train = model.predict(word_seq_train)\n",
    "# Predict class labels on a test data\n",
    "pred_labels_test = model.predict(word_seq_test)\n",
    "\n",
    "#print(pred_labels_train)\n",
    "pred_labels_train_1 = []\n",
    "\n",
    "pred_labels_test_1 = []\n",
    "\n",
    "pred_labels_test_y = []\n",
    "\n",
    "for i in range(len(pred_labels_train)):\n",
    "    label = np.argmax(pred_labels_train[i])\n",
    "    pred_labels_train_1.append(label)\n",
    "    \n",
    "for i in range(len(pred_labels_test)):\n",
    "    label = np.argmax(pred_labels_test[i]) \n",
    "    pred_labels_test_1.append(label)\n",
    "    pred_labels_test_y.append(pred_labels_test[i][label])\n",
    "    \n",
    "print(\"\")\n",
    "print('-------------------- Model Summary --------------------')\n",
    "model.summary() # print model summary\n",
    "print(\"\")\n",
    "print('---------- Evaluation on Training Data ----------')\n",
    "print(classification_report(np_train_y, pred_labels_train_1, digits = 4))\n",
    "print(\"\")\n",
    "\n",
    "print('---------- Evaluation on Test Data ----------')\n",
    "print(classification_report(np_test_y, pred_labels_test_1, digits = 4))\n",
    "print(\"\")"
   ]
  },
  {
   "cell_type": "code",
   "execution_count": 17,
   "id": "7b72e5f9",
   "metadata": {},
   "outputs": [
    {
     "name": "stdout",
     "output_type": "stream",
     "text": [
      "[[323  41 136]\n",
      " [ 53 353 102]\n",
      " [148  71 309]]\n"
     ]
    },
    {
     "data": {
      "image/png": "[encoded data removed]",
      "text/plain": [
       "<Figure size 576x432 with 2 Axes>"
      ]
     },
     "metadata": {},
     "output_type": "display_data"
    }
   ],
   "source": [
    "cf_matrix = confusion_matrix(np_test_y, pred_labels_test_1)\n",
    "print(cf_matrix)\n",
    "\n",
    "sns.set(rc={\"figure.figsize\":(8, 6)})\n",
    "ax = sns.heatmap(cf_matrix/np.sum(cf_matrix), annot=True, xticklabels = ['Positive', 'Negative', 'Neutral'], yticklabels = ['Positive', 'Negative', 'Neutral'],\n",
    "            fmt='.2%', cmap='Blues')\n",
    "\n",
    "plt.title('Confusion Matrix\\n(Multilabel fastText CNN 8020)\\n', fontsize = 13)\n",
    "plt.show()"
   ]
  },
  {
   "cell_type": "code",
   "execution_count": 18,
   "id": "078ea6af",
   "metadata": {},
   "outputs": [
    {
     "data": {
      "text/html": [
       "<div>\n",
       "<style scoped>\n",
       "    .dataframe tbody tr th:only-of-type {\n",
       "        vertical-align: middle;\n",
       "    }\n",
       "\n",
       "    .dataframe tbody tr th {\n",
       "        vertical-align: top;\n",
       "    }\n",
       "\n",
       "    .dataframe thead th {\n",
       "        text-align: right;\n",
       "    }\n",
       "</style>\n",
       "<table border=\"1\" class=\"dataframe\">\n",
       "  <thead>\n",
       "    <tr style=\"text-align: right;\">\n",
       "      <th></th>\n",
       "      <th>Tweet</th>\n",
       "      <th>Prediction</th>\n",
       "      <th>Prediction Value</th>\n",
       "    </tr>\n",
       "  </thead>\n",
       "  <tbody>\n",
       "    <tr>\n",
       "      <th>0</th>\n",
       "      <td>[presidente, bise, presidente, kiko, pangilinan]</td>\n",
       "      <td>2</td>\n",
       "      <td>0.624685</td>\n",
       "    </tr>\n",
       "    <tr>\n",
       "      <th>1</th>\n",
       "      <td>[yes, future, president, lang, sakalam]</td>\n",
       "      <td>0</td>\n",
       "      <td>0.552971</td>\n",
       "    </tr>\n",
       "    <tr>\n",
       "      <th>2</th>\n",
       "      <td>[malaking, insulto, mamamayan, kampanyador, vo...</td>\n",
       "      <td>0</td>\n",
       "      <td>0.506976</td>\n",
       "    </tr>\n",
       "    <tr>\n",
       "      <th>3</th>\n",
       "      <td>[inumpisahan, magigiting, ofw...(7)bongbong, win]</td>\n",
       "      <td>0</td>\n",
       "      <td>0.521356</td>\n",
       "    </tr>\n",
       "    <tr>\n",
       "      <th>4</th>\n",
       "      <td>[gobyernong, tapat, angat, buhay, si, sab, nak...</td>\n",
       "      <td>0</td>\n",
       "      <td>0.984135</td>\n",
       "    </tr>\n",
       "    <tr>\n",
       "      <th>...</th>\n",
       "      <td>...</td>\n",
       "      <td>...</td>\n",
       "      <td>...</td>\n",
       "    </tr>\n",
       "    <tr>\n",
       "      <th>1531</th>\n",
       "      <td>[potanginaaa]</td>\n",
       "      <td>2</td>\n",
       "      <td>0.390742</td>\n",
       "    </tr>\n",
       "    <tr>\n",
       "      <th>1532</th>\n",
       "      <td>[days, nalang, bakla, palam, kayo, advance, ny...</td>\n",
       "      <td>1</td>\n",
       "      <td>0.993325</td>\n",
       "    </tr>\n",
       "    <tr>\n",
       "      <th>1533</th>\n",
       "      <td>[next, major, ayuda, bet, sana, donbelle, pres...</td>\n",
       "      <td>0</td>\n",
       "      <td>0.484497</td>\n",
       "    </tr>\n",
       "    <tr>\n",
       "      <th>1534</th>\n",
       "      <td>[letter, means, president, asan, nga, ba, yung]</td>\n",
       "      <td>1</td>\n",
       "      <td>0.527408</td>\n",
       "    </tr>\n",
       "    <tr>\n",
       "      <th>1535</th>\n",
       "      <td>[know, youre, using, stepping, stone, soon, pr...</td>\n",
       "      <td>2</td>\n",
       "      <td>0.708281</td>\n",
       "    </tr>\n",
       "  </tbody>\n",
       "</table>\n",
       "<p>1536 rows × 3 columns</p>\n",
       "</div>"
      ],
      "text/plain": [
       "                                                  Tweet  Prediction  \\\n",
       "0      [presidente, bise, presidente, kiko, pangilinan]           2   \n",
       "1               [yes, future, president, lang, sakalam]           0   \n",
       "2     [malaking, insulto, mamamayan, kampanyador, vo...           0   \n",
       "3     [inumpisahan, magigiting, ofw...(7)bongbong, win]           0   \n",
       "4     [gobyernong, tapat, angat, buhay, si, sab, nak...           0   \n",
       "...                                                 ...         ...   \n",
       "1531                                      [potanginaaa]           2   \n",
       "1532  [days, nalang, bakla, palam, kayo, advance, ny...           1   \n",
       "1533  [next, major, ayuda, bet, sana, donbelle, pres...           0   \n",
       "1534    [letter, means, president, asan, nga, ba, yung]           1   \n",
       "1535  [know, youre, using, stepping, stone, soon, pr...           2   \n",
       "\n",
       "      Prediction Value  \n",
       "0             0.624685  \n",
       "1             0.552971  \n",
       "2             0.506976  \n",
       "3             0.521356  \n",
       "4             0.984135  \n",
       "...                ...  \n",
       "1531          0.390742  \n",
       "1532          0.993325  \n",
       "1533          0.484497  \n",
       "1534          0.527408  \n",
       "1535          0.708281  \n",
       "\n",
       "[1536 rows x 3 columns]"
      ]
     },
     "execution_count": 18,
     "metadata": {},
     "output_type": "execute_result"
    }
   ],
   "source": [
    "test_results = pd.DataFrame(list(zip(x_test,pred_labels_test_1, pred_labels_test_y)), columns = ['Tweet','Prediction', 'Prediction Value'])\n",
    "test_results "
   ]
  },
  {
   "cell_type": "code",
   "execution_count": 19,
   "id": "128c48f2",
   "metadata": {},
   "outputs": [],
   "source": [
    "#Saving labels to be used on other files\n",
    "true_labels = open('true_labels.pkl', 'wb')\n",
    "pickle.dump(np_test_y,true_labels)\n",
    "true_labels.close()\n",
    "\n",
    "predicted_labels = open('fastTextCNN_predicted_labels.pkl', 'wb')\n",
    "pickle.dump(pred_labels_test_1,predicted_labels)\n",
    "predicted_labels.close()\n",
    "\n",
    "fastTextCNN_test_results = open('fastTextCNN_test_results.pkl', 'wb')\n",
    "pickle.dump(test_results,fastTextCNN_test_results)\n",
    "fastTextCNN_test_results.close()"
   ]
  },
  {
   "cell_type": "code",
   "execution_count": null,
   "id": "bcf7b4f8",
   "metadata": {},
   "outputs": [],
   "source": []
  }
 ],
 "metadata": {
  "kernelspec": {
   "display_name": "Python 3",
   "language": "python",
   "name": "python3"
  },
  "language_info": {
   "codemirror_mode": {
    "name": "ipython",
    "version": 3
   },
   "file_extension": ".py",
   "mimetype": "text/x-python",
   "name": "python",
   "nbconvert_exporter": "python",
   "pygments_lexer": "ipython3",
   "version": "3.8.8"
  }
 },
 "nbformat": 4,
 "nbformat_minor": 5
}
