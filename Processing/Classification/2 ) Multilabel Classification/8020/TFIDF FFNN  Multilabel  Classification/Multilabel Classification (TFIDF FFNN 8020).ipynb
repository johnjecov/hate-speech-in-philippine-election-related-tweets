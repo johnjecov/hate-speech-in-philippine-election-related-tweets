{
 "cells": [
  {
   "cell_type": "code",
   "execution_count": 1,
   "id": "fd2c75b0",
   "metadata": {},
   "outputs": [],
   "source": [
    "import pandas as pd\n",
    "import csv\n",
    "import nltk\n",
    "import pickle\n",
    "import numpy as np\n",
    "from sklearn.feature_extraction.text import TfidfVectorizer\n",
    "from sklearn.feature_selection import SelectPercentile, f_classif\n",
    "import keras\n",
    "import tensorflow as tf\n",
    "from keras import Input\n",
    "from keras import optimizers\n",
    "from keras import backend as K\n",
    "import torch\n",
    "from keras import regularizers\n",
    "from keras.utils import np_utils\n",
    "from sklearn.preprocessing import LabelEncoder\n",
    "from sklearn.datasets import make_blobs\n",
    "from keras.models import Sequential\n",
    "from sklearn.metrics import accuracy_score, confusion_matrix, classification_report\n",
    "from keras.layers import Dense, Activation, Dropout, Flatten\n",
    "from keras.layers import Embedding, Conv1D, MaxPooling1D, GlobalMaxPooling1D \n",
    "from keras.utils import plot_model\n",
    "from keras.preprocessing import sequence\n",
    "from keras.preprocessing.text import Tokenizer\n",
    "from keras.callbacks import EarlyStopping\n",
    "from sklearn.preprocessing import MinMaxScaler\n",
    "import matplotlib.pyplot as plt\n",
    "from itertools import chain\n",
    "import seaborn as sns\n",
    "from matplotlib import rcParams"
   ]
  },
  {
   "cell_type": "code",
   "execution_count": 2,
   "id": "9008d8c2",
   "metadata": {},
   "outputs": [],
   "source": [
    "#OPEN DATA from pickle files\n",
    "#x_train, x_test, y_train, y_test\n",
    "\n",
    "with open('x_train.pkl', 'rb') as file:\n",
    "    x_train = pickle.load(file)\n",
    "    \n",
    "with open('x_test.pkl', 'rb') as file:\n",
    "    x_test = pickle.load(file)\n",
    "\n",
    "with open('y_train.pkl', 'rb') as file:\n",
    "    y_train = pickle.load(file)\n",
    "    \n",
    "with open('y_test.pkl', 'rb') as file:\n",
    "    y_test = pickle.load(file)\n",
    "    \n",
    "with open('tweet_collection.pkl', 'rb') as file:\n",
    "    tweet_collection = pickle.load(file)"
   ]
  },
  {
   "cell_type": "code",
   "execution_count": 3,
   "id": "2649495d",
   "metadata": {},
   "outputs": [
    {
     "name": "stdout",
     "output_type": "stream",
     "text": [
      "6144\n"
     ]
    }
   ],
   "source": [
    "print(len(x_train))"
   ]
  },
  {
   "cell_type": "code",
   "execution_count": 4,
   "id": "d8541478",
   "metadata": {},
   "outputs": [],
   "source": [
    "#Convert Labels from Strings to categorical Integers {Non-Hate = 1, Hate = 0}\n",
    "\n",
    "df_ytrain = pd.DataFrame(y_train, columns = ['Label'])\n",
    "df_ytest = pd.DataFrame(y_test, columns = ['Label'])\n",
    "\n",
    "#flatten training set for fitting on tfidf\n",
    "x_train_fit = list(chain.from_iterable(x_train))\n",
    "\n",
    "mapping = {'Positive': 0, 'Negative': 1, 'Neutral':2}\n",
    "df_ytrain = df_ytrain.replace({'Label': mapping})\n",
    "df_ytest = df_ytest.replace({'Label': mapping})\n",
    "\n",
    "\n",
    "train_y = df_ytrain['Label'].tolist()\n",
    "test_y = df_ytest['Label'].tolist()\n",
    "\n",
    "np_train_y = np.asarray(train_y)\n",
    "np_test_y = np.asarray(test_y)"
   ]
  },
  {
   "cell_type": "code",
   "execution_count": 5,
   "id": "bce23422",
   "metadata": {},
   "outputs": [
    {
     "name": "stdout",
     "output_type": "stream",
     "text": [
      "Sentence\n",
      ": presidente bise presidente kiko pangilinan\n",
      "True Value: Positive\n",
      "Converted: 0\n",
      "~~~~~~~~~~~\n",
      "\n",
      "Sentence\n",
      ": yes future president lang sakalam\n",
      "True Value: Positive\n",
      "Converted: 0\n",
      "~~~~~~~~~~~\n",
      "\n",
      "Sentence\n",
      ": malaking insulto mamamayan kampanyador volunteers myembro partido nagbuhos buong oras lakas enerhiya pangangampanya gabriela women's party kina neri colmenares elmer labog vp kiko pangilinan\n",
      "True Value: Neutral\n",
      "Converted: 2\n",
      "~~~~~~~~~~~\n",
      "\n",
      "Sentence\n",
      ": inumpisahan magigiting ofw...(7)bongbong win\n",
      "True Value: Negative\n",
      "Converted: 1\n",
      "~~~~~~~~~~~\n",
      "\n",
      "Sentence\n",
      ": gobyernong tapat angat buhay si sab nakiki-isa pagsuporta kay vice president senator kiko pangilinan kasama tropa senatorial slate bayan matagal nating pinapangarap tara samahan ninyo kulayan\n",
      "True Value: Positive\n",
      "Converted: 0\n",
      "~~~~~~~~~~~\n",
      "\n",
      "Sentence\n",
      ": saludo po sa'yo madam tapat mabuti po lagi naming pipiliin\n",
      "True Value: Positive\n",
      "Converted: 0\n",
      "~~~~~~~~~~~\n",
      "\n",
      "Sentence\n",
      ": labor leader closing statement says enough change president there's need change systems policies benefit rich\n",
      "True Value: Neutral\n",
      "Converted: 2\n",
      "~~~~~~~~~~~\n",
      "\n",
      "Sentence\n",
      ": nuisance candidate lang ata\n",
      "True Value: Negative\n",
      "Converted: 1\n",
      "~~~~~~~~~~~\n",
      "\n",
      "Sentence\n",
      ": high time descends upon bobong play little smni field eat alive dun nakakulong lulong biktima propaganda stir disillusioned little boy makoy\n",
      "True Value: Negative\n",
      "Converted: 1\n",
      "~~~~~~~~~~~\n",
      "\n",
      "Sentence\n",
      ": sigurado iboto alamin si si kiko\n",
      "True Value: Positive\n",
      "Converted: 0\n",
      "~~~~~~~~~~~\n",
      "\n"
     ]
    }
   ],
   "source": [
    "#Testing Encoding and Actual Values\n",
    "for i in range(10):\n",
    "    print(\"Sentence\\n: \",\" \".join(str(item) for item in x_test[i]),\"\\n\",\"True Value: \", y_test[i], \"\\nConverted: \",test_y[i],\"\\n~~~~~~~~~~~\\n\",sep=\"\")"
   ]
  },
  {
   "cell_type": "code",
   "execution_count": 6,
   "id": "b6927f82",
   "metadata": {},
   "outputs": [
    {
     "data": {
      "text/plain": [
       "SelectPercentile(percentile=40)"
      ]
     },
     "execution_count": 6,
     "metadata": {},
     "output_type": "execute_result"
    }
   ],
   "source": [
    "#TFIDF, classifer building using the training dataset of tweets using a maximum features of the top 40%\n",
    "\n",
    "def dummy_fun(doc):\n",
    "    return doc\n",
    "\n",
    "tfidf = TfidfVectorizer(\n",
    "    analyzer='word',\n",
    "    tokenizer=dummy_fun,\n",
    "    preprocessor=dummy_fun,\n",
    "    token_pattern=None)  \n",
    "\n",
    "#classifier building/ fitting of training dataset to tfidf\n",
    "fitted_training_x = tfidf.fit_transform(x_train)\n",
    "fitted_testing_x = tfidf.transform(x_test)\n",
    "\n",
    "#transform based on top 40 percent features\n",
    "selector = SelectPercentile(f_classif, percentile = 40)\n",
    "selector.fit(fitted_training_x, train_y)"
   ]
  },
  {
   "cell_type": "code",
   "execution_count": 7,
   "id": "0b7ef98f",
   "metadata": {},
   "outputs": [],
   "source": [
    "#Convert tweet tokens into vectors using the classifier built using tfidf\n",
    "\n",
    "\n",
    "x_train_vectorized = selector.transform(fitted_training_x).toarray()\n",
    "x_test_vectorized = selector.transform(fitted_testing_x).toarray()\n",
    "\n",
    "number_of_features = len(x_train_vectorized[0])"
   ]
  },
  {
   "cell_type": "code",
   "execution_count": 8,
   "id": "40cd2778",
   "metadata": {},
   "outputs": [
    {
     "name": "stdout",
     "output_type": "stream",
     "text": [
      "training CNN ...\n",
      "Model: \"sequential\"\n",
      "_________________________________________________________________\n",
      " Layer (type)                Output Shape              Param #   \n",
      "=================================================================\n",
      " dense (Dense)               (None, 1000)              5625000   \n",
      "                                                                 \n",
      " dropout (Dropout)           (None, 1000)              0         \n",
      "                                                                 \n",
      " dense_1 (Dense)             (None, 500)               500500    \n",
      "                                                                 \n",
      " dropout_1 (Dropout)         (None, 500)               0         \n",
      "                                                                 \n",
      " dense_2 (Dense)             (None, 50)                25050     \n",
      "                                                                 \n",
      " dropout_2 (Dropout)         (None, 50)                0         \n",
      "                                                                 \n",
      " dense_3 (Dense)             (None, 3)                 153       \n",
      "                                                                 \n",
      "=================================================================\n",
      "Total params: 6,150,703\n",
      "Trainable params: 6,150,703\n",
      "Non-trainable params: 0\n",
      "_________________________________________________________________\n"
     ]
    }
   ],
   "source": [
    "#FFNN MODEL\n",
    "print(\"training CNN ...\")\n",
    "\n",
    "#create model\n",
    "model = Sequential()\n",
    "model.add(Input(shape=(number_of_features,), name='Input-Layer'))\n",
    "model.add(Dense(1000, activation = 'relu'))\n",
    "model.add(Dropout(0.5))\n",
    "model.add(Dense(500, activation = 'relu'))\n",
    "model.add(Dropout(0.5))\n",
    "model.add(Dense(50, activation = 'relu'))\n",
    "model.add(Dropout(0.5))\n",
    "model.add(Dense(3, activation='softmax'))\n",
    "\n",
    "#optimizer using the default values\n",
    "adam = optimizers.Adam(learning_rate=0.001, beta_1=0.9, beta_2=0.999, epsilon=1e-08, decay=0.0)\n",
    "\n",
    "#compile model\n",
    "model.compile(loss='sparse_categorical_crossentropy', optimizer=adam, metrics=['accuracy'])\n",
    "model.summary()"
   ]
  },
  {
   "cell_type": "code",
   "execution_count": 9,
   "id": "d55a7888",
   "metadata": {},
   "outputs": [
    {
     "name": "stdout",
     "output_type": "stream",
     "text": [
      "Epoch 1/5\n",
      "173/173 [==============================] - 5s 25ms/step - loss: 0.9084 - accuracy: 0.5448 - val_loss: 0.6768 - val_accuracy: 0.7382\n",
      "Epoch 2/5\n",
      "173/173 [==============================] - 4s 23ms/step - loss: 0.5798 - accuracy: 0.7672 - val_loss: 0.5951 - val_accuracy: 0.7610\n",
      "Epoch 3/5\n",
      "173/173 [==============================] - 4s 23ms/step - loss: 0.3703 - accuracy: 0.8609 - val_loss: 0.6623 - val_accuracy: 0.7577\n",
      "Epoch 4/5\n",
      "173/173 [==============================] - 4s 24ms/step - loss: 0.2604 - accuracy: 0.9020 - val_loss: 0.8347 - val_accuracy: 0.7431\n",
      "Epoch 5/5\n",
      "173/173 [==============================] - 4s 24ms/step - loss: 0.2054 - accuracy: 0.9193 - val_loss: 0.8070 - val_accuracy: 0.7577\n"
     ]
    }
   ],
   "source": [
    "#fit dataset and model\n",
    "##### Step 5 - Fit keras model on the dataset\n",
    "model_history = model.fit(x_train_vectorized, # input data\n",
    "          np_train_y, # target data\n",
    "          epochs=5, # default=1, Number of epochs to train the model. An epoch is an iteration over the entire x and y data provided\n",
    "          verbose='auto', # default='auto', ('auto', 0, 1, or 2). Verbosity mode. 0 = silent, 1 = progress bar, 2 = one line per epoch. 'auto' defaults to 1 for most cases, but 2 when used with ParameterServerStrategy.\n",
    "          validation_split = 0.1\n",
    "         )\n",
    "\n",
    "model.save('cabasag_model.h5')"
   ]
  },
  {
   "cell_type": "code",
   "execution_count": 10,
   "id": "5fbf25b8",
   "metadata": {},
   "outputs": [
    {
     "name": "stdout",
     "output_type": "stream",
     "text": [
      "192/192 [==============================] - 1s 6ms/step - loss: 0.1977 - accuracy: 0.9276\n",
      "[0.19766207039356232, 0.9275715947151184]\n"
     ]
    }
   ],
   "source": [
    "#test for accuracies\n",
    "\n",
    "results_training = model.evaluate(x_train_vectorized, np_train_y)\n",
    "print(results_training)"
   ]
  },
  {
   "cell_type": "code",
   "execution_count": 11,
   "id": "330ff069",
   "metadata": {},
   "outputs": [
    {
     "name": "stdout",
     "output_type": "stream",
     "text": [
      "48/48 [==============================] - 0s 5ms/step - loss: 1.2767 - accuracy: 0.6380\n",
      "[1.2766739130020142, 0.6380208134651184]\n"
     ]
    }
   ],
   "source": [
    "#test for accuracies\n",
    "\n",
    "results_testing = model.evaluate(x_test_vectorized, np_test_y)\n",
    "print(results_testing)"
   ]
  },
  {
   "cell_type": "code",
   "execution_count": 12,
   "id": "51fd3967",
   "metadata": {},
   "outputs": [
    {
     "data": {
      "image/png": "[encoded data removed]",
      "text/plain": [
       "<Figure size 432x288 with 1 Axes>"
      ]
     },
     "metadata": {
      "needs_background": "light"
     },
     "output_type": "display_data"
    }
   ],
   "source": [
    "#plot configuration\n",
    "CB91_Blue = '#2CBDFE'\n",
    "CB91_Green = '#47DBCD'\n",
    "CB91_Pink = '#F3A0F2'\n",
    "CB91_Purple = '#9D2EC5'\n",
    "CB91_Violet = '#661D98'\n",
    "CB91_Amber = '#F5B14C'\n",
    "\n",
    "color_list = [CB91_Blue, CB91_Amber]\n",
    "\n",
    "csfont = {'fontname':'Helvetica'}\n",
    "hfont = {'fontname':'Helvetica'}\n",
    "\n",
    "plt.title('title',**csfont)\n",
    "plt.xlabel('xlabel', **hfont)\n",
    "plt.rcParams['axes.prop_cycle'] = plt.cycler(color=color_list)"
   ]
  },
  {
   "cell_type": "code",
   "execution_count": 13,
   "id": "8f4befa9",
   "metadata": {},
   "outputs": [
    {
     "data": {
      "image/png": "[encoded data removed]",
      "text/plain": [
       "<Figure size 432x288 with 1 Axes>"
      ]
     },
     "metadata": {
      "needs_background": "light"
     },
     "output_type": "display_data"
    }
   ],
   "source": [
    "# plot loss during training\n",
    "plt.subplot(212)\n",
    "plt.title('MODEL LOSS\\n(Multilabel TFIDF FFNN 8020)\\n', fontsize = 13)\n",
    "plt.plot(model_history.history['loss'], label='training', linewidth=2)\n",
    "plt.plot(model_history.history['val_loss'], label='validation', linewidth=2)\n",
    "plt.legend(frameon=False)\n",
    "plt.xlabel(\"Epoch\")\n",
    "plt.ylabel(\"Loss\")\n",
    "plt.show()"
   ]
  },
  {
   "cell_type": "code",
   "execution_count": 14,
   "id": "9347e02b",
   "metadata": {},
   "outputs": [
    {
     "data": {
      "image/png": "[encoded data removed]",
      "text/plain": [
       "<Figure size 432x288 with 1 Axes>"
      ]
     },
     "metadata": {
      "needs_background": "light"
     },
     "output_type": "display_data"
    }
   ],
   "source": [
    "# plot accuracy during training\n",
    "plt.subplot(212)\n",
    "plt.title('MODEL ACCURACY\\n(Multilabel TFIDF FFNN 8020)\\n', fontsize = 13)\n",
    "plt.plot(model_history.history['accuracy'], label='training', linewidth=2)\n",
    "plt.plot(model_history.history['val_accuracy'], label='validation', linewidth=2)\n",
    "plt.legend(frameon=False)\n",
    "plt.xlabel(\"Epoch\")\n",
    "plt.ylabel(\"Accuracy\")\n",
    "plt.show()"
   ]
  },
  {
   "cell_type": "code",
   "execution_count": 15,
   "id": "a8d6be82",
   "metadata": {},
   "outputs": [
    {
     "name": "stdout",
     "output_type": "stream",
     "text": [
      "192/192 [==============================] - 1s 5ms/step\n",
      "48/48 [==============================] - 0s 6ms/step\n",
      "\n",
      "-------------------- Model Summary --------------------\n",
      "\n",
      "Model: \"sequential\"\n",
      "_________________________________________________________________\n",
      " Layer (type)                Output Shape              Param #   \n",
      "=================================================================\n",
      " dense (Dense)               (None, 1000)              5625000   \n",
      "                                                                 \n",
      " dropout (Dropout)           (None, 1000)              0         \n",
      "                                                                 \n",
      " dense_1 (Dense)             (None, 500)               500500    \n",
      "                                                                 \n",
      " dropout_1 (Dropout)         (None, 500)               0         \n",
      "                                                                 \n",
      " dense_2 (Dense)             (None, 50)                25050     \n",
      "                                                                 \n",
      " dropout_2 (Dropout)         (None, 50)                0         \n",
      "                                                                 \n",
      " dense_3 (Dense)             (None, 3)                 153       \n",
      "                                                                 \n",
      "=================================================================\n",
      "Total params: 6,150,703\n",
      "Trainable params: 6,150,703\n",
      "Non-trainable params: 0\n",
      "_________________________________________________________________\n",
      "\n",
      "\n",
      "---------- Evaluation on Training Data ----------\n",
      "              precision    recall  f1-score   support\n",
      "\n",
      "           0     0.9037    0.9199    0.9117      2060\n",
      "           1     0.9652    0.9596    0.9624      2052\n",
      "           2     0.9143    0.9031    0.9086      2032\n",
      "\n",
      "    accuracy                         0.9276      6144\n",
      "   macro avg     0.9277    0.9275    0.9276      6144\n",
      "weighted avg     0.9277    0.9276    0.9276      6144\n",
      "\n",
      "\n",
      "\n",
      "---------- Evaluation on Test Data ----------\n",
      "              precision    recall  f1-score   support\n",
      "\n",
      "           0     0.6012    0.6240    0.6124       500\n",
      "           1     0.7485    0.7559    0.7522       508\n",
      "           2     0.5635    0.5379    0.5504       528\n",
      "\n",
      "    accuracy                         0.6380      1536\n",
      "   macro avg     0.6377    0.6393    0.6383      1536\n",
      "weighted avg     0.6370    0.6380    0.6373      1536\n",
      "\n",
      "\n"
     ]
    }
   ],
   "source": [
    "#use predictions on test data\n",
    "##### Step 6 - Use model to make predictions\n",
    "# Predict class labels on training data\n",
    "pred_labels_train = model.predict(x_train_vectorized)\n",
    "# Predict class labels on a test data\n",
    "pred_labels_test = model.predict(x_test_vectorized)\n",
    "\n",
    "#print(pred_labels_train)\n",
    "pred_labels_train_1 = []\n",
    "\n",
    "pred_labels_test_1 = []\n",
    "\n",
    "pred_labels_test_y = []\n",
    "\n",
    "\n",
    "for i in range(len(pred_labels_train)):\n",
    "    label = np.argmax(pred_labels_train[i])\n",
    "    pred_labels_train_1.append(label)\n",
    "    \n",
    "for i in range(len(pred_labels_test)):\n",
    "    label = np.argmax(pred_labels_test[i]) \n",
    "    pred_labels_test_1.append(label)\n",
    "    pred_labels_test_y.append(pred_labels_test[i][label])\n",
    "\n",
    "##### Step 7 - Model Performance Summary\n",
    "print(\"\")\n",
    "print('-------------------- Model Summary --------------------\\n')\n",
    "model.summary() # print model summary\n",
    "print(\"\")\n",
    "print('\\n---------- Evaluation on Training Data ----------')\n",
    "print(classification_report(np_train_y, pred_labels_train_1, digits = 4))\n",
    "print(\"\")\n",
    "\n",
    "print('\\n---------- Evaluation on Test Data ----------')\n",
    "print(classification_report(np_test_y, pred_labels_test_1, digits = 4))\n",
    "print(\"\")"
   ]
  },
  {
   "cell_type": "code",
   "execution_count": 16,
   "id": "9764815a",
   "metadata": {},
   "outputs": [
    {
     "name": "stdout",
     "output_type": "stream",
     "text": [
      "[[312  39 149]\n",
      " [ 53 384  71]\n",
      " [154  90 284]]\n"
     ]
    },
    {
     "data": {
      "image/png": "[encoded data removed]",
      "text/plain": [
       "<Figure size 576x432 with 2 Axes>"
      ]
     },
     "metadata": {},
     "output_type": "display_data"
    }
   ],
   "source": [
    "cf_matrix = confusion_matrix(np_test_y, pred_labels_test_1)\n",
    "print(cf_matrix)\n",
    "\n",
    "sns.set(rc={\"figure.figsize\":(8, 6)})\n",
    "ax = sns.heatmap(cf_matrix/np.sum(cf_matrix), annot=True, xticklabels = ['Positive', 'Negative', 'Neutral'], yticklabels = ['Positive', 'Negative', 'Neutral'],\n",
    "            fmt='.2%', cmap='Blues')\n",
    "\n",
    "plt.title('Confusion Matrix\\n(Multilabel TFIDF FFNN 8020)\\n', fontsize = 13)\n",
    "plt.show()"
   ]
  },
  {
   "cell_type": "code",
   "execution_count": 17,
   "id": "c5116127",
   "metadata": {},
   "outputs": [
    {
     "data": {
      "text/html": [
       "<div>\n",
       "<style scoped>\n",
       "    .dataframe tbody tr th:only-of-type {\n",
       "        vertical-align: middle;\n",
       "    }\n",
       "\n",
       "    .dataframe tbody tr th {\n",
       "        vertical-align: top;\n",
       "    }\n",
       "\n",
       "    .dataframe thead th {\n",
       "        text-align: right;\n",
       "    }\n",
       "</style>\n",
       "<table border=\"1\" class=\"dataframe\">\n",
       "  <thead>\n",
       "    <tr style=\"text-align: right;\">\n",
       "      <th></th>\n",
       "      <th>Tweet</th>\n",
       "      <th>Prediction</th>\n",
       "      <th>Prediction Value</th>\n",
       "    </tr>\n",
       "  </thead>\n",
       "  <tbody>\n",
       "    <tr>\n",
       "      <th>0</th>\n",
       "      <td>[presidente, bise, presidente, kiko, pangilinan]</td>\n",
       "      <td>2</td>\n",
       "      <td>0.625015</td>\n",
       "    </tr>\n",
       "    <tr>\n",
       "      <th>1</th>\n",
       "      <td>[yes, future, president, lang, sakalam]</td>\n",
       "      <td>0</td>\n",
       "      <td>0.862531</td>\n",
       "    </tr>\n",
       "    <tr>\n",
       "      <th>2</th>\n",
       "      <td>[malaking, insulto, mamamayan, kampanyador, vo...</td>\n",
       "      <td>2</td>\n",
       "      <td>0.988202</td>\n",
       "    </tr>\n",
       "    <tr>\n",
       "      <th>3</th>\n",
       "      <td>[inumpisahan, magigiting, ofw...(7)bongbong, win]</td>\n",
       "      <td>0</td>\n",
       "      <td>0.929078</td>\n",
       "    </tr>\n",
       "    <tr>\n",
       "      <th>4</th>\n",
       "      <td>[gobyernong, tapat, angat, buhay, si, sab, nak...</td>\n",
       "      <td>0</td>\n",
       "      <td>0.999698</td>\n",
       "    </tr>\n",
       "    <tr>\n",
       "      <th>...</th>\n",
       "      <td>...</td>\n",
       "      <td>...</td>\n",
       "      <td>...</td>\n",
       "    </tr>\n",
       "    <tr>\n",
       "      <th>1531</th>\n",
       "      <td>[potanginaaa]</td>\n",
       "      <td>0</td>\n",
       "      <td>0.393490</td>\n",
       "    </tr>\n",
       "    <tr>\n",
       "      <th>1532</th>\n",
       "      <td>[days, nalang, bakla, palam, kayo, advance, ny...</td>\n",
       "      <td>1</td>\n",
       "      <td>0.999983</td>\n",
       "    </tr>\n",
       "    <tr>\n",
       "      <th>1533</th>\n",
       "      <td>[next, major, ayuda, bet, sana, donbelle, pres...</td>\n",
       "      <td>2</td>\n",
       "      <td>0.562951</td>\n",
       "    </tr>\n",
       "    <tr>\n",
       "      <th>1534</th>\n",
       "      <td>[letter, means, president, asan, nga, ba, yung]</td>\n",
       "      <td>2</td>\n",
       "      <td>0.976382</td>\n",
       "    </tr>\n",
       "    <tr>\n",
       "      <th>1535</th>\n",
       "      <td>[know, youre, using, stepping, stone, soon, pr...</td>\n",
       "      <td>2</td>\n",
       "      <td>0.992701</td>\n",
       "    </tr>\n",
       "  </tbody>\n",
       "</table>\n",
       "<p>1536 rows × 3 columns</p>\n",
       "</div>"
      ],
      "text/plain": [
       "                                                  Tweet  Prediction  \\\n",
       "0      [presidente, bise, presidente, kiko, pangilinan]           2   \n",
       "1               [yes, future, president, lang, sakalam]           0   \n",
       "2     [malaking, insulto, mamamayan, kampanyador, vo...           2   \n",
       "3     [inumpisahan, magigiting, ofw...(7)bongbong, win]           0   \n",
       "4     [gobyernong, tapat, angat, buhay, si, sab, nak...           0   \n",
       "...                                                 ...         ...   \n",
       "1531                                      [potanginaaa]           0   \n",
       "1532  [days, nalang, bakla, palam, kayo, advance, ny...           1   \n",
       "1533  [next, major, ayuda, bet, sana, donbelle, pres...           2   \n",
       "1534    [letter, means, president, asan, nga, ba, yung]           2   \n",
       "1535  [know, youre, using, stepping, stone, soon, pr...           2   \n",
       "\n",
       "      Prediction Value  \n",
       "0             0.625015  \n",
       "1             0.862531  \n",
       "2             0.988202  \n",
       "3             0.929078  \n",
       "4             0.999698  \n",
       "...                ...  \n",
       "1531          0.393490  \n",
       "1532          0.999983  \n",
       "1533          0.562951  \n",
       "1534          0.976382  \n",
       "1535          0.992701  \n",
       "\n",
       "[1536 rows x 3 columns]"
      ]
     },
     "execution_count": 17,
     "metadata": {},
     "output_type": "execute_result"
    }
   ],
   "source": [
    "test_results = pd.DataFrame(list(zip(x_test,pred_labels_test_1, pred_labels_test_y)), columns = ['Tweet','Prediction', 'Prediction Value'])\n",
    "test_results "
   ]
  },
  {
   "cell_type": "code",
   "execution_count": 18,
   "id": "f8962da7",
   "metadata": {},
   "outputs": [],
   "source": [
    "#Saving labels to be used on other files\n",
    "true_labels = open('true_labels.pkl', 'wb')\n",
    "pickle.dump(np_test_y,true_labels)\n",
    "true_labels.close()\n",
    "\n",
    "predicted_labels = open('TFIDFFFNN_predicted_labels.pkl', 'wb')\n",
    "pickle.dump(pred_labels_test_1,predicted_labels)\n",
    "predicted_labels.close()\n",
    "\n",
    "TFIDFFFNN_test_results = open('TFIDFFFNN_test_results.pkl', 'wb')\n",
    "pickle.dump(test_results,TFIDFFFNN_test_results)\n",
    "TFIDFFFNN_test_results.close()"
   ]
  },
  {
   "cell_type": "code",
   "execution_count": 19,
   "id": "6ff68a47",
   "metadata": {},
   "outputs": [],
   "source": [
    "#test_predictions = (model.predict(x_test_vectorized) > 0.5).astype(int)\n",
    "\n",
    "#test_prediction_labels = []\n",
    "\n",
    "#for i in range(len(test_predictions)):\n",
    "    \n",
    "#    trueval = 'Positive'\n",
    "    \n",
    "#    if(test_predictions[i][1] == 1):\n",
    " #       pred = 'Negative'\n",
    "    \n",
    "#    if(test_predictions[i][2] == 1):\n",
    "#        pred = 'Neutral'\n",
    "    \n",
    "#    test_prediction_labels.append(pred)\n",
    "#    print(\"Sentence\\n: \",\" \".join(str(item) for item in x_test[i]),\"\\n\",\"True Value: \", trueval, \"\\nPred: \",pred, \"\\n~~~~~~~~~~~\\n\",sep=\"\")"
   ]
  },
  {
   "cell_type": "code",
   "execution_count": 19,
   "id": "ed51cf6e",
   "metadata": {},
   "outputs": [],
   "source": [
    "#comparison_dataframe = pd.DataFrame(list(zip(x_test,y_test, test_prediction_labels)), columns = ['Tweet','True Label', 'Clasiification Label'])  \n",
    "\n",
    "#with pd.option_context('display.max_rows', None,\n",
    "#                       'display.max_columns', None,\n",
    "#                       'display.precision', 3,\n",
    "#                       ):\n",
    "#    display(comparison_dataframe)"
   ]
  },
  {
   "cell_type": "code",
   "execution_count": null,
   "id": "a20be105",
   "metadata": {},
   "outputs": [],
   "source": []
  }
 ],
 "metadata": {
  "kernelspec": {
   "display_name": "Python 3",
   "language": "python",
   "name": "python3"
  },
  "language_info": {
   "codemirror_mode": {
    "name": "ipython",
    "version": 3
   },
   "file_extension": ".py",
   "mimetype": "text/x-python",
   "name": "python",
   "nbconvert_exporter": "python",
   "pygments_lexer": "ipython3",
   "version": "3.8.8"
  }
 },
 "nbformat": 4,
 "nbformat_minor": 5
}
